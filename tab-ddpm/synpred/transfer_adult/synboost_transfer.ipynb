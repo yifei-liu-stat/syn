{
 "cells": [
  {
   "cell_type": "markdown",
   "metadata": {},
   "source": [
    "Additional experiment on Syn-Boost with transfer learning."
   ]
  },
  {
   "cell_type": "code",
   "execution_count": 1,
   "metadata": {},
   "outputs": [],
   "source": [
    "import torch\n",
    "cuda_device = \"cuda:0\"\n",
    "torch.cuda.set_device(cuda_device)\n",
    "\n",
    "from torch.utils.data import Dataset, DataLoader\n",
    "from torch import nn\n",
    "\n",
    "\n",
    "import pickle\n",
    "from copy import deepcopy\n",
    "from utils_syninf import *\n",
    "from utils_num import *\n",
    "\n",
    "from tqdm import tqdm\n",
    "\n",
    "from scipy.interpolate import splrep, BSpline\n",
    "\n",
    "import pandas as pd\n",
    "import matplotlib.pyplot as plt\n",
    "import seaborn as sns\n",
    "from dython.nominal import associations\n",
    "from sklearn.model_selection import train_test_split\n",
    "from sklearn.compose import ColumnTransformer\n",
    "from sklearn.preprocessing import OneHotEncoder, QuantileTransformer\n",
    "\n",
    "from lightning.pytorch import seed_everything\n",
    "\n",
    "SEED = 2023\n",
    "plt.style.use(\"bmh\")"
   ]
  },
  {
   "cell_type": "code",
   "execution_count": 2,
   "metadata": {},
   "outputs": [],
   "source": [
    "class MySpline:\n",
    "    def __init__(self, x, y, n_interior_knots=5, k=3):\n",
    "        \"\"\"\n",
    "        1-d B-spline for spline smoothing.\n",
    "        x: numpy array of shape (n, 1)\n",
    "        y; numpy array of shape (n, )\n",
    "        n_interior_knots: number of interior knots (-> quantile of x as interior knots of the spline)\n",
    "        k: degree of the spline fit (e.g. 3 for cubic spline)\n",
    "        \"\"\"\n",
    "\n",
    "        # specify spline knots based on quantiles of x\n",
    "        qs = np.linspace(0, 1, n_interior_knots + 2)[1:-1]\n",
    "        knots = np.quantile(x, qs)\n",
    "        t, c, k = splrep(x, y, t=knots, k=k)\n",
    "\n",
    "        dmatrix_raw = BSpline.design_matrix(x.reshape(-1), t, k).toarray()\n",
    "        xtx = np.linalg.pinv(dmatrix_raw.T @ dmatrix_raw)\n",
    "        beta_hat = xtx @ dmatrix_raw.T @ y\n",
    "\n",
    "        sigma_hat = np.sqrt(\n",
    "            np.sum((y - dmatrix_raw @ beta_hat) ** 2) / (len(y) - len(beta_hat))\n",
    "        )\n",
    "\n",
    "        self.tck = (t, c, k)\n",
    "        self.dmatrix_raw = dmatrix_raw\n",
    "        self.xtx = xtx\n",
    "        self.beta_hat = beta_hat\n",
    "        self.sigma_hat = sigma_hat\n",
    "\n",
    "    def pred(self, x):\n",
    "        \"\"\"Predict y given x using beta_hat (estimated from spline) and get SE for the prediction\"\"\"\n",
    "        if len(x.shape) == 2 and x.shape[1] == 1:\n",
    "            x = x.reshape(-1)\n",
    "        dmatrix = BSpline.design_matrix(x, self.tck[0], self.tck[2]).toarray()\n",
    "\n",
    "        y_pred = dmatrix @ self.beta_hat\n",
    "        y_pred_se = self.sigma_hat * np.diag(dmatrix @ self.xtx @ dmatrix.T)\n",
    "\n",
    "        return y_pred, y_pred_se\n",
    "\n",
    "\n",
    "\n",
    "class Adult(Dataset):\n",
    "    def __init__(self, X: torch.Tensor, y: torch.Tensor):\n",
    "        \"\"\"\n",
    "        X should be a torch tensor of shape (n, d), where:\n",
    "        - numerical features are already quantile transformed\n",
    "        - categorical features are already one-hot encoded\n",
    "        \"\"\"\n",
    "        self.X = X\n",
    "        self.y = y\n",
    "\n",
    "    def __len__(self):\n",
    "        return self.X.shape[0]\n",
    "\n",
    "    def __getitem__(self, idx):\n",
    "        return self.X[idx], self.y[idx]\n"
   ]
  },
  {
   "cell_type": "code",
   "execution_count": 3,
   "metadata": {},
   "outputs": [],
   "source": [
    "\n",
    "def gender_transform_x_y(df: pd.DataFrame, transform: ColumnTransformer):\n",
    "    \"\"\"\n",
    "    Transform the data using the pipeline and return X and y\n",
    "    - X will be a torch tensor of shape (n, d)\n",
    "    - y will be a torch tensor of shape (n, )\n",
    "    \"\"\"\n",
    "    X = torch.tensor(transform.transform(df).toarray(), dtype=torch.float32)\n",
    "    y = torch.tensor(df[gender_names_dict[\"y_feature\"]].to_numpy(dtype=int))\n",
    "    return X, y\n",
    "\n",
    "\n",
    "def mlp_val_epoch(model, val_dl, **kwargs):\n",
    "    \"\"\"\n",
    "    Validate at the end of each epoch\n",
    "    - model, val_dl: the model and the validation dataloader\n",
    "    \"\"\"\n",
    "    model.eval()\n",
    "    \n",
    "    val_loss = []\n",
    "    val_correct, val_total = 0, 0\n",
    "    for X, y in val_dl:\n",
    "        X, y = X.to(kwargs[\"cuda_device\"]), y.to(kwargs[\"cuda_device\"])\n",
    "        y_pred = model(X)\n",
    "        loss = kwargs[\"loss_fn\"](y_pred, y)\n",
    "\n",
    "        val_loss.append(loss.item())\n",
    "        val_total += y.shape[0]\n",
    "        val_correct += (y_pred.argmax(dim=1) == y).sum().item()\n",
    "\n",
    "    return np.mean(val_loss), val_correct / val_total\n",
    "\n",
    "\n",
    "def mlp_train_epoch(model, train_dl, optimizer, **kwargs):\n",
    "    \"\"\"\n",
    "    Train the MLP model for one_epoch\n",
    "    - model, train_dl: the model and the training dataloader\n",
    "    \"\"\"\n",
    "    model.train()\n",
    "    \n",
    "    train_loss = []\n",
    "    train_correct, train_total = 0, 0\n",
    "    for X, y in train_dl:\n",
    "        X, y = X.to(kwargs[\"cuda_device\"]), y.to(kwargs[\"cuda_device\"])\n",
    "        y_pred = model(X)\n",
    "        loss = kwargs[\"loss_fn\"](y_pred, y)\n",
    "\n",
    "        optimizer.zero_grad()\n",
    "        loss.backward()\n",
    "        optimizer.step()\n",
    "\n",
    "        train_loss.append(loss.item())\n",
    "        train_total += y.shape[0]\n",
    "        train_correct += (y_pred.argmax(dim=1) == y).sum().item()\n",
    "    \n",
    "    return np.mean(train_loss), train_correct / train_total\n"
   ]
  },
  {
   "cell_type": "code",
   "execution_count": 4,
   "metadata": {},
   "outputs": [],
   "source": [
    "dataset_name = \"adult\"\n",
    "dataset_dir = os.path.join(TDDPM_DIR, f\"data/{dataset_name}\")\n",
    "\n",
    "num_features_list = [\n",
    "    \"age\",\n",
    "    \"fnlwgt\",\n",
    "    \"educationl-num\",\n",
    "    \"capital-gain\",\n",
    "    \"capital-loss\",\n",
    "    \"hours-per-week\",\n",
    "]\n",
    "\n",
    "cat_features_list = [\n",
    "    \"workclass\",\n",
    "    \"education\",\n",
    "    \"marital-status\",\n",
    "    \"occupation\",\n",
    "    \"relationship\",\n",
    "    \"race\",\n",
    "    \"gender\",\n",
    "    \"native-country\",\n",
    "]\n",
    "\n",
    "y_feature = \"income\"  # <= 50K or > 50K\n",
    "\n",
    "is_y_cat = True\n",
    "\n",
    "names_dict = {\n",
    "    \"num_features_list\": num_features_list,\n",
    "    \"cat_features_list\": cat_features_list,\n",
    "    \"y_feature\": y_feature,\n",
    "    \"is_y_cat\": is_y_cat,\n",
    "}\n",
    "gender_names_dict = deepcopy(names_dict)\n",
    "gender_names_dict[\"cat_features_list\"].remove(\"gender\")"
   ]
  },
  {
   "cell_type": "code",
   "execution_count": 5,
   "metadata": {},
   "outputs": [],
   "source": [
    "n = 1350\n",
    "rho_max, num_rhos = 30, 30\n",
    "rho_list = np.linspace(0, rho_max, num_rhos + 1)[1:]"
   ]
  },
  {
   "cell_type": "code",
   "execution_count": 10,
   "metadata": {},
   "outputs": [],
   "source": [
    "# Get the true female data (twin_1 or twin_2 test) as the raw dataset\n",
    "df_female_raw = concat_data(\n",
    "    f\"{TDDPM_DIR}/data/adult_female_3000_twin_1\",\n",
    "    split=\"train\",\n",
    "    **gender_names_dict,\n",
    ")\n",
    "\n",
    "# Get the test female data (twin_2 or twin_1 test) as the validation set\n",
    "df_female_test = concat_data(\n",
    "    f\"{TDDPM_DIR}/data/adult_female_3000_twin_1\",\n",
    "    split=\"test\",\n",
    "    **gender_names_dict,\n",
    ")"
   ]
  },
  {
   "cell_type": "markdown",
   "metadata": {},
   "source": [
    "# Get all curves and reference metrics"
   ]
  },
  {
   "cell_type": "markdown",
   "metadata": {},
   "source": [
    "## Train using raw sample (Female twin 2)"
   ]
  },
  {
   "cell_type": "code",
   "execution_count": 11,
   "metadata": {},
   "outputs": [
    {
     "name": "stdout",
     "output_type": "stream",
     "text": [
      "no null features, using all specified features for training\n",
      "Test accuracy: 0.9303703703703704\n"
     ]
    }
   ],
   "source": [
    "cat_model = catboost_pred_model(\n",
    "    df_female_raw,\n",
    "    df_female_test,\n",
    "    **gender_names_dict,\n",
    "    iterations=1000,\n",
    "    verbose=False\n",
    ")\n",
    "\n",
    "score = test_acc(cat_model, df_female_test, **gender_names_dict)\n",
    "print(\"Test accuracy:\", score)"
   ]
  },
  {
   "cell_type": "markdown",
   "metadata": {},
   "source": [
    "## Transfer learning with FNN\n",
    "\n",
    "Pre-train FNN with Male data while fine-tuning it on Female data "
   ]
  },
  {
   "cell_type": "code",
   "execution_count": 12,
   "metadata": {},
   "outputs": [],
   "source": [
    "df_male = concat_data(\n",
    "    f\"{TDDPM_DIR}/data/adult_male\",\n",
    "    split=\"train\",\n",
    "    **gender_names_dict,\n",
    ")\n",
    "\n",
    "df_male_train, df_male_val = train_test_split(df_male, test_size=0.05, random_state=SEED)"
   ]
  },
  {
   "cell_type": "code",
   "execution_count": 13,
   "metadata": {},
   "outputs": [
    {
     "data": {
      "text/plain": [
       "ColumnTransformer(transformers=[('num', QuantileTransformer(random_state=2023),\n",
       "                                 ['age', 'fnlwgt', 'educationl-num',\n",
       "                                  'capital-gain', 'capital-loss',\n",
       "                                  'hours-per-week']),\n",
       "                                ('cat', OneHotEncoder(dtype='int'),\n",
       "                                 ['workclass', 'education', 'marital-status',\n",
       "                                  'occupation', 'relationship', 'race',\n",
       "                                  'native-country'])])"
      ]
     },
     "execution_count": 13,
     "metadata": {},
     "output_type": "execute_result"
    }
   ],
   "source": [
    "# Male: pre-process the data and keep the pipeline\n",
    "transform_male_train = ColumnTransformer(\n",
    "    [\n",
    "        (\"num\", QuantileTransformer(random_state=SEED), gender_names_dict[\"num_features_list\"]),\n",
    "        (\"cat\", OneHotEncoder(dtype=\"int\"), gender_names_dict[\"cat_features_list\"]),\n",
    "    ],\n",
    ")\n",
    "transform_male_train.fit(df_male_train.drop(columns=[gender_names_dict[\"y_feature\"]]))"
   ]
  },
  {
   "cell_type": "markdown",
   "metadata": {},
   "source": [
    "### Pre-train FNN on Adult-Male"
   ]
  },
  {
   "cell_type": "code",
   "execution_count": 14,
   "metadata": {},
   "outputs": [
    {
     "name": "stderr",
     "output_type": "stream",
     "text": [
      "Seed set to 2023\n"
     ]
    },
    {
     "name": "stderr",
     "output_type": "stream",
     "text": [
      "Epoch [31 / 50]:  64%|██████▍   | 32/50 [00:14<00:08,  2.17it/s, train_acc=0.818, train_loss=0.38, val_acc=0.814, val_loss=0.384] "
     ]
    },
    {
     "name": "stdout",
     "output_type": "stream",
     "text": [
      "Epoch 00032: reducing learning rate of group 0 to 1.0000e-05.\n"
     ]
    },
    {
     "name": "stderr",
     "output_type": "stream",
     "text": [
      "Epoch [42 / 50]:  86%|████████▌ | 43/50 [00:19<00:03,  2.33it/s, train_acc=0.819, train_loss=0.379, val_acc=0.814, val_loss=0.384]"
     ]
    },
    {
     "name": "stdout",
     "output_type": "stream",
     "text": [
      "Epoch 00043: reducing learning rate of group 0 to 1.0000e-06.\n"
     ]
    },
    {
     "name": "stderr",
     "output_type": "stream",
     "text": [
      "                                                                                                                                  \r"
     ]
    }
   ],
   "source": [
    "seed_everything(SEED)\n",
    "\n",
    "train_kwargs = {\n",
    "    \"batch_size\": 1024,\n",
    "    \"lr\": 1e-4,\n",
    "    \"cuda_device\": cuda_device,\n",
    "    \"loss_fn\": nn.CrossEntropyLoss(),\n",
    "    \"epochs\": 50,\n",
    "}\n",
    "\n",
    "\n",
    "# 1. Prepare the data\n",
    "X_male_train, y_male_train = gender_transform_x_y(df_male_train, transform_male_train)\n",
    "X_male_val, y_male_val = gender_transform_x_y(df_male_val, transform_male_train)\n",
    "\n",
    "male_train_ds = Adult(X_male_train, y_male_train)\n",
    "male_train_dl = DataLoader(\n",
    "    male_train_ds, batch_size=train_kwargs[\"batch_size\"], shuffle=False\n",
    ")\n",
    "\n",
    "male_val_ds = Adult(X_male_val, y_male_val)\n",
    "male_val_dl = DataLoader(\n",
    "    male_val_ds, batch_size=train_kwargs[\"batch_size\"], shuffle=False\n",
    ")\n",
    "\n",
    "\n",
    "# 2. initialize the MLP model, optimizer and scheduler\n",
    "adult_mlp = nn.Sequential(\n",
    "    nn.Linear(X_male_train.shape[1], 256),\n",
    "    nn.ReLU(),\n",
    "    nn.Linear(256, 128),\n",
    "    nn.ReLU(),\n",
    "    nn.Linear(128, 64),\n",
    "    nn.ReLU(),\n",
    "    nn.Linear(64, 2),\n",
    ")\n",
    "optimizer = torch.optim.Adam(adult_mlp.parameters(), lr=train_kwargs[\"lr\"])\n",
    "scheduler = torch.optim.lr_scheduler.ReduceLROnPlateau(\n",
    "    optimizer, mode=\"min\", factor=0.1, patience=10, verbose=True\n",
    ")\n",
    "\n",
    "\n",
    "# 3. Train the MLP model with early stopping\n",
    "adult_mlp.to(train_kwargs[\"cuda_device\"])\n",
    "\n",
    "tqdm_loop = tqdm(range(train_kwargs[\"epochs\"]), leave=False)\n",
    "for epoch in tqdm_loop:\n",
    "    train_loss_val, train_acc_val = mlp_train_epoch(\n",
    "        adult_mlp, male_train_dl, optimizer, **train_kwargs\n",
    "    )\n",
    "    val_loss_val, val_acc_val = mlp_val_epoch(adult_mlp, male_val_dl, **train_kwargs)\n",
    "    scheduler.step(val_loss_val)\n",
    "\n",
    "    # update progress bar\n",
    "    tqdm_loop.set_description(f\"Epoch [{epoch} / {train_kwargs['epochs']}]\")\n",
    "    tqdm_loop.set_postfix(\n",
    "        train_loss=train_loss_val,\n",
    "        train_acc=train_acc_val,\n",
    "        val_loss=val_loss_val,\n",
    "        val_acc=val_acc_val,\n",
    "    )"
   ]
  },
  {
   "cell_type": "markdown",
   "metadata": {},
   "source": [
    "### Fine-tune FNN on Adult-Female"
   ]
  },
  {
   "cell_type": "code",
   "execution_count": 15,
   "metadata": {},
   "outputs": [
    {
     "name": "stderr",
     "output_type": "stream",
     "text": [
      "Seed set to 2023\n",
      "                                                                                                                                  \r"
     ]
    }
   ],
   "source": [
    "seed_everything(SEED)\n",
    "\n",
    "train_kwargs = {\n",
    "    \"batch_size\": 128,\n",
    "    \"lr\": 1e-5,\n",
    "    \"cuda_device\": cuda_device,\n",
    "    \"loss_fn\": nn.CrossEntropyLoss(),\n",
    "    \"epochs\": 50,\n",
    "}\n",
    "\n",
    "\n",
    "# 1. Prepare the data\n",
    "X_female_train, y_female_train = gender_transform_x_y(\n",
    "    df_female_raw, transform_male_train\n",
    ")\n",
    "X_female_val, y_female_val = gender_transform_x_y(df_female_test, transform_male_train)\n",
    "\n",
    "female_train_ds = Adult(X_female_train, y_female_train)\n",
    "female_train_dl = DataLoader(\n",
    "    female_train_ds, batch_size=train_kwargs[\"batch_size\"], shuffle=False\n",
    ")\n",
    "\n",
    "female_val_ds = Adult(X_female_val, y_female_val)\n",
    "female_val_dl = DataLoader(\n",
    "    female_val_ds, batch_size=train_kwargs[\"batch_size\"], shuffle=False\n",
    ")\n",
    "\n",
    "\n",
    "# 2. initialize the MLP model, optimizer and scheduler\n",
    "# (fine-tuning) continue using the parameters of adult_mlp\n",
    "optimizer = torch.optim.Adam(adult_mlp.parameters(), lr=train_kwargs[\"lr\"])\n",
    "scheduler = torch.optim.lr_scheduler.ReduceLROnPlateau(\n",
    "    optimizer, mode=\"min\", factor=0.1, patience=10, verbose=True\n",
    ")\n",
    "\n",
    "\n",
    "# 3. Train the MLP model with early stopping\n",
    "adult_mlp.to(train_kwargs[\"cuda_device\"])\n",
    "\n",
    "tqdm_loop = tqdm(range(train_kwargs[\"epochs\"]), leave=False)\n",
    "for epoch in tqdm_loop:\n",
    "    train_loss_val, train_acc_val = mlp_train_epoch(\n",
    "        adult_mlp, female_train_dl, optimizer, **train_kwargs\n",
    "    )\n",
    "    val_loss_val, val_acc_val = mlp_val_epoch(adult_mlp, female_val_dl, **train_kwargs)\n",
    "    scheduler.step(val_loss_val)\n",
    "\n",
    "    # update progress bar\n",
    "    tqdm_loop.set_description(f\"Epoch [{epoch} / {train_kwargs['epochs']}]\")\n",
    "    tqdm_loop.set_postfix(\n",
    "        train_loss=train_loss_val,\n",
    "        train_acc=train_acc_val,\n",
    "        val_loss=val_loss_val,\n",
    "        val_acc=val_acc_val,\n",
    "    )"
   ]
  },
  {
   "cell_type": "code",
   "execution_count": 16,
   "metadata": {},
   "outputs": [
    {
     "name": "stdout",
     "output_type": "stream",
     "text": [
      "Validation loss: 0.1812407983974977 ; Validation accuracy: 0.9259259259259259\n"
     ]
    }
   ],
   "source": [
    "val_loss_value, val_acc_val = mlp_val_epoch(adult_mlp, female_val_dl, **train_kwargs)\n",
    "print(\"Validation loss:\", val_loss_value, \";\", \"Validation accuracy:\", val_acc_val)"
   ]
  },
  {
   "cell_type": "markdown",
   "metadata": {},
   "source": [
    "## Tune with pre-trained generator (Adult-Male)"
   ]
  },
  {
   "cell_type": "code",
   "execution_count": 26,
   "metadata": {},
   "outputs": [
    {
     "name": "stdout",
     "output_type": "stream",
     "text": [
      "Loading numerical preprocessing pipeline from /home/liu00980/Documents/multimodal/tabular/tab-ddpm//exp/adult_male/ddpm_cb_best/pipeline_dict.joblib\n",
      "Loading categorical preprocessing pipeline from /home/liu00980/Documents/multimodal/tabular/tab-ddpm//exp/adult_male/ddpm_cb_best/pipeline_dict.joblib\n"
     ]
    },
    {
     "name": "stdout",
     "output_type": "stream",
     "text": [
      "Use category sizes from the loaded pipeline: [ 9 16  7 15  6  5 41]\n",
      "mlp\n",
      "Sample timestep    0\n",
      "Sample timestep    0\n",
      "Sample timestep    0\n",
      "Sample timestep    0\n",
      "Sample timestep    0\n",
      "Sample timestep    0\n",
      "Sample timestep    0\n",
      "Sample timestep    0\n",
      "Sample timestep    0\n",
      "Sample timestep    0\n",
      "Discrete cols: [2]\n",
      "Num shape:  (40500, 6)\n"
     ]
    }
   ],
   "source": [
    "# Generate synthetic male data (pre-trained generator)\n",
    "synthetic_sample_dir = generate_sample(\n",
    "    pipeline_config_path=f\"{TDDPM_DIR}/exp/adult_male/ddpm_cb_best/config.toml\",\n",
    "    ckpt_path=f\"{TDDPM_DIR}/exp/adult_male/ddpm_cb_best/model.pt\",\n",
    "    pipeline_dict_path=f\"{TDDPM_DIR}/exp/adult_male/ddpm_cb_best/pipeline_dict.joblib\",\n",
    "    num_samples=int(n * rho_max),\n",
    "    batch_size=int(n * rho_max / 10),\n",
    "    device=cuda_device,\n",
    "    seed=2023,\n",
    ")\n",
    "fake_df_male_allinone = concat_data(synthetic_sample_dir, **gender_names_dict)\n",
    "fake_df_male_allinone[\"income\"].cat.categories = [\"0\", \"1\"]"
   ]
  },
  {
   "cell_type": "code",
   "execution_count": 27,
   "metadata": {},
   "outputs": [
    {
     "name": "stderr",
     "output_type": "stream",
     "text": [
      "  0%|          | 0/30 [00:00<?, ?it/s]"
     ]
    },
    {
     "name": "stdout",
     "output_type": "stream",
     "text": [
      "no null features, using all specified features for training\n"
     ]
    },
    {
     "name": "stderr",
     "output_type": "stream",
     "text": [
      "  3%|▎         | 1/30 [00:09<04:40,  9.68s/it]"
     ]
    },
    {
     "name": "stdout",
     "output_type": "stream",
     "text": [
      "rho = 1.0, m = 1350: Test accuracy is 0.9237037037037037.\n",
      "no null features, using all specified features for training\n"
     ]
    },
    {
     "name": "stderr",
     "output_type": "stream",
     "text": [
      "  7%|▋         | 2/30 [00:20<04:50, 10.39s/it]"
     ]
    },
    {
     "name": "stdout",
     "output_type": "stream",
     "text": [
      "rho = 2.0, m = 2700: Test accuracy is 0.9274074074074075.\n",
      "no null features, using all specified features for training\n"
     ]
    },
    {
     "name": "stderr",
     "output_type": "stream",
     "text": [
      " 10%|█         | 3/30 [00:32<04:59, 11.10s/it]"
     ]
    },
    {
     "name": "stdout",
     "output_type": "stream",
     "text": [
      "rho = 3.0, m = 4050: Test accuracy is 0.9266666666666666.\n",
      "no null features, using all specified features for training\n"
     ]
    },
    {
     "name": "stderr",
     "output_type": "stream",
     "text": [
      " 13%|█▎        | 4/30 [00:45<05:03, 11.65s/it]"
     ]
    },
    {
     "name": "stdout",
     "output_type": "stream",
     "text": [
      "rho = 4.0, m = 5400: Test accuracy is 0.9237037037037037.\n",
      "no null features, using all specified features for training\n"
     ]
    },
    {
     "name": "stderr",
     "output_type": "stream",
     "text": [
      " 17%|█▋        | 5/30 [00:57<04:55, 11.80s/it]"
     ]
    },
    {
     "name": "stdout",
     "output_type": "stream",
     "text": [
      "rho = 5.0, m = 6750: Test accuracy is 0.9251851851851852.\n",
      "no null features, using all specified features for training\n"
     ]
    },
    {
     "name": "stderr",
     "output_type": "stream",
     "text": [
      " 20%|██        | 6/30 [01:10<04:57, 12.38s/it]"
     ]
    },
    {
     "name": "stdout",
     "output_type": "stream",
     "text": [
      "rho = 6.0, m = 8100: Test accuracy is 0.9281481481481482.\n",
      "no null features, using all specified features for training\n"
     ]
    },
    {
     "name": "stderr",
     "output_type": "stream",
     "text": [
      " 23%|██▎       | 7/30 [01:24<04:57, 12.94s/it]"
     ]
    },
    {
     "name": "stdout",
     "output_type": "stream",
     "text": [
      "rho = 7.0, m = 9450: Test accuracy is 0.9259259259259259.\n",
      "no null features, using all specified features for training\n"
     ]
    },
    {
     "name": "stderr",
     "output_type": "stream",
     "text": [
      " 27%|██▋       | 8/30 [01:42<05:19, 14.53s/it]"
     ]
    },
    {
     "name": "stdout",
     "output_type": "stream",
     "text": [
      "rho = 8.0, m = 10800: Test accuracy is 0.9288888888888889.\n",
      "no null features, using all specified features for training\n"
     ]
    },
    {
     "name": "stderr",
     "output_type": "stream",
     "text": [
      " 30%|███       | 9/30 [02:00<05:30, 15.73s/it]"
     ]
    },
    {
     "name": "stdout",
     "output_type": "stream",
     "text": [
      "rho = 9.0, m = 12150: Test accuracy is 0.9296296296296296.\n",
      "no null features, using all specified features for training\n"
     ]
    },
    {
     "name": "stderr",
     "output_type": "stream",
     "text": [
      " 33%|███▎      | 10/30 [02:17<05:19, 16.00s/it]"
     ]
    },
    {
     "name": "stdout",
     "output_type": "stream",
     "text": [
      "rho = 10.0, m = 13500: Test accuracy is 0.9251851851851852.\n",
      "no null features, using all specified features for training\n"
     ]
    },
    {
     "name": "stderr",
     "output_type": "stream",
     "text": [
      " 37%|███▋      | 11/30 [02:38<05:32, 17.48s/it]"
     ]
    },
    {
     "name": "stdout",
     "output_type": "stream",
     "text": [
      "rho = 11.0, m = 14850: Test accuracy is 0.9251851851851852.\n",
      "no null features, using all specified features for training\n"
     ]
    },
    {
     "name": "stderr",
     "output_type": "stream",
     "text": [
      " 40%|████      | 12/30 [03:02<05:51, 19.55s/it]"
     ]
    },
    {
     "name": "stdout",
     "output_type": "stream",
     "text": [
      "rho = 12.0, m = 16200: Test accuracy is 0.9281481481481482.\n",
      "no null features, using all specified features for training\n"
     ]
    },
    {
     "name": "stderr",
     "output_type": "stream",
     "text": [
      " 43%|████▎     | 13/30 [03:23<05:38, 19.91s/it]"
     ]
    },
    {
     "name": "stdout",
     "output_type": "stream",
     "text": [
      "rho = 13.0, m = 17550: Test accuracy is 0.9266666666666666.\n",
      "no null features, using all specified features for training\n"
     ]
    },
    {
     "name": "stderr",
     "output_type": "stream",
     "text": [
      " 47%|████▋     | 14/30 [03:47<05:40, 21.26s/it]"
     ]
    },
    {
     "name": "stdout",
     "output_type": "stream",
     "text": [
      "rho = 14.0, m = 18900: Test accuracy is 0.9259259259259259.\n",
      "no null features, using all specified features for training\n"
     ]
    },
    {
     "name": "stderr",
     "output_type": "stream",
     "text": [
      " 50%|█████     | 15/30 [04:07<05:11, 20.80s/it]"
     ]
    },
    {
     "name": "stdout",
     "output_type": "stream",
     "text": [
      "rho = 15.0, m = 20250: Test accuracy is 0.9311111111111111.\n",
      "no null features, using all specified features for training\n"
     ]
    },
    {
     "name": "stderr",
     "output_type": "stream",
     "text": [
      " 53%|█████▎    | 16/30 [04:27<04:49, 20.66s/it]"
     ]
    },
    {
     "name": "stdout",
     "output_type": "stream",
     "text": [
      "rho = 16.0, m = 21600: Test accuracy is 0.9318518518518518.\n",
      "no null features, using all specified features for training\n"
     ]
    },
    {
     "name": "stderr",
     "output_type": "stream",
     "text": [
      " 57%|█████▋    | 17/30 [04:47<04:22, 20.20s/it]"
     ]
    },
    {
     "name": "stdout",
     "output_type": "stream",
     "text": [
      "rho = 17.0, m = 22950: Test accuracy is 0.9296296296296296.\n",
      "no null features, using all specified features for training\n"
     ]
    },
    {
     "name": "stderr",
     "output_type": "stream",
     "text": [
      " 60%|██████    | 18/30 [05:07<04:03, 20.31s/it]"
     ]
    },
    {
     "name": "stdout",
     "output_type": "stream",
     "text": [
      "rho = 18.0, m = 24300: Test accuracy is 0.9259259259259259.\n",
      "no null features, using all specified features for training\n"
     ]
    },
    {
     "name": "stderr",
     "output_type": "stream",
     "text": [
      " 63%|██████▎   | 19/30 [05:27<03:41, 20.11s/it]"
     ]
    },
    {
     "name": "stdout",
     "output_type": "stream",
     "text": [
      "rho = 19.0, m = 25650: Test accuracy is 0.9237037037037037.\n",
      "no null features, using all specified features for training\n"
     ]
    },
    {
     "name": "stderr",
     "output_type": "stream",
     "text": [
      " 67%|██████▋   | 20/30 [05:47<03:20, 20.09s/it]"
     ]
    },
    {
     "name": "stdout",
     "output_type": "stream",
     "text": [
      "rho = 20.0, m = 27000: Test accuracy is 0.9288888888888889.\n",
      "no null features, using all specified features for training\n"
     ]
    },
    {
     "name": "stderr",
     "output_type": "stream",
     "text": [
      " 70%|███████   | 21/30 [06:08<03:03, 20.42s/it]"
     ]
    },
    {
     "name": "stdout",
     "output_type": "stream",
     "text": [
      "rho = 21.0, m = 28350: Test accuracy is 0.9266666666666666.\n",
      "no null features, using all specified features for training\n"
     ]
    },
    {
     "name": "stderr",
     "output_type": "stream",
     "text": [
      " 73%|███████▎  | 22/30 [06:28<02:42, 20.26s/it]"
     ]
    },
    {
     "name": "stdout",
     "output_type": "stream",
     "text": [
      "rho = 22.0, m = 29700: Test accuracy is 0.9318518518518518.\n",
      "no null features, using all specified features for training\n"
     ]
    },
    {
     "name": "stderr",
     "output_type": "stream",
     "text": [
      " 77%|███████▋  | 23/30 [06:53<02:31, 21.70s/it]"
     ]
    },
    {
     "name": "stdout",
     "output_type": "stream",
     "text": [
      "rho = 23.0, m = 31050: Test accuracy is 0.9303703703703704.\n",
      "no null features, using all specified features for training\n"
     ]
    },
    {
     "name": "stderr",
     "output_type": "stream",
     "text": [
      " 80%|████████  | 24/30 [07:23<02:25, 24.32s/it]"
     ]
    },
    {
     "name": "stdout",
     "output_type": "stream",
     "text": [
      "rho = 24.0, m = 32400: Test accuracy is 0.9274074074074075.\n",
      "no null features, using all specified features for training\n"
     ]
    },
    {
     "name": "stderr",
     "output_type": "stream",
     "text": [
      " 83%|████████▎ | 25/30 [07:50<02:05, 25.15s/it]"
     ]
    },
    {
     "name": "stdout",
     "output_type": "stream",
     "text": [
      "rho = 25.0, m = 33750: Test accuracy is 0.9296296296296296.\n",
      "no null features, using all specified features for training\n"
     ]
    },
    {
     "name": "stderr",
     "output_type": "stream",
     "text": [
      " 87%|████████▋ | 26/30 [08:20<01:45, 26.33s/it]"
     ]
    },
    {
     "name": "stdout",
     "output_type": "stream",
     "text": [
      "rho = 26.0, m = 35100: Test accuracy is 0.9266666666666666.\n",
      "no null features, using all specified features for training\n"
     ]
    },
    {
     "name": "stderr",
     "output_type": "stream",
     "text": [
      " 90%|█████████ | 27/30 [08:43<01:16, 25.56s/it]"
     ]
    },
    {
     "name": "stdout",
     "output_type": "stream",
     "text": [
      "rho = 27.0, m = 36450: Test accuracy is 0.9274074074074075.\n",
      "no null features, using all specified features for training\n"
     ]
    },
    {
     "name": "stderr",
     "output_type": "stream",
     "text": [
      " 93%|█████████▎| 28/30 [09:07<00:49, 24.93s/it]"
     ]
    },
    {
     "name": "stdout",
     "output_type": "stream",
     "text": [
      "rho = 28.0, m = 37800: Test accuracy is 0.9325925925925926.\n",
      "no null features, using all specified features for training\n"
     ]
    },
    {
     "name": "stderr",
     "output_type": "stream",
     "text": [
      " 97%|█████████▋| 29/30 [09:31<00:24, 24.62s/it]"
     ]
    },
    {
     "name": "stdout",
     "output_type": "stream",
     "text": [
      "rho = 29.0, m = 39150: Test accuracy is 0.9288888888888889.\n",
      "no null features, using all specified features for training\n"
     ]
    },
    {
     "name": "stderr",
     "output_type": "stream",
     "text": [
      "100%|██████████| 30/30 [09:55<00:00, 19.84s/it]"
     ]
    },
    {
     "name": "stdout",
     "output_type": "stream",
     "text": [
      "rho = 30.0, m = 40500: Test accuracy is 0.9281481481481482.\n"
     ]
    },
    {
     "name": "stderr",
     "output_type": "stream",
     "text": [
      "\n"
     ]
    }
   ],
   "source": [
    "fake_df_train = fake_df_male_allinone.copy()\n",
    "df_test = df_female_test.copy()\n",
    "save_path = f\"./synboost_transfer_adult_male.pkl\"\n",
    "\n",
    "\n",
    "result_dict = {\"rhos\": rho_list, \"scores\": []}\n",
    "for rho in tqdm(rho_list):\n",
    "    m = int(n * rho)\n",
    "\n",
    "    fake_train_df = fake_df_train[:m]\n",
    "\n",
    "    cat_model = catboost_pred_model(\n",
    "        fake_train_df,\n",
    "        df_test,\n",
    "        **gender_names_dict,\n",
    "        iterations=1000,\n",
    "        verbose=False\n",
    "    )\n",
    "\n",
    "    score = test_acc(cat_model, df_test, **gender_names_dict)\n",
    "    result_dict[\"scores\"].append(score)\n",
    "\n",
    "    pickle.dump(result_dict, open(save_path, \"wb\"))\n",
    "    print(f\"rho = {rho}, m = {m}: Test accuracy is {score}.\")"
   ]
  },
  {
   "cell_type": "markdown",
   "metadata": {},
   "source": [
    "## Tune with fine-tuned generator (Adult-Female)"
   ]
  },
  {
   "cell_type": "code",
   "execution_count": 28,
   "metadata": {},
   "outputs": [
    {
     "name": "stdout",
     "output_type": "stream",
     "text": [
      "Loading numerical preprocessing pipeline from /home/liu00980/Documents/multimodal/tabular/tab-ddpm//exp/adult_female_3000_twin_1/ddpm_cb_best/pipeline_dict.joblib\n",
      "Loading categorical preprocessing pipeline from /home/liu00980/Documents/multimodal/tabular/tab-ddpm//exp/adult_female_3000_twin_1/ddpm_cb_best/pipeline_dict.joblib\n",
      "Use category sizes from the loaded pipeline: [ 9 16  7 15  6  5 41]\n",
      "mlp\n",
      "Sample timestep   69\r"
     ]
    },
    {
     "name": "stdout",
     "output_type": "stream",
     "text": [
      "Sample timestep    0\n",
      "Sample timestep    0\n",
      "Sample timestep    0\n",
      "Sample timestep    0\n",
      "Sample timestep    0\n",
      "Sample timestep    0\n",
      "Sample timestep    0\n",
      "Sample timestep    0\n",
      "Sample timestep    0\n",
      "Sample timestep    0\n",
      "Discrete cols: [2, 4]\n",
      "Num shape:  (40500, 6)\n"
     ]
    }
   ],
   "source": [
    "# Generate synthetic female data (fine-tuned generator)\n",
    "synthetic_sample_dir = generate_sample(\n",
    "    pipeline_config_path=f\"{TDDPM_DIR}/exp/adult_female_3000_twin_1/ddpm_cb_best/config.toml\",\n",
    "    ckpt_path=f\"{TDDPM_DIR}/exp/adult_female_3000_twin_1/ddpm_cb_best/model.pt\",\n",
    "    pipeline_dict_path=f\"{TDDPM_DIR}/exp/adult_female_3000_twin_1/ddpm_cb_best/pipeline_dict.joblib\",\n",
    "    num_samples=int(n * rho_max),\n",
    "    batch_size=int(n * rho_max / 10),\n",
    "    device=cuda_device,\n",
    "    seed=2023,\n",
    ")\n",
    "fake_df_female_allinone = concat_data(synthetic_sample_dir, **gender_names_dict)\n",
    "fake_df_female_allinone[\"income\"].cat.categories = [\"0\", \"1\"]"
   ]
  },
  {
   "cell_type": "code",
   "execution_count": 29,
   "metadata": {},
   "outputs": [
    {
     "name": "stderr",
     "output_type": "stream",
     "text": [
      "  0%|          | 0/30 [00:00<?, ?it/s]"
     ]
    },
    {
     "name": "stdout",
     "output_type": "stream",
     "text": [
      "no null features, using all specified features for training\n"
     ]
    },
    {
     "name": "stderr",
     "output_type": "stream",
     "text": [
      "  3%|▎         | 1/30 [00:08<04:15,  8.81s/it]"
     ]
    },
    {
     "name": "stdout",
     "output_type": "stream",
     "text": [
      "rho = 1.0, m = 1350: Test accuracy is 0.9325925925925926.\n",
      "no null features, using all specified features for training\n"
     ]
    },
    {
     "name": "stderr",
     "output_type": "stream",
     "text": [
      "  7%|▋         | 2/30 [00:19<04:33,  9.77s/it]"
     ]
    },
    {
     "name": "stdout",
     "output_type": "stream",
     "text": [
      "rho = 2.0, m = 2700: Test accuracy is 0.9325925925925926.\n",
      "no null features, using all specified features for training\n"
     ]
    },
    {
     "name": "stderr",
     "output_type": "stream",
     "text": [
      " 10%|█         | 3/30 [00:29<04:33, 10.13s/it]"
     ]
    },
    {
     "name": "stdout",
     "output_type": "stream",
     "text": [
      "rho = 3.0, m = 4050: Test accuracy is 0.9333333333333333.\n",
      "no null features, using all specified features for training\n"
     ]
    },
    {
     "name": "stderr",
     "output_type": "stream",
     "text": [
      " 13%|█▎        | 4/30 [00:43<04:56, 11.41s/it]"
     ]
    },
    {
     "name": "stdout",
     "output_type": "stream",
     "text": [
      "rho = 4.0, m = 5400: Test accuracy is 0.9318518518518518.\n",
      "no null features, using all specified features for training\n"
     ]
    },
    {
     "name": "stderr",
     "output_type": "stream",
     "text": [
      " 17%|█▋        | 5/30 [00:55<04:56, 11.87s/it]"
     ]
    },
    {
     "name": "stdout",
     "output_type": "stream",
     "text": [
      "rho = 5.0, m = 6750: Test accuracy is 0.9311111111111111.\n",
      "no null features, using all specified features for training\n"
     ]
    },
    {
     "name": "stderr",
     "output_type": "stream",
     "text": [
      " 20%|██        | 6/30 [01:09<04:56, 12.34s/it]"
     ]
    },
    {
     "name": "stdout",
     "output_type": "stream",
     "text": [
      "rho = 6.0, m = 8100: Test accuracy is 0.9303703703703704.\n",
      "no null features, using all specified features for training\n"
     ]
    },
    {
     "name": "stderr",
     "output_type": "stream",
     "text": [
      " 23%|██▎       | 7/30 [01:26<05:21, 13.96s/it]"
     ]
    },
    {
     "name": "stdout",
     "output_type": "stream",
     "text": [
      "rho = 7.0, m = 9450: Test accuracy is 0.9325925925925926.\n",
      "no null features, using all specified features for training\n"
     ]
    },
    {
     "name": "stderr",
     "output_type": "stream",
     "text": [
      " 27%|██▋       | 8/30 [01:45<05:41, 15.50s/it]"
     ]
    },
    {
     "name": "stdout",
     "output_type": "stream",
     "text": [
      "rho = 8.0, m = 10800: Test accuracy is 0.9288888888888889.\n",
      "no null features, using all specified features for training\n"
     ]
    },
    {
     "name": "stderr",
     "output_type": "stream",
     "text": [
      " 30%|███       | 9/30 [02:02<05:39, 16.15s/it]"
     ]
    },
    {
     "name": "stdout",
     "output_type": "stream",
     "text": [
      "rho = 9.0, m = 12150: Test accuracy is 0.9318518518518518.\n",
      "no null features, using all specified features for training\n"
     ]
    },
    {
     "name": "stderr",
     "output_type": "stream",
     "text": [
      " 33%|███▎      | 10/30 [02:21<05:36, 16.84s/it]"
     ]
    },
    {
     "name": "stdout",
     "output_type": "stream",
     "text": [
      "rho = 10.0, m = 13500: Test accuracy is 0.9303703703703704.\n",
      "no null features, using all specified features for training\n"
     ]
    },
    {
     "name": "stderr",
     "output_type": "stream",
     "text": [
      " 37%|███▋      | 11/30 [02:39<05:28, 17.26s/it]"
     ]
    },
    {
     "name": "stdout",
     "output_type": "stream",
     "text": [
      "rho = 11.0, m = 14850: Test accuracy is 0.9296296296296296.\n",
      "no null features, using all specified features for training\n"
     ]
    },
    {
     "name": "stderr",
     "output_type": "stream",
     "text": [
      " 40%|████      | 12/30 [02:53<04:51, 16.21s/it]"
     ]
    },
    {
     "name": "stdout",
     "output_type": "stream",
     "text": [
      "rho = 12.0, m = 16200: Test accuracy is 0.9303703703703704.\n",
      "no null features, using all specified features for training\n"
     ]
    },
    {
     "name": "stderr",
     "output_type": "stream",
     "text": [
      " 43%|████▎     | 13/30 [03:12<04:53, 17.26s/it]"
     ]
    },
    {
     "name": "stdout",
     "output_type": "stream",
     "text": [
      "rho = 13.0, m = 17550: Test accuracy is 0.9311111111111111.\n",
      "no null features, using all specified features for training\n"
     ]
    },
    {
     "name": "stderr",
     "output_type": "stream",
     "text": [
      " 47%|████▋     | 14/30 [03:31<04:43, 17.72s/it]"
     ]
    },
    {
     "name": "stdout",
     "output_type": "stream",
     "text": [
      "rho = 14.0, m = 18900: Test accuracy is 0.9296296296296296.\n",
      "no null features, using all specified features for training\n"
     ]
    },
    {
     "name": "stderr",
     "output_type": "stream",
     "text": [
      " 50%|█████     | 15/30 [03:52<04:37, 18.52s/it]"
     ]
    },
    {
     "name": "stdout",
     "output_type": "stream",
     "text": [
      "rho = 15.0, m = 20250: Test accuracy is 0.9274074074074075.\n",
      "no null features, using all specified features for training\n"
     ]
    },
    {
     "name": "stderr",
     "output_type": "stream",
     "text": [
      " 53%|█████▎    | 16/30 [04:13<04:31, 19.39s/it]"
     ]
    },
    {
     "name": "stdout",
     "output_type": "stream",
     "text": [
      "rho = 16.0, m = 21600: Test accuracy is 0.9318518518518518.\n",
      "no null features, using all specified features for training\n"
     ]
    },
    {
     "name": "stderr",
     "output_type": "stream",
     "text": [
      " 57%|█████▋    | 17/30 [04:32<04:11, 19.36s/it]"
     ]
    },
    {
     "name": "stdout",
     "output_type": "stream",
     "text": [
      "rho = 17.0, m = 22950: Test accuracy is 0.9303703703703704.\n",
      "no null features, using all specified features for training\n"
     ]
    },
    {
     "name": "stderr",
     "output_type": "stream",
     "text": [
      " 60%|██████    | 18/30 [04:52<03:54, 19.56s/it]"
     ]
    },
    {
     "name": "stdout",
     "output_type": "stream",
     "text": [
      "rho = 18.0, m = 24300: Test accuracy is 0.9311111111111111.\n",
      "no null features, using all specified features for training\n"
     ]
    },
    {
     "name": "stderr",
     "output_type": "stream",
     "text": [
      " 63%|██████▎   | 19/30 [05:14<03:41, 20.15s/it]"
     ]
    },
    {
     "name": "stdout",
     "output_type": "stream",
     "text": [
      "rho = 19.0, m = 25650: Test accuracy is 0.9318518518518518.\n",
      "no null features, using all specified features for training\n"
     ]
    },
    {
     "name": "stderr",
     "output_type": "stream",
     "text": [
      " 67%|██████▋   | 20/30 [05:35<03:25, 20.55s/it]"
     ]
    },
    {
     "name": "stdout",
     "output_type": "stream",
     "text": [
      "rho = 20.0, m = 27000: Test accuracy is 0.9281481481481482.\n",
      "no null features, using all specified features for training\n"
     ]
    },
    {
     "name": "stderr",
     "output_type": "stream",
     "text": [
      " 70%|███████   | 21/30 [05:57<03:08, 20.96s/it]"
     ]
    },
    {
     "name": "stdout",
     "output_type": "stream",
     "text": [
      "rho = 21.0, m = 28350: Test accuracy is 0.9274074074074075.\n",
      "no null features, using all specified features for training\n"
     ]
    },
    {
     "name": "stderr",
     "output_type": "stream",
     "text": [
      " 73%|███████▎  | 22/30 [06:19<02:50, 21.31s/it]"
     ]
    },
    {
     "name": "stdout",
     "output_type": "stream",
     "text": [
      "rho = 22.0, m = 29700: Test accuracy is 0.9296296296296296.\n",
      "no null features, using all specified features for training\n"
     ]
    },
    {
     "name": "stderr",
     "output_type": "stream",
     "text": [
      " 77%|███████▋  | 23/30 [06:42<02:31, 21.64s/it]"
     ]
    },
    {
     "name": "stdout",
     "output_type": "stream",
     "text": [
      "rho = 23.0, m = 31050: Test accuracy is 0.9340740740740741.\n",
      "no null features, using all specified features for training\n"
     ]
    },
    {
     "name": "stderr",
     "output_type": "stream",
     "text": [
      " 80%|████████  | 24/30 [07:04<02:11, 21.96s/it]"
     ]
    },
    {
     "name": "stdout",
     "output_type": "stream",
     "text": [
      "rho = 24.0, m = 32400: Test accuracy is 0.9325925925925926.\n",
      "no null features, using all specified features for training\n"
     ]
    },
    {
     "name": "stderr",
     "output_type": "stream",
     "text": [
      " 83%|████████▎ | 25/30 [07:25<01:48, 21.60s/it]"
     ]
    },
    {
     "name": "stdout",
     "output_type": "stream",
     "text": [
      "rho = 25.0, m = 33750: Test accuracy is 0.9318518518518518.\n",
      "no null features, using all specified features for training\n"
     ]
    },
    {
     "name": "stderr",
     "output_type": "stream",
     "text": [
      " 87%|████████▋ | 26/30 [07:47<01:27, 21.76s/it]"
     ]
    },
    {
     "name": "stdout",
     "output_type": "stream",
     "text": [
      "rho = 26.0, m = 35100: Test accuracy is 0.9266666666666666.\n",
      "no null features, using all specified features for training\n"
     ]
    },
    {
     "name": "stderr",
     "output_type": "stream",
     "text": [
      " 90%|█████████ | 27/30 [08:10<01:06, 22.10s/it]"
     ]
    },
    {
     "name": "stdout",
     "output_type": "stream",
     "text": [
      "rho = 27.0, m = 36450: Test accuracy is 0.9318518518518518.\n",
      "no null features, using all specified features for training\n"
     ]
    },
    {
     "name": "stderr",
     "output_type": "stream",
     "text": [
      " 93%|█████████▎| 28/30 [08:34<00:44, 22.48s/it]"
     ]
    },
    {
     "name": "stdout",
     "output_type": "stream",
     "text": [
      "rho = 28.0, m = 37800: Test accuracy is 0.9288888888888889.\n",
      "no null features, using all specified features for training\n"
     ]
    },
    {
     "name": "stderr",
     "output_type": "stream",
     "text": [
      " 97%|█████████▋| 29/30 [08:58<00:23, 23.13s/it]"
     ]
    },
    {
     "name": "stdout",
     "output_type": "stream",
     "text": [
      "rho = 29.0, m = 39150: Test accuracy is 0.9318518518518518.\n",
      "no null features, using all specified features for training\n"
     ]
    },
    {
     "name": "stderr",
     "output_type": "stream",
     "text": [
      "100%|██████████| 30/30 [09:34<00:00, 19.14s/it]"
     ]
    },
    {
     "name": "stdout",
     "output_type": "stream",
     "text": [
      "rho = 30.0, m = 40500: Test accuracy is 0.9318518518518518.\n"
     ]
    },
    {
     "name": "stderr",
     "output_type": "stream",
     "text": [
      "\n"
     ]
    }
   ],
   "source": [
    "fake_df_train = fake_df_female_allinone.copy()\n",
    "df_test = df_female_test.copy()\n",
    "save_path = f\"./synboost_transfer_adult_female.pkl\"\n",
    "\n",
    "\n",
    "result_dict = {\"rhos\": rho_list, \"scores\": []}\n",
    "for rho in tqdm(rho_list):\n",
    "    m = int(n * rho)\n",
    "\n",
    "    fake_train_df = fake_df_train[:m]\n",
    "\n",
    "    cat_model = catboost_pred_model(\n",
    "        fake_train_df,\n",
    "        df_test,\n",
    "        **gender_names_dict,\n",
    "        iterations=1000,\n",
    "        verbose=False\n",
    "    )\n",
    "\n",
    "    score = test_acc(cat_model, df_test, **gender_names_dict)\n",
    "    result_dict[\"scores\"].append(score)\n",
    "\n",
    "    pickle.dump(result_dict, open(save_path, \"wb\"))\n",
    "    print(f\"rho = {rho}, m = {m}: Test accuracy is {score}.\")"
   ]
  },
  {
   "cell_type": "markdown",
   "metadata": {},
   "source": [
    "# Aggregate and visualize results"
   ]
  },
  {
   "cell_type": "code",
   "execution_count": 6,
   "metadata": {},
   "outputs": [],
   "source": [
    "score_catboost = 0.9303703703703704\n",
    "score_fnn = 0.9259259259259259\n",
    "result_female = pickle.load(open(f\"./synboost_transfer_adult_female.pkl\", \"rb\"))"
   ]
  },
  {
   "cell_type": "code",
   "execution_count": 20,
   "metadata": {},
   "outputs": [
    {
     "data": {
      "text/plain": [
       "Text(0.0, 1.03, 'Syn-Boost (Adult-Female)')"
      ]
     },
     "execution_count": 20,
     "metadata": {},
     "output_type": "execute_result"
    },
    {
     "data": {
      "image/png": "[encoded data removed]",
      "text/plain": [
       "<Figure size 1500x600 with 2 Axes>"
      ]
     },
     "metadata": {},
     "output_type": "display_data"
    }
   ],
   "source": [
    "fake_to_real_ratio = result_female[\"rhos\"]\n",
    "best_score_list = 1 - np.array(result_female[\"scores\"])\n",
    "best_score_catboost = 1 - score_catboost\n",
    "nn_best_score = 1 - score_fnn\n",
    "\n",
    "syngen_size = fake_to_real_ratio[np.argmin(best_score_list)]  # tuned syngen size\n",
    "myspline = MySpline(fake_to_real_ratio, best_score_list, n_interior_knots=5, k=2)\n",
    "\n",
    "\n",
    "xnew = np.linspace(fake_to_real_ratio.min(), fake_to_real_ratio.max(), 300)\n",
    "y_pred, y_pred_se = myspline.pred(xnew)\n",
    "\n",
    "fig, ax = plt.subplots(figsize=(15, 6))\n",
    "\n",
    "\n",
    "# 1. add scatter plot of observed data and fitted spline\n",
    "# ## Option 1: smoothing spline and fitted values\n",
    "# spline_obs = ax.scatter(\n",
    "#     fake_to_real_ratio,\n",
    "#     best_score_list,\n",
    "#     marker=\"s\",\n",
    "#     label=\"observed\",\n",
    "#     # mew=2,\n",
    "#     # linestyle=\"-\",\n",
    "#     # markersize=8,\n",
    "#     # linewidth=2,\n",
    "# )\n",
    "# spline_fitted = ax.plot(xnew, y_pred, \"-\", label=\"fitted\")\n",
    "# se_scale = 1.96\n",
    "# ax.fill_between(\n",
    "#     xnew,\n",
    "#     y_pred - se_scale * y_pred_se,\n",
    "#     y_pred + se_scale * y_pred_se,\n",
    "#     alpha=0.2,\n",
    "#     color=\"C0\",\n",
    "# )\n",
    "\n",
    "\n",
    "# initial_legend = plt.legend(\n",
    "#     handles=[spline_obs, spline_fitted[0]],\n",
    "#     loc=\"upper right\",\n",
    "#     fontsize=14,\n",
    "#     bbox_to_anchor=[1, 0.8],\n",
    "# )\n",
    "## Option 2: error bar based on spline regression model\n",
    "x, y = fake_to_real_ratio[1:], best_score_list[1:]\n",
    "_, y_pred_se = myspline.pred(x)\n",
    "sigma_hat = myspline.sigma_hat\n",
    "y_se = np.sqrt(y_pred_se**2 + sigma_hat**2)\n",
    "\n",
    "spline_fitted = ax.errorbar(\n",
    "    x, y, yerr=y_se, fmt=\"o\", elinewidth=1.5, label=\"observed\"\n",
    ")\n",
    "\n",
    "initial_legend = plt.legend(\n",
    "    handles=[spline_fitted],\n",
    "    loc=\"upper left\",\n",
    "    fontsize=14,\n",
    "    bbox_to_anchor=[0, 1],\n",
    ")\n",
    "plt.gca().add_artist(initial_legend)\n",
    "\n",
    "y_min, y_max = ax.get_ylim()\n",
    "y_min, y_max = min(y_min, nn_best_score, best_score_list.min()), max(\n",
    "    y_max, nn_best_score, best_score_list.max()\n",
    ")\n",
    "y_min, y_max = y_min - 0.05 * (y_max - y_min), y_max + 0.05 * (y_max - y_min)\n",
    "ax.set_ylim(y_min, y_max)\n",
    "\n",
    "\n",
    "# 2. add horizontal lines for baseline, FNN-reference and best syn-boost error curve\n",
    "tuned_value = best_score_list.min()\n",
    "error_catboost = ax.axhline(\n",
    "    best_score_catboost, linestyle=\"--\", color=\"grey\", label=\"CatBoost\"\n",
    ")\n",
    "error_synboost = ax.axhline(tuned_value, linestyle=\"--\", color=\"C0\", label=\"Syn-Boost\")\n",
    "error_fnn = ax.axhline(nn_best_score, linestyle=\"--\", color=\"C1\", label=\"FNN\")\n",
    "\n",
    "ax2 = ax.twinx()\n",
    "ax2.set_yticks([best_score_catboost, tuned_value, nn_best_score])\n",
    "\n",
    "ax.tick_params(axis=\"both\", which=\"major\", labelsize=14)\n",
    "ax2.set_ylim(ax.get_ylim())\n",
    "ax2.tick_params(axis=\"both\", which=\"major\", labelsize=14)\n",
    "\n",
    "first_legend = plt.legend(\n",
    "    handles=[error_catboost, error_synboost, error_fnn],\n",
    "    loc=\"upper right\",\n",
    "    fontsize=14,\n",
    "    ncol=3,\n",
    "    bbox_to_anchor=[1, 1.1],\n",
    ")\n",
    "plt.gca().add_artist(first_legend)\n",
    "\n",
    "\n",
    "# 3. add legends of sizes: pretrain size and tuned Syn-Boost size\n",
    "size_marker_kargs = {\n",
    "    \"y\": y_min,\n",
    "    \"marker\": \"*\",\n",
    "    \"zorder\": 10,\n",
    "    \"clip_on\": False,\n",
    "    \"s\": 250,\n",
    "}\n",
    "size_title = plt.plot([], marker=\"\", ls=\"\")[0]\n",
    "size_pretrain = ax.scatter(\n",
    "    x=24,\n",
    "    color=\"C1\",\n",
    "    label=\"pretrain size\",\n",
    "    **size_marker_kargs,\n",
    ")\n",
    "size_synboost = ax.scatter(\n",
    "    x=syngen_size, color=\"C0\", label=\"Syn-Boost size\", **size_marker_kargs\n",
    ")\n",
    "plt.legend(\n",
    "    handles=[size_title, size_pretrain, size_synboost],\n",
    "    loc=\"upper center\",\n",
    "    bbox_to_anchor=[0.5, -0.12],\n",
    "    ncol=4,\n",
    "    fontsize=14,\n",
    "    columnspacing=8,\n",
    "    labels=[\"Data size:\", \"pretrain size\", \"Syn-Boost size\"],\n",
    ")\n",
    "\n",
    "ax.set_xlabel(\"synthetic to raw ratio\", fontsize=18)\n",
    "ax.set_ylabel(\"misclassification error\", fontsize=16)\n",
    "ax.set_title(\n",
    "    \"Syn-Boost (Adult-Female)\",\n",
    "    weight=\"bold\",\n",
    "    fontsize=20,\n",
    "    loc=\"left\",\n",
    "    y=1.03,\n",
    ")"
   ]
  },
  {
   "cell_type": "code",
   "execution_count": 16,
   "metadata": {},
   "outputs": [
    {
     "name": "stdout",
     "output_type": "stream",
     "text": [
      "Syn-Boost over CatBoost: 5.319148936170143\n",
      "Syn-Boost over FNN: 10.999999999999972\n"
     ]
    }
   ],
   "source": [
    "print(\n",
    "    \"Syn-Boost over CatBoost:\",\n",
    "    (best_score_catboost - tuned_value) / best_score_catboost * 100,\n",
    ")\n",
    "print(\"Syn-Boost over FNN:\", (nn_best_score - tuned_value) / nn_best_score * 100)"
   ]
  }
 ],
 "metadata": {
  "kernelspec": {
   "display_name": "tddpm",
   "language": "python",
   "name": "python3"
  },
  "language_info": {
   "codemirror_mode": {
    "name": "ipython",
    "version": 3
   },
   "file_extension": ".py",
   "mimetype": "text/x-python",
   "name": "python",
   "nbconvert_exporter": "python",
   "pygments_lexer": "ipython3",
   "version": "3.9.18"
  }
 },
 "nbformat": 4,
 "nbformat_minor": 2
}
