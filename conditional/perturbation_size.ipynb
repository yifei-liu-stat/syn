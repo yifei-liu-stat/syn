{
 "cells": [
  {
   "cell_type": "code",
   "execution_count": 1,
   "metadata": {},
   "outputs": [],
   "source": [
    "%load_ext autoreload\n",
    "%autoreload 2"
   ]
  },
  {
   "cell_type": "code",
   "execution_count": 2,
   "metadata": {},
   "outputs": [],
   "source": [
    "import numpy as np\n",
    "import pandas as pd\n",
    "\n",
    "import torch\n",
    "import torch.nn as nn\n",
    "import torch.nn.functional as F\n",
    "import torch.optim as optim\n",
    "from torch.utils.data import DataLoader, TensorDataset\n",
    "\n",
    "from sklearn.preprocessing import QuantileTransformer\n",
    "from scipy.stats import norm\n",
    "\n",
    "import time\n",
    "import pickle\n",
    "from tqdm import tqdm\n",
    "import joblib\n",
    "\n",
    "import matplotlib.pyplot as plt\n",
    "import seaborn as sns\n",
    "# import ptitprince as pt # it requires seaborn of version 0.11 to be installed, but version 0.12 is needed for utils_viz to work\n",
    "\n",
    "from utils_data import TrueSampler\n",
    "from utils_model import MLPDiffusionContinuous\n",
    "\n",
    "from ddpm import MyDDPM, generate_samples, generate_imputation, generate_pass\n",
    "\n",
    "import sys\n",
    "\n",
    "sys.path.insert(0, \"../tab-ddpm/pass-inference/syninf/\")\n",
    "from utils_viz import plot_distribution, compare_distributions_grid, heatmap_correlation\n",
    "from utils_syninf import catboost_pred_model, test_rmse\n",
    "from utils_num import calculate_fid, wasserstein_1_distance, wasserstein_2_distance\n",
    "\n",
    "\n",
    "seed = 2024"
   ]
  },
  {
   "cell_type": "code",
   "execution_count": 3,
   "metadata": {},
   "outputs": [],
   "source": [
    "# Initialization #\n",
    "\n",
    "d_in = 8\n",
    "d_time = 128\n",
    "hidden_dims = [512, 256, 256, 256, 256, 128]\n",
    "n_steps = 1000\n",
    "\n",
    "device = \"cuda:7\"\n",
    "\n",
    "\n",
    "noise_pred_network = MLPDiffusionContinuous(\n",
    "    d_in=d_in, hidden_dims=hidden_dims, dim_t=d_time\n",
    ")\n",
    "tabular_ddpm = MyDDPM(network=noise_pred_network, n_steps=n_steps, device=device)\n",
    "\n",
    "\n",
    "# Loading trained model for inference\n",
    "tabular_ddpm.load_state_dict(torch.load(\"./ckpt/tabular_ddpm.pt\"))\n",
    "\n",
    "# Loading quantile transformer pipeline used during training\n",
    "qt = joblib.load(\"./ckpt/qt_train.joblib\")\n",
    "\n",
    "# True sample\n",
    "yx_true_unnorm = np.load(\"./data/yx.npy\")\n",
    "yx_true_norm = qt.transform(yx_true_unnorm)"
   ]
  },
  {
   "cell_type": "code",
   "execution_count": 78,
   "metadata": {},
   "outputs": [
    {
     "name": "stdout",
     "output_type": "stream",
     "text": [
      "X shape:  (3000, 7)\n",
      "y shape:  (3000,)\n",
      "Generating samples with tau=0 ...\n",
      "Begin matching ranks ...\n"
     ]
    },
    {
     "name": "stderr",
     "output_type": "stream",
     "text": [
      "/tmp/ipykernel_9219/2774312245.py:20: UserWarning: To copy construct from a tensor, it is recommended to use sourceTensor.clone().detach() or sourceTensor.clone().detach().requires_grad_(True), rather than torch.tensor(sourceTensor).\n",
      "  x = torch.tensor(x, dtype=torch.float32).to(device)\n"
     ]
    },
    {
     "name": "stdout",
     "output_type": "stream",
     "text": [
      "Rank matching done in 13.36 seconds.\n"
     ]
    },
    {
     "name": "stderr",
     "output_type": "stream",
     "text": [
      "                                                                           \r"
     ]
    },
    {
     "name": "stdout",
     "output_type": "stream",
     "text": [
      "Generating samples with tau=0.2 ...\n",
      "Begin matching ranks ...\n",
      "Rank matching done in 14.05 seconds.\n"
     ]
    },
    {
     "name": "stderr",
     "output_type": "stream",
     "text": [
      "                                                                           \r"
     ]
    },
    {
     "name": "stdout",
     "output_type": "stream",
     "text": [
      "Generating samples with tau=0.5 ...\n",
      "Begin matching ranks ...\n",
      "Rank matching done in 14.13 seconds.\n"
     ]
    },
    {
     "name": "stderr",
     "output_type": "stream",
     "text": [
      "                                                                           \r"
     ]
    },
    {
     "name": "stdout",
     "output_type": "stream",
     "text": [
      "Generating samples with tau=1 ...\n",
      "Begin matching ranks ...\n",
      "Rank matching done in 12.88 seconds.\n"
     ]
    },
    {
     "name": "stderr",
     "output_type": "stream",
     "text": [
      "                                                                           \r"
     ]
    }
   ],
   "source": [
    "np.random.seed(seed)\n",
    "torch.manual_seed(seed)\n",
    "torch.cuda.manual_seed(seed)\n",
    "\n",
    "column_names = [\"Y\", \"X1\", \"X2\", \"X3\", \"X4\", \"X5\", \"X6\", \"X7\"]\n",
    "\n",
    "\n",
    "# Generate evaluation data #\n",
    "n_eval = 3000\n",
    "true_sampler = TrueSampler(sigma=0.2)\n",
    "X, y, mean_y, sigma_x = true_sampler.sample(n_eval, return_mean=True)\n",
    "yx_true_unnorm = np.concatenate([y[:, None], X], axis=1)\n",
    "df_true_unnorm = pd.DataFrame(yx_true_unnorm, columns=column_names)\n",
    "\n",
    "\n",
    "qt = QuantileTransformer(output_distribution=\"normal\", random_state=seed)\n",
    "qt.fit(yx_true_unnorm)\n",
    "yx_true_norm = qt.transform(yx_true_unnorm)\n",
    "df_true_norm = pd.DataFrame(yx_true_norm, columns=column_names)\n",
    "\n",
    "\n",
    "# Generate synthetic data #\n",
    "tau_list = [0, 0.2, 0.5, 1]\n",
    "result_df_norm_list, result_df_unnorm_list = [df_true_norm], [df_true_unnorm]\n",
    "for tau in tau_list:\n",
    "    print(f\"Generating samples with tau={tau} ...\")\n",
    "    yx_fake = generate_pass(\n",
    "        tabular_ddpm,\n",
    "        torch.tensor(yx_true_norm).float(),\n",
    "        perturbation_size=tau,\n",
    "        device=device,\n",
    "    )\n",
    "    yx_fake_norm = yx_fake.cpu().detach().numpy()\n",
    "    yx_fake_unnorm = qt.inverse_transform(yx_fake_norm)\n",
    "\n",
    "    df_fake_norm = pd.DataFrame(yx_fake_norm, columns=column_names)\n",
    "    result_df_norm_list.append(df_fake_norm)\n",
    "\n",
    "    df_fake_unnorm = pd.DataFrame(yx_fake_unnorm, columns=column_names)\n",
    "    result_df_unnorm_list.append(df_fake_unnorm)"
   ]
  },
  {
   "cell_type": "code",
   "execution_count": 80,
   "metadata": {},
   "outputs": [
    {
     "data": {
      "image/png": "[encoded data removed]",
      "text/plain": [
       "<Figure size 3200x1000 with 8 Axes>"
      ]
     },
     "metadata": {},
     "output_type": "display_data"
    }
   ],
   "source": [
    "# Evaluate the fidelity of the fake sample #\n",
    "\n",
    "plt.style.use(\"default\")\n",
    "compare_distributions_grid(\n",
    "    result_df_unnorm_list,\n",
    "    [\"True\"] + [rf\"$\\tau$={tau}\" for tau in tau_list],\n",
    "    nrows=2,\n",
    "    ncols=4,\n",
    ")"
   ]
  },
  {
   "cell_type": "code",
   "execution_count": 4,
   "metadata": {},
   "outputs": [
    {
     "name": "stdout",
     "output_type": "stream",
     "text": [
      "X shape:  (3000, 7)\n",
      "y shape:  (3000,)\n"
     ]
    },
    {
     "name": "stderr",
     "output_type": "stream",
     "text": [
      "  0%|          | 0/20 [00:00<?, ?it/s]"
     ]
    },
    {
     "name": "stdout",
     "output_type": "stream",
     "text": [
      "X shape:  (3000, 7)\n",
      "y shape:  (3000,)\n",
      "Generating samples with tau=0 ...\n",
      "Begin matching ranks ...\n"
     ]
    },
    {
     "name": "stderr",
     "output_type": "stream",
     "text": [
      "/home/liu00980/Documents/multimodal/tabular/conditional/ddpm.py:232: UserWarning: To copy construct from a tensor, it is recommended to use sourceTensor.clone().detach() or sourceTensor.clone().detach().requires_grad_(True), rather than torch.tensor(sourceTensor).\n",
      "  x = torch.tensor(x, dtype=torch.float32).to(device)\n"
     ]
    },
    {
     "name": "stdout",
     "output_type": "stream",
     "text": [
      "Rank matching done in 13.80 seconds.\n"
     ]
    },
    {
     "name": "stderr",
     "output_type": "stream",
     "text": []
    },
    {
     "name": "stdout",
     "output_type": "stream",
     "text": [
      "Generating samples with tau=0.2 ...\n",
      "Begin matching ranks ...\n",
      "Rank matching done in 14.20 seconds.\n"
     ]
    },
    {
     "name": "stderr",
     "output_type": "stream",
     "text": []
    },
    {
     "name": "stdout",
     "output_type": "stream",
     "text": [
      "Generating samples with tau=0.5 ...\n",
      "Begin matching ranks ...\n",
      "Rank matching done in 14.10 seconds.\n"
     ]
    },
    {
     "name": "stderr",
     "output_type": "stream",
     "text": []
    },
    {
     "name": "stdout",
     "output_type": "stream",
     "text": [
      "Generating samples with tau=1 ...\n",
      "Begin matching ranks ...\n",
      "Rank matching done in 13.64 seconds.\n"
     ]
    },
    {
     "name": "stderr",
     "output_type": "stream",
     "text": []
    },
    {
     "name": "stdout",
     "output_type": "stream",
     "text": [
      "Warning: matrix is not symmetric, symmetrizing...\n",
      "Warning: matrix is not symmetric, symmetrizing...\n",
      "Warning: matrix is not symmetric, symmetrizing...\n",
      "Warning: matrix is not symmetric, symmetrizing...\n",
      "Warning: matrix is not symmetric, symmetrizing...\n"
     ]
    },
    {
     "name": "stderr",
     "output_type": "stream",
     "text": [
      "  5%|▌         | 1/20 [01:53<35:50, 113.20s/it]"
     ]
    },
    {
     "name": "stdout",
     "output_type": "stream",
     "text": [
      "X shape:  (3000, 7)\n",
      "y shape:  (3000,)\n",
      "Generating samples with tau=0 ...\n",
      "Begin matching ranks ...\n"
     ]
    },
    {
     "name": "stderr",
     "output_type": "stream",
     "text": [
      "/home/liu00980/Documents/multimodal/tabular/conditional/ddpm.py:232: UserWarning: To copy construct from a tensor, it is recommended to use sourceTensor.clone().detach() or sourceTensor.clone().detach().requires_grad_(True), rather than torch.tensor(sourceTensor).\n",
      "  x = torch.tensor(x, dtype=torch.float32).to(device)\n"
     ]
    },
    {
     "name": "stdout",
     "output_type": "stream",
     "text": [
      "Rank matching done in 14.06 seconds.\n"
     ]
    },
    {
     "name": "stderr",
     "output_type": "stream",
     "text": []
    },
    {
     "name": "stdout",
     "output_type": "stream",
     "text": [
      "Generating samples with tau=0.2 ...\n",
      "Begin matching ranks ...\n",
      "Rank matching done in 14.82 seconds.\n"
     ]
    },
    {
     "name": "stderr",
     "output_type": "stream",
     "text": []
    },
    {
     "name": "stdout",
     "output_type": "stream",
     "text": [
      "Generating samples with tau=0.5 ...\n",
      "Begin matching ranks ...\n",
      "Rank matching done in 14.03 seconds.\n"
     ]
    },
    {
     "name": "stderr",
     "output_type": "stream",
     "text": []
    },
    {
     "name": "stdout",
     "output_type": "stream",
     "text": [
      "Generating samples with tau=1 ...\n",
      "Begin matching ranks ...\n",
      "Rank matching done in 12.97 seconds.\n"
     ]
    },
    {
     "name": "stderr",
     "output_type": "stream",
     "text": []
    },
    {
     "name": "stdout",
     "output_type": "stream",
     "text": [
      "Warning: matrix is not symmetric, symmetrizing...\n",
      "Warning: matrix is not symmetric, symmetrizing...\n",
      "Warning: matrix is not symmetric, symmetrizing...\n",
      "Warning: matrix is not symmetric, symmetrizing...\n",
      "Warning: matrix is not symmetric, symmetrizing...\n"
     ]
    },
    {
     "name": "stderr",
     "output_type": "stream",
     "text": [
      " 10%|█         | 2/20 [03:46<33:58, 113.24s/it]"
     ]
    },
    {
     "name": "stdout",
     "output_type": "stream",
     "text": [
      "X shape:  (3000, 7)\n",
      "y shape:  (3000,)\n",
      "Generating samples with tau=0 ...\n",
      "Begin matching ranks ...\n"
     ]
    },
    {
     "name": "stderr",
     "output_type": "stream",
     "text": [
      "/home/liu00980/Documents/multimodal/tabular/conditional/ddpm.py:232: UserWarning: To copy construct from a tensor, it is recommended to use sourceTensor.clone().detach() or sourceTensor.clone().detach().requires_grad_(True), rather than torch.tensor(sourceTensor).\n",
      "  x = torch.tensor(x, dtype=torch.float32).to(device)\n"
     ]
    },
    {
     "name": "stdout",
     "output_type": "stream",
     "text": [
      "Rank matching done in 14.16 seconds.\n"
     ]
    },
    {
     "name": "stderr",
     "output_type": "stream",
     "text": []
    },
    {
     "name": "stdout",
     "output_type": "stream",
     "text": [
      "Generating samples with tau=0.2 ...\n",
      "Begin matching ranks ...\n",
      "Rank matching done in 14.94 seconds.\n"
     ]
    },
    {
     "name": "stderr",
     "output_type": "stream",
     "text": []
    },
    {
     "name": "stdout",
     "output_type": "stream",
     "text": [
      "Generating samples with tau=0.5 ...\n",
      "Begin matching ranks ...\n",
      "Rank matching done in 14.13 seconds.\n"
     ]
    },
    {
     "name": "stderr",
     "output_type": "stream",
     "text": []
    },
    {
     "name": "stdout",
     "output_type": "stream",
     "text": [
      "Generating samples with tau=1 ...\n",
      "Begin matching ranks ...\n",
      "Rank matching done in 12.43 seconds.\n"
     ]
    },
    {
     "name": "stderr",
     "output_type": "stream",
     "text": []
    },
    {
     "name": "stdout",
     "output_type": "stream",
     "text": [
      "Warning: matrix is not symmetric, symmetrizing...\n",
      "Warning: matrix is not symmetric, symmetrizing...\n",
      "Warning: matrix is not symmetric, symmetrizing...\n",
      "Warning: matrix is not symmetric, symmetrizing...\n",
      "Warning: matrix is not symmetric, symmetrizing...\n"
     ]
    },
    {
     "name": "stderr",
     "output_type": "stream",
     "text": [
      " 15%|█▌        | 3/20 [05:39<32:02, 113.11s/it]"
     ]
    },
    {
     "name": "stdout",
     "output_type": "stream",
     "text": [
      "X shape:  (3000, 7)\n",
      "y shape:  (3000,)\n",
      "Generating samples with tau=0 ...\n",
      "Begin matching ranks ...\n"
     ]
    },
    {
     "name": "stderr",
     "output_type": "stream",
     "text": [
      "/home/liu00980/Documents/multimodal/tabular/conditional/ddpm.py:232: UserWarning: To copy construct from a tensor, it is recommended to use sourceTensor.clone().detach() or sourceTensor.clone().detach().requires_grad_(True), rather than torch.tensor(sourceTensor).\n",
      "  x = torch.tensor(x, dtype=torch.float32).to(device)\n"
     ]
    },
    {
     "name": "stdout",
     "output_type": "stream",
     "text": [
      "Rank matching done in 14.39 seconds.\n"
     ]
    },
    {
     "name": "stderr",
     "output_type": "stream",
     "text": []
    },
    {
     "name": "stdout",
     "output_type": "stream",
     "text": [
      "Generating samples with tau=0.2 ...\n",
      "Begin matching ranks ...\n",
      "Rank matching done in 14.65 seconds.\n"
     ]
    },
    {
     "name": "stderr",
     "output_type": "stream",
     "text": []
    },
    {
     "name": "stdout",
     "output_type": "stream",
     "text": [
      "Generating samples with tau=0.5 ...\n",
      "Begin matching ranks ...\n",
      "Rank matching done in 14.21 seconds.\n"
     ]
    },
    {
     "name": "stderr",
     "output_type": "stream",
     "text": []
    },
    {
     "name": "stdout",
     "output_type": "stream",
     "text": [
      "Generating samples with tau=1 ...\n",
      "Begin matching ranks ...\n",
      "Rank matching done in 13.27 seconds.\n"
     ]
    },
    {
     "name": "stderr",
     "output_type": "stream",
     "text": []
    },
    {
     "name": "stdout",
     "output_type": "stream",
     "text": [
      "Warning: matrix is not symmetric, symmetrizing...\n",
      "Warning: matrix is not symmetric, symmetrizing...\n",
      "Warning: matrix is not symmetric, symmetrizing...\n",
      "Warning: matrix is not symmetric, symmetrizing...\n",
      "Warning: matrix is not symmetric, symmetrizing...\n"
     ]
    },
    {
     "name": "stderr",
     "output_type": "stream",
     "text": [
      " 20%|██        | 4/20 [07:32<30:10, 113.18s/it]"
     ]
    },
    {
     "name": "stdout",
     "output_type": "stream",
     "text": [
      "X shape:  (3000, 7)\n",
      "y shape:  (3000,)\n",
      "Generating samples with tau=0 ...\n",
      "Begin matching ranks ...\n"
     ]
    },
    {
     "name": "stderr",
     "output_type": "stream",
     "text": [
      "/home/liu00980/Documents/multimodal/tabular/conditional/ddpm.py:232: UserWarning: To copy construct from a tensor, it is recommended to use sourceTensor.clone().detach() or sourceTensor.clone().detach().requires_grad_(True), rather than torch.tensor(sourceTensor).\n",
      "  x = torch.tensor(x, dtype=torch.float32).to(device)\n"
     ]
    },
    {
     "name": "stdout",
     "output_type": "stream",
     "text": [
      "Rank matching done in 13.87 seconds.\n"
     ]
    },
    {
     "name": "stderr",
     "output_type": "stream",
     "text": []
    },
    {
     "name": "stdout",
     "output_type": "stream",
     "text": [
      "Generating samples with tau=0.2 ...\n",
      "Begin matching ranks ...\n",
      "Rank matching done in 15.15 seconds.\n"
     ]
    },
    {
     "name": "stderr",
     "output_type": "stream",
     "text": []
    },
    {
     "name": "stdout",
     "output_type": "stream",
     "text": [
      "Generating samples with tau=0.5 ...\n",
      "Begin matching ranks ...\n",
      "Rank matching done in 14.35 seconds.\n"
     ]
    },
    {
     "name": "stderr",
     "output_type": "stream",
     "text": []
    },
    {
     "name": "stdout",
     "output_type": "stream",
     "text": [
      "Generating samples with tau=1 ...\n",
      "Begin matching ranks ...\n",
      "Rank matching done in 12.53 seconds.\n"
     ]
    },
    {
     "name": "stderr",
     "output_type": "stream",
     "text": []
    },
    {
     "name": "stdout",
     "output_type": "stream",
     "text": [
      "Warning: matrix is not symmetric, symmetrizing...\n",
      "Warning: matrix is not symmetric, symmetrizing...\n",
      "Warning: matrix is not symmetric, symmetrizing...\n",
      "Warning: matrix is not symmetric, symmetrizing...\n",
      "Warning: matrix is not symmetric, symmetrizing...\n"
     ]
    },
    {
     "name": "stderr",
     "output_type": "stream",
     "text": [
      " 25%|██▌       | 5/20 [09:25<28:18, 113.21s/it]"
     ]
    },
    {
     "name": "stdout",
     "output_type": "stream",
     "text": [
      "X shape:  (3000, 7)\n",
      "y shape:  (3000,)\n",
      "Generating samples with tau=0 ...\n",
      "Begin matching ranks ...\n"
     ]
    },
    {
     "name": "stderr",
     "output_type": "stream",
     "text": [
      "/home/liu00980/Documents/multimodal/tabular/conditional/ddpm.py:232: UserWarning: To copy construct from a tensor, it is recommended to use sourceTensor.clone().detach() or sourceTensor.clone().detach().requires_grad_(True), rather than torch.tensor(sourceTensor).\n",
      "  x = torch.tensor(x, dtype=torch.float32).to(device)\n"
     ]
    },
    {
     "name": "stdout",
     "output_type": "stream",
     "text": [
      "Rank matching done in 14.22 seconds.\n"
     ]
    },
    {
     "name": "stderr",
     "output_type": "stream",
     "text": []
    },
    {
     "name": "stdout",
     "output_type": "stream",
     "text": [
      "Generating samples with tau=0.2 ...\n",
      "Begin matching ranks ...\n",
      "Rank matching done in 14.90 seconds.\n"
     ]
    },
    {
     "name": "stderr",
     "output_type": "stream",
     "text": []
    },
    {
     "name": "stdout",
     "output_type": "stream",
     "text": [
      "Generating samples with tau=0.5 ...\n",
      "Begin matching ranks ...\n",
      "Rank matching done in 14.23 seconds.\n"
     ]
    },
    {
     "name": "stderr",
     "output_type": "stream",
     "text": []
    },
    {
     "name": "stdout",
     "output_type": "stream",
     "text": [
      "Generating samples with tau=1 ...\n",
      "Begin matching ranks ...\n",
      "Rank matching done in 12.95 seconds.\n"
     ]
    },
    {
     "name": "stderr",
     "output_type": "stream",
     "text": []
    },
    {
     "name": "stdout",
     "output_type": "stream",
     "text": [
      "Warning: matrix is not symmetric, symmetrizing...\n",
      "Warning: matrix is not symmetric, symmetrizing...\n",
      "Warning: matrix is not symmetric, symmetrizing...\n",
      "Warning: matrix is not symmetric, symmetrizing...\n",
      "Warning: matrix is not symmetric, symmetrizing...\n"
     ]
    },
    {
     "name": "stderr",
     "output_type": "stream",
     "text": [
      " 30%|███       | 6/20 [11:19<26:27, 113.36s/it]"
     ]
    },
    {
     "name": "stdout",
     "output_type": "stream",
     "text": [
      "X shape:  (3000, 7)\n",
      "y shape:  (3000,)\n",
      "Generating samples with tau=0 ...\n",
      "Begin matching ranks ...\n"
     ]
    },
    {
     "name": "stderr",
     "output_type": "stream",
     "text": [
      "/home/liu00980/Documents/multimodal/tabular/conditional/ddpm.py:232: UserWarning: To copy construct from a tensor, it is recommended to use sourceTensor.clone().detach() or sourceTensor.clone().detach().requires_grad_(True), rather than torch.tensor(sourceTensor).\n",
      "  x = torch.tensor(x, dtype=torch.float32).to(device)\n"
     ]
    },
    {
     "name": "stdout",
     "output_type": "stream",
     "text": [
      "Rank matching done in 14.32 seconds.\n"
     ]
    },
    {
     "name": "stderr",
     "output_type": "stream",
     "text": []
    },
    {
     "name": "stdout",
     "output_type": "stream",
     "text": [
      "Generating samples with tau=0.2 ...\n",
      "Begin matching ranks ...\n",
      "Rank matching done in 14.88 seconds.\n"
     ]
    },
    {
     "name": "stderr",
     "output_type": "stream",
     "text": []
    },
    {
     "name": "stdout",
     "output_type": "stream",
     "text": [
      "Generating samples with tau=0.5 ...\n",
      "Begin matching ranks ...\n",
      "Rank matching done in 14.09 seconds.\n"
     ]
    },
    {
     "name": "stderr",
     "output_type": "stream",
     "text": []
    },
    {
     "name": "stdout",
     "output_type": "stream",
     "text": [
      "Generating samples with tau=1 ...\n",
      "Begin matching ranks ...\n",
      "Rank matching done in 12.83 seconds.\n"
     ]
    },
    {
     "name": "stderr",
     "output_type": "stream",
     "text": []
    },
    {
     "name": "stdout",
     "output_type": "stream",
     "text": [
      "Warning: matrix is not symmetric, symmetrizing...\n",
      "Warning: matrix is not symmetric, symmetrizing...\n",
      "Warning: matrix is not symmetric, symmetrizing...\n",
      "Warning: matrix is not symmetric, symmetrizing...\n",
      "Warning: matrix is not symmetric, symmetrizing...\n"
     ]
    },
    {
     "name": "stderr",
     "output_type": "stream",
     "text": [
      " 35%|███▌      | 7/20 [13:12<24:31, 113.19s/it]"
     ]
    },
    {
     "name": "stdout",
     "output_type": "stream",
     "text": [
      "X shape:  (3000, 7)\n",
      "y shape:  (3000,)\n",
      "Generating samples with tau=0 ...\n",
      "Begin matching ranks ...\n"
     ]
    },
    {
     "name": "stderr",
     "output_type": "stream",
     "text": [
      "/home/liu00980/Documents/multimodal/tabular/conditional/ddpm.py:232: UserWarning: To copy construct from a tensor, it is recommended to use sourceTensor.clone().detach() or sourceTensor.clone().detach().requires_grad_(True), rather than torch.tensor(sourceTensor).\n",
      "  x = torch.tensor(x, dtype=torch.float32).to(device)\n"
     ]
    },
    {
     "name": "stdout",
     "output_type": "stream",
     "text": [
      "Rank matching done in 14.28 seconds.\n"
     ]
    },
    {
     "name": "stderr",
     "output_type": "stream",
     "text": []
    },
    {
     "name": "stdout",
     "output_type": "stream",
     "text": [
      "Generating samples with tau=0.2 ...\n",
      "Begin matching ranks ...\n",
      "Rank matching done in 14.66 seconds.\n"
     ]
    },
    {
     "name": "stderr",
     "output_type": "stream",
     "text": []
    },
    {
     "name": "stdout",
     "output_type": "stream",
     "text": [
      "Generating samples with tau=0.5 ...\n",
      "Begin matching ranks ...\n",
      "Rank matching done in 14.16 seconds.\n"
     ]
    },
    {
     "name": "stderr",
     "output_type": "stream",
     "text": []
    },
    {
     "name": "stdout",
     "output_type": "stream",
     "text": [
      "Generating samples with tau=1 ...\n",
      "Begin matching ranks ...\n",
      "Rank matching done in 13.04 seconds.\n"
     ]
    },
    {
     "name": "stderr",
     "output_type": "stream",
     "text": []
    },
    {
     "name": "stdout",
     "output_type": "stream",
     "text": [
      "Warning: matrix is not symmetric, symmetrizing...\n",
      "Warning: matrix is not symmetric, symmetrizing...\n",
      "Warning: matrix is not symmetric, symmetrizing...\n",
      "Warning: matrix is not symmetric, symmetrizing...\n",
      "Warning: matrix is not symmetric, symmetrizing...\n"
     ]
    },
    {
     "name": "stderr",
     "output_type": "stream",
     "text": [
      " 40%|████      | 8/20 [15:05<22:38, 113.19s/it]"
     ]
    },
    {
     "name": "stdout",
     "output_type": "stream",
     "text": [
      "X shape:  (3000, 7)\n",
      "y shape:  (3000,)\n",
      "Generating samples with tau=0 ...\n",
      "Begin matching ranks ...\n"
     ]
    },
    {
     "name": "stderr",
     "output_type": "stream",
     "text": [
      "/home/liu00980/Documents/multimodal/tabular/conditional/ddpm.py:232: UserWarning: To copy construct from a tensor, it is recommended to use sourceTensor.clone().detach() or sourceTensor.clone().detach().requires_grad_(True), rather than torch.tensor(sourceTensor).\n",
      "  x = torch.tensor(x, dtype=torch.float32).to(device)\n"
     ]
    },
    {
     "name": "stdout",
     "output_type": "stream",
     "text": [
      "Rank matching done in 14.24 seconds.\n"
     ]
    },
    {
     "name": "stderr",
     "output_type": "stream",
     "text": []
    },
    {
     "name": "stdout",
     "output_type": "stream",
     "text": [
      "Generating samples with tau=0.2 ...\n",
      "Begin matching ranks ...\n",
      "Rank matching done in 14.76 seconds.\n"
     ]
    },
    {
     "name": "stderr",
     "output_type": "stream",
     "text": []
    },
    {
     "name": "stdout",
     "output_type": "stream",
     "text": [
      "Generating samples with tau=0.5 ...\n",
      "Begin matching ranks ...\n",
      "Rank matching done in 14.03 seconds.\n"
     ]
    },
    {
     "name": "stderr",
     "output_type": "stream",
     "text": []
    },
    {
     "name": "stdout",
     "output_type": "stream",
     "text": [
      "Generating samples with tau=1 ...\n",
      "Begin matching ranks ...\n",
      "Rank matching done in 12.88 seconds.\n"
     ]
    },
    {
     "name": "stderr",
     "output_type": "stream",
     "text": []
    },
    {
     "name": "stdout",
     "output_type": "stream",
     "text": [
      "Warning: matrix is not symmetric, symmetrizing...\n",
      "Warning: matrix is not symmetric, symmetrizing...\n",
      "Warning: matrix is not symmetric, symmetrizing...\n",
      "Warning: matrix is not symmetric, symmetrizing...\n",
      "Warning: matrix is not symmetric, symmetrizing...\n"
     ]
    },
    {
     "name": "stderr",
     "output_type": "stream",
     "text": [
      " 45%|████▌     | 9/20 [16:59<20:46, 113.29s/it]"
     ]
    },
    {
     "name": "stdout",
     "output_type": "stream",
     "text": [
      "X shape:  (3000, 7)\n",
      "y shape:  (3000,)\n",
      "Generating samples with tau=0 ...\n",
      "Begin matching ranks ...\n"
     ]
    },
    {
     "name": "stderr",
     "output_type": "stream",
     "text": [
      "/home/liu00980/Documents/multimodal/tabular/conditional/ddpm.py:232: UserWarning: To copy construct from a tensor, it is recommended to use sourceTensor.clone().detach() or sourceTensor.clone().detach().requires_grad_(True), rather than torch.tensor(sourceTensor).\n",
      "  x = torch.tensor(x, dtype=torch.float32).to(device)\n"
     ]
    },
    {
     "name": "stdout",
     "output_type": "stream",
     "text": [
      "Rank matching done in 14.06 seconds.\n"
     ]
    },
    {
     "name": "stderr",
     "output_type": "stream",
     "text": []
    },
    {
     "name": "stdout",
     "output_type": "stream",
     "text": [
      "Generating samples with tau=0.2 ...\n",
      "Begin matching ranks ...\n",
      "Rank matching done in 14.87 seconds.\n"
     ]
    },
    {
     "name": "stderr",
     "output_type": "stream",
     "text": []
    },
    {
     "name": "stdout",
     "output_type": "stream",
     "text": [
      "Generating samples with tau=0.5 ...\n",
      "Begin matching ranks ...\n",
      "Rank matching done in 14.45 seconds.\n"
     ]
    },
    {
     "name": "stderr",
     "output_type": "stream",
     "text": []
    },
    {
     "name": "stdout",
     "output_type": "stream",
     "text": [
      "Generating samples with tau=1 ...\n",
      "Begin matching ranks ...\n",
      "Rank matching done in 12.99 seconds.\n"
     ]
    },
    {
     "name": "stderr",
     "output_type": "stream",
     "text": []
    },
    {
     "name": "stdout",
     "output_type": "stream",
     "text": [
      "Warning: matrix is not symmetric, symmetrizing...\n",
      "Warning: matrix is not symmetric, symmetrizing...\n",
      "Warning: matrix is not symmetric, symmetrizing...\n",
      "Warning: matrix is not symmetric, symmetrizing...\n",
      "Warning: matrix is not symmetric, symmetrizing...\n"
     ]
    },
    {
     "name": "stderr",
     "output_type": "stream",
     "text": [
      " 50%|█████     | 10/20 [18:52<18:53, 113.35s/it]"
     ]
    },
    {
     "name": "stdout",
     "output_type": "stream",
     "text": [
      "X shape:  (3000, 7)\n",
      "y shape:  (3000,)\n",
      "Generating samples with tau=0 ...\n",
      "Begin matching ranks ...\n"
     ]
    },
    {
     "name": "stderr",
     "output_type": "stream",
     "text": [
      "/home/liu00980/Documents/multimodal/tabular/conditional/ddpm.py:232: UserWarning: To copy construct from a tensor, it is recommended to use sourceTensor.clone().detach() or sourceTensor.clone().detach().requires_grad_(True), rather than torch.tensor(sourceTensor).\n",
      "  x = torch.tensor(x, dtype=torch.float32).to(device)\n"
     ]
    },
    {
     "name": "stdout",
     "output_type": "stream",
     "text": [
      "Rank matching done in 14.51 seconds.\n"
     ]
    },
    {
     "name": "stderr",
     "output_type": "stream",
     "text": []
    },
    {
     "name": "stdout",
     "output_type": "stream",
     "text": [
      "Generating samples with tau=0.2 ...\n",
      "Begin matching ranks ...\n",
      "Rank matching done in 14.71 seconds.\n"
     ]
    },
    {
     "name": "stderr",
     "output_type": "stream",
     "text": []
    },
    {
     "name": "stdout",
     "output_type": "stream",
     "text": [
      "Generating samples with tau=0.5 ...\n",
      "Begin matching ranks ...\n",
      "Rank matching done in 14.30 seconds.\n"
     ]
    },
    {
     "name": "stderr",
     "output_type": "stream",
     "text": []
    },
    {
     "name": "stdout",
     "output_type": "stream",
     "text": [
      "Generating samples with tau=1 ...\n",
      "Begin matching ranks ...\n",
      "Rank matching done in 13.11 seconds.\n"
     ]
    },
    {
     "name": "stderr",
     "output_type": "stream",
     "text": []
    },
    {
     "name": "stdout",
     "output_type": "stream",
     "text": [
      "Warning: matrix is not symmetric, symmetrizing...\n",
      "Warning: matrix is not symmetric, symmetrizing...\n",
      "Warning: matrix is not symmetric, symmetrizing...\n",
      "Warning: matrix is not symmetric, symmetrizing...\n",
      "Warning: matrix is not symmetric, symmetrizing...\n"
     ]
    },
    {
     "name": "stderr",
     "output_type": "stream",
     "text": [
      " 55%|█████▌    | 11/20 [20:46<17:02, 113.64s/it]"
     ]
    },
    {
     "name": "stdout",
     "output_type": "stream",
     "text": [
      "X shape:  (3000, 7)\n",
      "y shape:  (3000,)\n",
      "Generating samples with tau=0 ...\n",
      "Begin matching ranks ...\n"
     ]
    },
    {
     "name": "stderr",
     "output_type": "stream",
     "text": [
      "/home/liu00980/Documents/multimodal/tabular/conditional/ddpm.py:232: UserWarning: To copy construct from a tensor, it is recommended to use sourceTensor.clone().detach() or sourceTensor.clone().detach().requires_grad_(True), rather than torch.tensor(sourceTensor).\n",
      "  x = torch.tensor(x, dtype=torch.float32).to(device)\n"
     ]
    },
    {
     "name": "stdout",
     "output_type": "stream",
     "text": [
      "Rank matching done in 14.41 seconds.\n"
     ]
    },
    {
     "name": "stderr",
     "output_type": "stream",
     "text": []
    },
    {
     "name": "stdout",
     "output_type": "stream",
     "text": [
      "Generating samples with tau=0.2 ...\n",
      "Begin matching ranks ...\n",
      "Rank matching done in 14.59 seconds.\n"
     ]
    },
    {
     "name": "stderr",
     "output_type": "stream",
     "text": []
    },
    {
     "name": "stdout",
     "output_type": "stream",
     "text": [
      "Generating samples with tau=0.5 ...\n",
      "Begin matching ranks ...\n",
      "Rank matching done in 14.43 seconds.\n"
     ]
    },
    {
     "name": "stderr",
     "output_type": "stream",
     "text": []
    },
    {
     "name": "stdout",
     "output_type": "stream",
     "text": [
      "Generating samples with tau=1 ...\n",
      "Begin matching ranks ...\n",
      "Rank matching done in 13.09 seconds.\n"
     ]
    },
    {
     "name": "stderr",
     "output_type": "stream",
     "text": []
    },
    {
     "name": "stdout",
     "output_type": "stream",
     "text": [
      "Warning: matrix is not symmetric, symmetrizing...\n",
      "Warning: matrix is not symmetric, symmetrizing...\n",
      "Warning: matrix is not symmetric, symmetrizing...\n",
      "Warning: matrix is not symmetric, symmetrizing...\n",
      "Warning: matrix is not symmetric, symmetrizing...\n"
     ]
    },
    {
     "name": "stderr",
     "output_type": "stream",
     "text": [
      " 60%|██████    | 12/20 [22:40<15:08, 113.55s/it]"
     ]
    },
    {
     "name": "stdout",
     "output_type": "stream",
     "text": [
      "X shape:  (3000, 7)\n",
      "y shape:  (3000,)\n",
      "Generating samples with tau=0 ...\n",
      "Begin matching ranks ...\n"
     ]
    },
    {
     "name": "stderr",
     "output_type": "stream",
     "text": [
      "/home/liu00980/Documents/multimodal/tabular/conditional/ddpm.py:232: UserWarning: To copy construct from a tensor, it is recommended to use sourceTensor.clone().detach() or sourceTensor.clone().detach().requires_grad_(True), rather than torch.tensor(sourceTensor).\n",
      "  x = torch.tensor(x, dtype=torch.float32).to(device)\n"
     ]
    },
    {
     "name": "stdout",
     "output_type": "stream",
     "text": [
      "Rank matching done in 14.32 seconds.\n"
     ]
    },
    {
     "name": "stderr",
     "output_type": "stream",
     "text": []
    },
    {
     "name": "stdout",
     "output_type": "stream",
     "text": [
      "Generating samples with tau=0.2 ...\n",
      "Begin matching ranks ...\n",
      "Rank matching done in 15.16 seconds.\n"
     ]
    },
    {
     "name": "stderr",
     "output_type": "stream",
     "text": []
    },
    {
     "name": "stdout",
     "output_type": "stream",
     "text": [
      "Generating samples with tau=0.5 ...\n",
      "Begin matching ranks ...\n",
      "Rank matching done in 14.05 seconds.\n"
     ]
    },
    {
     "name": "stderr",
     "output_type": "stream",
     "text": []
    },
    {
     "name": "stdout",
     "output_type": "stream",
     "text": [
      "Generating samples with tau=1 ...\n",
      "Begin matching ranks ...\n",
      "Rank matching done in 12.67 seconds.\n"
     ]
    },
    {
     "name": "stderr",
     "output_type": "stream",
     "text": []
    },
    {
     "name": "stdout",
     "output_type": "stream",
     "text": [
      "Warning: matrix is not symmetric, symmetrizing...\n",
      "Warning: matrix is not symmetric, symmetrizing...\n",
      "Warning: matrix is not symmetric, symmetrizing...\n",
      "Warning: matrix is not symmetric, symmetrizing...\n",
      "Warning: matrix is not symmetric, symmetrizing...\n"
     ]
    },
    {
     "name": "stderr",
     "output_type": "stream",
     "text": [
      " 65%|██████▌   | 13/20 [24:32<13:12, 113.27s/it]"
     ]
    },
    {
     "name": "stdout",
     "output_type": "stream",
     "text": [
      "X shape:  (3000, 7)\n",
      "y shape:  (3000,)\n",
      "Generating samples with tau=0 ...\n",
      "Begin matching ranks ...\n"
     ]
    },
    {
     "name": "stderr",
     "output_type": "stream",
     "text": [
      "/home/liu00980/Documents/multimodal/tabular/conditional/ddpm.py:232: UserWarning: To copy construct from a tensor, it is recommended to use sourceTensor.clone().detach() or sourceTensor.clone().detach().requires_grad_(True), rather than torch.tensor(sourceTensor).\n",
      "  x = torch.tensor(x, dtype=torch.float32).to(device)\n"
     ]
    },
    {
     "name": "stdout",
     "output_type": "stream",
     "text": [
      "Rank matching done in 13.97 seconds.\n"
     ]
    },
    {
     "name": "stderr",
     "output_type": "stream",
     "text": []
    },
    {
     "name": "stdout",
     "output_type": "stream",
     "text": [
      "Generating samples with tau=0.2 ...\n",
      "Begin matching ranks ...\n",
      "Rank matching done in 14.65 seconds.\n"
     ]
    },
    {
     "name": "stderr",
     "output_type": "stream",
     "text": []
    },
    {
     "name": "stdout",
     "output_type": "stream",
     "text": [
      "Generating samples with tau=0.5 ...\n",
      "Begin matching ranks ...\n",
      "Rank matching done in 13.95 seconds.\n"
     ]
    },
    {
     "name": "stderr",
     "output_type": "stream",
     "text": []
    },
    {
     "name": "stdout",
     "output_type": "stream",
     "text": [
      "Generating samples with tau=1 ...\n",
      "Begin matching ranks ...\n",
      "Rank matching done in 13.57 seconds.\n"
     ]
    },
    {
     "name": "stderr",
     "output_type": "stream",
     "text": []
    },
    {
     "name": "stdout",
     "output_type": "stream",
     "text": [
      "Warning: matrix is not symmetric, symmetrizing...\n",
      "Warning: matrix is not symmetric, symmetrizing...\n",
      "Warning: matrix is not symmetric, symmetrizing...\n",
      "Warning: matrix is not symmetric, symmetrizing...\n",
      "Warning: matrix is not symmetric, symmetrizing...\n"
     ]
    },
    {
     "name": "stderr",
     "output_type": "stream",
     "text": [
      " 70%|███████   | 14/20 [26:25<11:19, 113.19s/it]"
     ]
    },
    {
     "name": "stdout",
     "output_type": "stream",
     "text": [
      "X shape:  (3000, 7)\n",
      "y shape:  (3000,)\n",
      "Generating samples with tau=0 ...\n",
      "Begin matching ranks ...\n"
     ]
    },
    {
     "name": "stderr",
     "output_type": "stream",
     "text": [
      "/home/liu00980/Documents/multimodal/tabular/conditional/ddpm.py:232: UserWarning: To copy construct from a tensor, it is recommended to use sourceTensor.clone().detach() or sourceTensor.clone().detach().requires_grad_(True), rather than torch.tensor(sourceTensor).\n",
      "  x = torch.tensor(x, dtype=torch.float32).to(device)\n"
     ]
    },
    {
     "name": "stdout",
     "output_type": "stream",
     "text": [
      "Rank matching done in 13.71 seconds.\n"
     ]
    },
    {
     "name": "stderr",
     "output_type": "stream",
     "text": []
    },
    {
     "name": "stdout",
     "output_type": "stream",
     "text": [
      "Generating samples with tau=0.2 ...\n",
      "Begin matching ranks ...\n",
      "Rank matching done in 14.75 seconds.\n"
     ]
    },
    {
     "name": "stderr",
     "output_type": "stream",
     "text": []
    },
    {
     "name": "stdout",
     "output_type": "stream",
     "text": [
      "Generating samples with tau=0.5 ...\n",
      "Begin matching ranks ...\n",
      "Rank matching done in 13.83 seconds.\n"
     ]
    },
    {
     "name": "stderr",
     "output_type": "stream",
     "text": []
    },
    {
     "name": "stdout",
     "output_type": "stream",
     "text": [
      "Generating samples with tau=1 ...\n",
      "Begin matching ranks ...\n",
      "Rank matching done in 12.61 seconds.\n"
     ]
    },
    {
     "name": "stderr",
     "output_type": "stream",
     "text": []
    },
    {
     "name": "stdout",
     "output_type": "stream",
     "text": [
      "Warning: matrix is not symmetric, symmetrizing...\n",
      "Warning: matrix is not symmetric, symmetrizing...\n",
      "Warning: matrix is not symmetric, symmetrizing...\n",
      "Warning: matrix is not symmetric, symmetrizing...\n",
      "Warning: matrix is not symmetric, symmetrizing...\n"
     ]
    },
    {
     "name": "stderr",
     "output_type": "stream",
     "text": [
      " 75%|███████▌  | 15/20 [28:17<09:23, 112.77s/it]"
     ]
    },
    {
     "name": "stdout",
     "output_type": "stream",
     "text": [
      "X shape:  (3000, 7)\n",
      "y shape:  (3000,)\n",
      "Generating samples with tau=0 ...\n",
      "Begin matching ranks ...\n"
     ]
    },
    {
     "name": "stderr",
     "output_type": "stream",
     "text": [
      "/home/liu00980/Documents/multimodal/tabular/conditional/ddpm.py:232: UserWarning: To copy construct from a tensor, it is recommended to use sourceTensor.clone().detach() or sourceTensor.clone().detach().requires_grad_(True), rather than torch.tensor(sourceTensor).\n",
      "  x = torch.tensor(x, dtype=torch.float32).to(device)\n"
     ]
    },
    {
     "name": "stdout",
     "output_type": "stream",
     "text": [
      "Rank matching done in 13.87 seconds.\n"
     ]
    },
    {
     "name": "stderr",
     "output_type": "stream",
     "text": []
    },
    {
     "name": "stdout",
     "output_type": "stream",
     "text": [
      "Generating samples with tau=0.2 ...\n",
      "Begin matching ranks ...\n",
      "Rank matching done in 14.62 seconds.\n"
     ]
    },
    {
     "name": "stderr",
     "output_type": "stream",
     "text": []
    },
    {
     "name": "stdout",
     "output_type": "stream",
     "text": [
      "Generating samples with tau=0.5 ...\n",
      "Begin matching ranks ...\n",
      "Rank matching done in 13.45 seconds.\n"
     ]
    },
    {
     "name": "stderr",
     "output_type": "stream",
     "text": []
    },
    {
     "name": "stdout",
     "output_type": "stream",
     "text": [
      "Generating samples with tau=1 ...\n",
      "Begin matching ranks ...\n",
      "Rank matching done in 12.84 seconds.\n"
     ]
    },
    {
     "name": "stderr",
     "output_type": "stream",
     "text": []
    },
    {
     "name": "stdout",
     "output_type": "stream",
     "text": [
      "Warning: matrix is not symmetric, symmetrizing...\n",
      "Warning: matrix is not symmetric, symmetrizing...\n",
      "Warning: matrix is not symmetric, symmetrizing...\n",
      "Warning: matrix is not symmetric, symmetrizing...\n",
      "Warning: matrix is not symmetric, symmetrizing...\n"
     ]
    },
    {
     "name": "stderr",
     "output_type": "stream",
     "text": [
      " 80%|████████  | 16/20 [30:09<07:29, 112.39s/it]"
     ]
    },
    {
     "name": "stdout",
     "output_type": "stream",
     "text": [
      "X shape:  (3000, 7)\n",
      "y shape:  (3000,)\n",
      "Generating samples with tau=0 ...\n",
      "Begin matching ranks ...\n"
     ]
    },
    {
     "name": "stderr",
     "output_type": "stream",
     "text": [
      "/home/liu00980/Documents/multimodal/tabular/conditional/ddpm.py:232: UserWarning: To copy construct from a tensor, it is recommended to use sourceTensor.clone().detach() or sourceTensor.clone().detach().requires_grad_(True), rather than torch.tensor(sourceTensor).\n",
      "  x = torch.tensor(x, dtype=torch.float32).to(device)\n"
     ]
    },
    {
     "name": "stdout",
     "output_type": "stream",
     "text": [
      "Rank matching done in 13.80 seconds.\n"
     ]
    },
    {
     "name": "stderr",
     "output_type": "stream",
     "text": []
    },
    {
     "name": "stdout",
     "output_type": "stream",
     "text": [
      "Generating samples with tau=0.2 ...\n",
      "Begin matching ranks ...\n",
      "Rank matching done in 14.30 seconds.\n"
     ]
    },
    {
     "name": "stderr",
     "output_type": "stream",
     "text": []
    },
    {
     "name": "stdout",
     "output_type": "stream",
     "text": [
      "Generating samples with tau=0.5 ...\n",
      "Begin matching ranks ...\n",
      "Rank matching done in 14.24 seconds.\n"
     ]
    },
    {
     "name": "stderr",
     "output_type": "stream",
     "text": []
    },
    {
     "name": "stdout",
     "output_type": "stream",
     "text": [
      "Generating samples with tau=1 ...\n",
      "Begin matching ranks ...\n",
      "Rank matching done in 12.74 seconds.\n"
     ]
    },
    {
     "name": "stderr",
     "output_type": "stream",
     "text": []
    },
    {
     "name": "stdout",
     "output_type": "stream",
     "text": [
      "Warning: matrix is not symmetric, symmetrizing...\n",
      "Warning: matrix is not symmetric, symmetrizing...\n",
      "Warning: matrix is not symmetric, symmetrizing...\n",
      "Warning: matrix is not symmetric, symmetrizing...\n",
      "Warning: matrix is not symmetric, symmetrizing...\n"
     ]
    },
    {
     "name": "stderr",
     "output_type": "stream",
     "text": [
      " 85%|████████▌ | 17/20 [32:01<05:36, 112.24s/it]"
     ]
    },
    {
     "name": "stdout",
     "output_type": "stream",
     "text": [
      "X shape:  (3000, 7)\n",
      "y shape:  (3000,)\n",
      "Generating samples with tau=0 ...\n",
      "Begin matching ranks ...\n"
     ]
    },
    {
     "name": "stderr",
     "output_type": "stream",
     "text": [
      "/home/liu00980/Documents/multimodal/tabular/conditional/ddpm.py:232: UserWarning: To copy construct from a tensor, it is recommended to use sourceTensor.clone().detach() or sourceTensor.clone().detach().requires_grad_(True), rather than torch.tensor(sourceTensor).\n",
      "  x = torch.tensor(x, dtype=torch.float32).to(device)\n"
     ]
    },
    {
     "name": "stdout",
     "output_type": "stream",
     "text": [
      "Rank matching done in 13.26 seconds.\n"
     ]
    },
    {
     "name": "stderr",
     "output_type": "stream",
     "text": []
    },
    {
     "name": "stdout",
     "output_type": "stream",
     "text": [
      "Generating samples with tau=0.2 ...\n",
      "Begin matching ranks ...\n",
      "Rank matching done in 14.33 seconds.\n"
     ]
    },
    {
     "name": "stderr",
     "output_type": "stream",
     "text": []
    },
    {
     "name": "stdout",
     "output_type": "stream",
     "text": [
      "Generating samples with tau=0.5 ...\n",
      "Begin matching ranks ...\n",
      "Rank matching done in 13.79 seconds.\n"
     ]
    },
    {
     "name": "stderr",
     "output_type": "stream",
     "text": []
    },
    {
     "name": "stdout",
     "output_type": "stream",
     "text": [
      "Generating samples with tau=1 ...\n",
      "Begin matching ranks ...\n",
      "Rank matching done in 12.77 seconds.\n"
     ]
    },
    {
     "name": "stderr",
     "output_type": "stream",
     "text": []
    },
    {
     "name": "stdout",
     "output_type": "stream",
     "text": [
      "Warning: matrix is not symmetric, symmetrizing...\n",
      "Warning: matrix is not symmetric, symmetrizing...\n",
      "Warning: matrix is not symmetric, symmetrizing...\n",
      "Warning: matrix is not symmetric, symmetrizing...\n",
      "Warning: matrix is not symmetric, symmetrizing...\n"
     ]
    },
    {
     "name": "stderr",
     "output_type": "stream",
     "text": [
      " 90%|█████████ | 18/20 [33:51<03:43, 111.57s/it]"
     ]
    },
    {
     "name": "stdout",
     "output_type": "stream",
     "text": [
      "X shape:  (3000, 7)\n",
      "y shape:  (3000,)\n",
      "Generating samples with tau=0 ...\n",
      "Begin matching ranks ...\n"
     ]
    },
    {
     "name": "stderr",
     "output_type": "stream",
     "text": [
      "/home/liu00980/Documents/multimodal/tabular/conditional/ddpm.py:232: UserWarning: To copy construct from a tensor, it is recommended to use sourceTensor.clone().detach() or sourceTensor.clone().detach().requires_grad_(True), rather than torch.tensor(sourceTensor).\n",
      "  x = torch.tensor(x, dtype=torch.float32).to(device)\n"
     ]
    },
    {
     "name": "stdout",
     "output_type": "stream",
     "text": [
      "Rank matching done in 13.54 seconds.\n"
     ]
    },
    {
     "name": "stderr",
     "output_type": "stream",
     "text": []
    },
    {
     "name": "stdout",
     "output_type": "stream",
     "text": [
      "Generating samples with tau=0.2 ...\n",
      "Begin matching ranks ...\n",
      "Rank matching done in 14.68 seconds.\n"
     ]
    },
    {
     "name": "stderr",
     "output_type": "stream",
     "text": []
    },
    {
     "name": "stdout",
     "output_type": "stream",
     "text": [
      "Generating samples with tau=0.5 ...\n",
      "Begin matching ranks ...\n",
      "Rank matching done in 13.27 seconds.\n"
     ]
    },
    {
     "name": "stderr",
     "output_type": "stream",
     "text": []
    },
    {
     "name": "stdout",
     "output_type": "stream",
     "text": [
      "Generating samples with tau=1 ...\n",
      "Begin matching ranks ...\n",
      "Rank matching done in 12.68 seconds.\n"
     ]
    },
    {
     "name": "stderr",
     "output_type": "stream",
     "text": []
    },
    {
     "name": "stdout",
     "output_type": "stream",
     "text": [
      "Warning: matrix is not symmetric, symmetrizing...\n",
      "Warning: matrix is not symmetric, symmetrizing...\n",
      "Warning: matrix is not symmetric, symmetrizing...\n",
      "Warning: matrix is not symmetric, symmetrizing...\n",
      "Warning: matrix is not symmetric, symmetrizing...\n"
     ]
    },
    {
     "name": "stderr",
     "output_type": "stream",
     "text": [
      " 95%|█████████▌| 19/20 [35:42<01:51, 111.43s/it]"
     ]
    },
    {
     "name": "stdout",
     "output_type": "stream",
     "text": [
      "X shape:  (3000, 7)\n",
      "y shape:  (3000,)\n",
      "Generating samples with tau=0 ...\n",
      "Begin matching ranks ...\n"
     ]
    },
    {
     "name": "stderr",
     "output_type": "stream",
     "text": [
      "/home/liu00980/Documents/multimodal/tabular/conditional/ddpm.py:232: UserWarning: To copy construct from a tensor, it is recommended to use sourceTensor.clone().detach() or sourceTensor.clone().detach().requires_grad_(True), rather than torch.tensor(sourceTensor).\n",
      "  x = torch.tensor(x, dtype=torch.float32).to(device)\n"
     ]
    },
    {
     "name": "stdout",
     "output_type": "stream",
     "text": [
      "Rank matching done in 14.13 seconds.\n"
     ]
    },
    {
     "name": "stderr",
     "output_type": "stream",
     "text": []
    },
    {
     "name": "stdout",
     "output_type": "stream",
     "text": [
      "Generating samples with tau=0.2 ...\n",
      "Begin matching ranks ...\n",
      "Rank matching done in 13.94 seconds.\n"
     ]
    },
    {
     "name": "stderr",
     "output_type": "stream",
     "text": []
    },
    {
     "name": "stdout",
     "output_type": "stream",
     "text": [
      "Generating samples with tau=0.5 ...\n",
      "Begin matching ranks ...\n",
      "Rank matching done in 14.09 seconds.\n"
     ]
    },
    {
     "name": "stderr",
     "output_type": "stream",
     "text": []
    },
    {
     "name": "stdout",
     "output_type": "stream",
     "text": [
      "Generating samples with tau=1 ...\n",
      "Begin matching ranks ...\n",
      "Rank matching done in 12.56 seconds.\n"
     ]
    },
    {
     "name": "stderr",
     "output_type": "stream",
     "text": []
    },
    {
     "name": "stdout",
     "output_type": "stream",
     "text": [
      "Warning: matrix is not symmetric, symmetrizing...\n",
      "Warning: matrix is not symmetric, symmetrizing...\n",
      "Warning: matrix is not symmetric, symmetrizing...\n",
      "Warning: matrix is not symmetric, symmetrizing...\n",
      "Warning: matrix is not symmetric, symmetrizing...\n"
     ]
    },
    {
     "name": "stderr",
     "output_type": "stream",
     "text": [
      "100%|██████████| 20/20 [37:33<00:00, 112.67s/it]\n"
     ]
    }
   ],
   "source": [
    "np.random.seed(seed)\n",
    "torch.manual_seed(seed)\n",
    "torch.cuda.manual_seed(seed)\n",
    "\n",
    "D = 20 # Monte Carlo sizes\n",
    "column_names = [\"Y\", \"X1\", \"X2\", \"X3\", \"X4\", \"X5\", \"X6\", \"X7\"]\n",
    "\n",
    "\n",
    "# Generate evaluation data #\n",
    "n_eval = 3000\n",
    "true_sampler = TrueSampler(sigma=0.2)\n",
    "X, y, mean_y, sigma_x = true_sampler.sample(n_eval, return_mean=True)\n",
    "yx_true_unnorm = np.concatenate([y[:, None], X], axis=1)\n",
    "df_true_unnorm = pd.DataFrame(yx_true_unnorm, columns=column_names)\n",
    "\n",
    "\n",
    "qt = QuantileTransformer(output_distribution=\"normal\", random_state=seed)\n",
    "qt.fit(yx_true_unnorm)\n",
    "yx_true_norm = qt.transform(yx_true_unnorm)\n",
    "df_true_norm = pd.DataFrame(yx_true_norm, columns=column_names)\n",
    "\n",
    "\n",
    "# Repeated experiment to get distributional distances #\n",
    "dist_metrics = {\n",
    "    \"fid\": [],\n",
    "    \"w1\": [],\n",
    "    \"w2\": [],\n",
    "}\n",
    "tau_list = [0, 0.2, 0.5, 1]\n",
    "for d in tqdm(range(D)):\n",
    "    X, y, mean_y, sigma_x = true_sampler.sample(n_eval, return_mean=True)\n",
    "    yx_true_unnorm_copy = np.concatenate([y[:, None], X], axis=1)\n",
    "    df_true_unnorm_copy = pd.DataFrame(yx_true_unnorm_copy, columns=column_names)\n",
    "    yx_true_norm_copy = qt.transform(yx_true_unnorm_copy)\n",
    "    df_true_norm_copy = pd.DataFrame(yx_true_norm_copy, columns=column_names)\n",
    "\n",
    "    result_df_norm_list = [df_true_norm_copy]\n",
    "    result_df_unnorm_list = [df_true_unnorm_copy]\n",
    "    for tau in tau_list:\n",
    "        print(f\"Generating samples with tau={tau} ...\")\n",
    "        yx_fake = generate_pass(\n",
    "            tabular_ddpm,\n",
    "            torch.tensor(yx_true_norm).float(),\n",
    "            perturbation_size=tau,\n",
    "            device=device,\n",
    "        )\n",
    "        yx_fake_norm = yx_fake.cpu().detach().numpy()\n",
    "        yx_fake_unnorm = qt.inverse_transform(yx_fake_norm)\n",
    "\n",
    "        df_fake_norm = pd.DataFrame(yx_fake_norm, columns=column_names)\n",
    "        result_df_norm_list.append(df_fake_norm)\n",
    "\n",
    "        df_fake_unnorm = pd.DataFrame(yx_fake_unnorm, columns=column_names)\n",
    "        result_df_unnorm_list.append(df_fake_unnorm)\n",
    "    \n",
    "    for temp_df in result_df_norm_list:\n",
    "        dist_metrics[\"fid\"].append(calculate_fid(df_true_norm, temp_df))\n",
    "        dist_metrics[\"w1\"].append(wasserstein_1_distance(df_true_norm, temp_df))\n",
    "        dist_metrics[\"w2\"].append(wasserstein_2_distance(df_true_norm, temp_df))\n",
    "        \n",
    "        pickle.dump(dist_metrics, open(\"./result/dist_metrics.pkl\", \"wb\"))\n",
    "    "
   ]
  },
  {
   "cell_type": "code",
   "execution_count": 10,
   "metadata": {},
   "outputs": [
    {
     "name": "stdout",
     "output_type": "stream",
     "text": [
      "fid\n",
      "[0.02038999 0.0239181  0.02263919 0.02347441 0.02437637]\n",
      "[0.00316695 0.0051227  0.00460842 0.00548647 0.00366538]\n",
      "w1\n",
      "[1.2440251  1.2377525  1.23653895 1.23799346 1.23816885]\n",
      "[0.00558123 0.00442841 0.0044719  0.00529149 0.00505717]\n",
      "w2\n",
      "[1.31392157 1.29769323 1.29569504 1.29845478 1.2979801 ]\n",
      "[0.00708746 0.00456259 0.00440619 0.00543117 0.0056689 ]\n"
     ]
    }
   ],
   "source": [
    "for k in dist_metrics.keys():\n",
    "    dist_array = np.array(dist_metrics[k]).reshape(20, 5)\n",
    "    dist_mean = np.mean(dist_array, axis=0)\n",
    "    dist_std = np.std(dist_array, axis=0)\n",
    "    print(k)\n",
    "    print(dist_mean)\n",
    "    print(dist_std)"
   ]
  }
 ],
 "metadata": {
  "kernelspec": {
   "display_name": "tddpm",
   "language": "python",
   "name": "python3"
  },
  "language_info": {
   "codemirror_mode": {
    "name": "ipython",
    "version": 3
   },
   "file_extension": ".py",
   "mimetype": "text/x-python",
   "name": "python",
   "nbconvert_exporter": "python",
   "pygments_lexer": "ipython3",
   "version": "3.9.18"
  }
 },
 "nbformat": 4,
 "nbformat_minor": 2
}
