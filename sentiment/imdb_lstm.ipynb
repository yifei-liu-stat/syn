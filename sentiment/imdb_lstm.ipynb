{
 "cells": [
  {
   "cell_type": "code",
   "execution_count": 163,
   "id": "bronze-walnut",
   "metadata": {
    "_cell_guid": "b1076dfc-b9ad-4769-8c92-a6c4dae69d19",
    "_uuid": "8f2839f25d086af736a60e9eeb907d3b93b6e0e5",
    "execution": {
     "iopub.execute_input": "2021-05-11T11:06:59.907440Z",
     "iopub.status.busy": "2021-05-11T11:06:59.906767Z",
     "iopub.status.idle": "2021-05-11T11:06:59.918214Z",
     "shell.execute_reply": "2021-05-11T11:06:59.918882Z"
    },
    "papermill": {
     "duration": 0.055695,
     "end_time": "2021-05-11T11:06:59.919197",
     "exception": false,
     "start_time": "2021-05-11T11:06:59.863502",
     "status": "completed"
    },
    "tags": []
   },
   "outputs": [],
   "source": [
    "import numpy as np # linear algebra\n",
    "import pandas as pd # data processing, CSV file I/O (e.g. pd.read_csv)\n",
    "import os"
   ]
  },
  {
   "cell_type": "markdown",
   "id": "urban-education",
   "metadata": {
    "papermill": {
     "duration": 0.030014,
     "end_time": "2021-05-11T11:06:59.981348",
     "exception": false,
     "start_time": "2021-05-11T11:06:59.951334",
     "status": "completed"
    },
    "tags": []
   },
   "source": [
    "# Load in and visualize the data"
   ]
  },
  {
   "cell_type": "code",
   "execution_count": 164,
   "id": "traditional-bradford",
   "metadata": {
    "execution": {
     "iopub.execute_input": "2021-05-11T11:07:00.047317Z",
     "iopub.status.busy": "2021-05-11T11:07:00.046690Z",
     "iopub.status.idle": "2021-05-11T11:07:01.321647Z",
     "shell.execute_reply": "2021-05-11T11:07:01.321226Z"
    },
    "papermill": {
     "duration": 1.309799,
     "end_time": "2021-05-11T11:07:01.321767",
     "exception": false,
     "start_time": "2021-05-11T11:07:00.011968",
     "status": "completed"
    },
    "tags": []
   },
   "outputs": [
    {
     "data": {
      "text/html": [
       "<div>\n",
       "<style scoped>\n",
       "    .dataframe tbody tr th:only-of-type {\n",
       "        vertical-align: middle;\n",
       "    }\n",
       "\n",
       "    .dataframe tbody tr th {\n",
       "        vertical-align: top;\n",
       "    }\n",
       "\n",
       "    .dataframe thead th {\n",
       "        text-align: right;\n",
       "    }\n",
       "</style>\n",
       "<table border=\"1\" class=\"dataframe\">\n",
       "  <thead>\n",
       "    <tr style=\"text-align: right;\">\n",
       "      <th></th>\n",
       "      <th>review</th>\n",
       "      <th>sentiment</th>\n",
       "    </tr>\n",
       "  </thead>\n",
       "  <tbody>\n",
       "    <tr>\n",
       "      <th>0</th>\n",
       "      <td>In 1974, the teenager Martha Moxley (Maggie Gr...</td>\n",
       "      <td>positive</td>\n",
       "    </tr>\n",
       "    <tr>\n",
       "      <th>1</th>\n",
       "      <td>OK... so... I really like Kris Kristofferson a...</td>\n",
       "      <td>negative</td>\n",
       "    </tr>\n",
       "    <tr>\n",
       "      <th>2</th>\n",
       "      <td>***SPOILER*** Do not read this, if you think a...</td>\n",
       "      <td>negative</td>\n",
       "    </tr>\n",
       "    <tr>\n",
       "      <th>3</th>\n",
       "      <td>hi for all the people who have seen this wonde...</td>\n",
       "      <td>positive</td>\n",
       "    </tr>\n",
       "    <tr>\n",
       "      <th>4</th>\n",
       "      <td>I recently bought the DVD, forgetting just how...</td>\n",
       "      <td>negative</td>\n",
       "    </tr>\n",
       "  </tbody>\n",
       "</table>\n",
       "</div>"
      ],
      "text/plain": [
       "                                              review sentiment\n",
       "0  In 1974, the teenager Martha Moxley (Maggie Gr...  positive\n",
       "1  OK... so... I really like Kris Kristofferson a...  negative\n",
       "2  ***SPOILER*** Do not read this, if you think a...  negative\n",
       "3  hi for all the people who have seen this wonde...  positive\n",
       "4  I recently bought the DVD, forgetting just how...  negative"
      ]
     },
     "execution_count": 164,
     "metadata": {},
     "output_type": "execute_result"
    }
   ],
   "source": [
    "df = pd.read_csv(\"movie_data.csv\")\n",
    "\n",
    "df.sentiment = df.sentiment.apply(lambda x: \"positive\" if x == 1 else \"negative\")\n",
    "\n",
    "df.head()"
   ]
  },
  {
   "cell_type": "markdown",
   "id": "nutritional-livestock",
   "metadata": {
    "papermill": {
     "duration": 0.03179,
     "end_time": "2021-05-11T11:07:01.385244",
     "exception": false,
     "start_time": "2021-05-11T11:07:01.353454",
     "status": "completed"
    },
    "tags": []
   },
   "source": [
    "# Data Processing — convert to lower case"
   ]
  },
  {
   "cell_type": "code",
   "execution_count": 165,
   "id": "honey-router",
   "metadata": {
    "execution": {
     "iopub.execute_input": "2021-05-11T11:07:01.471020Z",
     "iopub.status.busy": "2021-05-11T11:07:01.466108Z",
     "iopub.status.idle": "2021-05-11T11:07:01.588018Z",
     "shell.execute_reply": "2021-05-11T11:07:01.587462Z"
    },
    "papermill": {
     "duration": 0.171368,
     "end_time": "2021-05-11T11:07:01.588147",
     "exception": false,
     "start_time": "2021-05-11T11:07:01.416779",
     "status": "completed"
    },
    "tags": []
   },
   "outputs": [],
   "source": [
    "df['review'] = df['review'].apply(lambda x:x.lower())"
   ]
  },
  {
   "cell_type": "code",
   "execution_count": 166,
   "id": "blocked-syria",
   "metadata": {
    "execution": {
     "iopub.execute_input": "2021-05-11T11:07:01.658246Z",
     "iopub.status.busy": "2021-05-11T11:07:01.657446Z",
     "iopub.status.idle": "2021-05-11T11:07:01.660850Z",
     "shell.execute_reply": "2021-05-11T11:07:01.661254Z"
    },
    "papermill": {
     "duration": 0.040715,
     "end_time": "2021-05-11T11:07:01.661387",
     "exception": false,
     "start_time": "2021-05-11T11:07:01.620672",
     "status": "completed"
    },
    "tags": []
   },
   "outputs": [
    {
     "data": {
      "text/plain": [
       "'in 1974, the teenager martha moxley (maggie grace) moves to the high-class area of belle haven, greenwich, connecticut. on the mischief night, eve of halloween, she was murdered in the backyard of her house and her murder remained unsolved. twenty-two years later, the writer mark fuhrman (christopher meloni), who is a former la detective that has fallen in disgrace for perjury in o.j. simpson trial and moved to idaho, decides to investigate the case with his partner stephen weeks (andrew mitchell) with the purpose of writing a book. the locals squirm and do not welcome them, but with the support of the retired detective steve carroll (robert forster) that was in charge of the investigation in the 70\\'s, they discover the criminal and a net of power and money to cover the murder.<br /><br />\"murder in greenwich\" is a good tv movie, with the true story of a murder of a fifteen years old girl that was committed by a wealthy teenager whose mother was a kennedy. the powerful and rich family used their influence to cover the murder for more than twenty years. however, a snoopy detective and convicted perjurer in disgrace was able to disclose how the hideous crime was committed. the screenplay shows the investigation of mark and the last days of martha in parallel, but there is a lack of the emotion in the dramatization. my vote is seven.<br /><br />title (brazil): not available'"
      ]
     },
     "execution_count": 166,
     "metadata": {},
     "output_type": "execute_result"
    }
   ],
   "source": [
    "df['review'][0]"
   ]
  },
  {
   "cell_type": "markdown",
   "id": "sealed-supply",
   "metadata": {
    "papermill": {
     "duration": 0.03103,
     "end_time": "2021-05-11T11:07:01.723952",
     "exception": false,
     "start_time": "2021-05-11T11:07:01.692922",
     "status": "completed"
    },
    "tags": []
   },
   "source": [
    "# Data Processing — remove punctuation"
   ]
  },
  {
   "cell_type": "code",
   "execution_count": 167,
   "id": "impressive-flash",
   "metadata": {
    "execution": {
     "iopub.execute_input": "2021-05-11T11:07:01.791025Z",
     "iopub.status.busy": "2021-05-11T11:07:01.790493Z",
     "iopub.status.idle": "2021-05-11T11:07:01.794663Z",
     "shell.execute_reply": "2021-05-11T11:07:01.794206Z"
    },
    "papermill": {
     "duration": 0.039655,
     "end_time": "2021-05-11T11:07:01.794775",
     "exception": false,
     "start_time": "2021-05-11T11:07:01.755120",
     "status": "completed"
    },
    "tags": []
   },
   "outputs": [
    {
     "name": "stdout",
     "output_type": "stream",
     "text": [
      "!\"#$%&'()*+,-./:;<=>?@[\\]^_`{|}~\n"
     ]
    }
   ],
   "source": [
    "from string import punctuation\n",
    "print(punctuation)"
   ]
  },
  {
   "cell_type": "code",
   "execution_count": 168,
   "id": "relative-hudson",
   "metadata": {
    "execution": {
     "iopub.execute_input": "2021-05-11T11:07:01.879370Z",
     "iopub.status.busy": "2021-05-11T11:07:01.863837Z",
     "iopub.status.idle": "2021-05-11T11:07:08.473402Z",
     "shell.execute_reply": "2021-05-11T11:07:08.472931Z"
    },
    "papermill": {
     "duration": 6.647047,
     "end_time": "2021-05-11T11:07:08.473540",
     "exception": false,
     "start_time": "2021-05-11T11:07:01.826493",
     "status": "completed"
    },
    "tags": []
   },
   "outputs": [],
   "source": [
    "df['clean_text'] = df['review'].apply(lambda x:''.join([c for c in x if c not in punctuation]))"
   ]
  },
  {
   "cell_type": "code",
   "execution_count": 169,
   "id": "basic-spring",
   "metadata": {
    "execution": {
     "iopub.execute_input": "2021-05-11T11:07:08.541943Z",
     "iopub.status.busy": "2021-05-11T11:07:08.541241Z",
     "iopub.status.idle": "2021-05-11T11:07:08.544696Z",
     "shell.execute_reply": "2021-05-11T11:07:08.544302Z"
    },
    "papermill": {
     "duration": 0.039198,
     "end_time": "2021-05-11T11:07:08.544804",
     "exception": false,
     "start_time": "2021-05-11T11:07:08.505606",
     "status": "completed"
    },
    "tags": []
   },
   "outputs": [
    {
     "data": {
      "text/plain": [
       "'in 1974 the teenager martha moxley maggie grace moves to the highclass area of belle haven greenwich connecticut on the mischief night eve of halloween she was murdered in the backyard of her house and her murder remained unsolved twentytwo years later the writer mark fuhrman christopher meloni who is a former la detective that has fallen in disgrace for perjury in oj simpson trial and moved to idaho decides to investigate the case with his partner stephen weeks andrew mitchell with the purpose of writing a book the locals squirm and do not welcome them but with the support of the retired detective steve carroll robert forster that was in charge of the investigation in the 70s they discover the criminal and a net of power and money to cover the murderbr br murder in greenwich is a good tv movie with the true story of a murder of a fifteen years old girl that was committed by a wealthy teenager whose mother was a kennedy the powerful and rich family used their influence to cover the murder for more than twenty years however a snoopy detective and convicted perjurer in disgrace was able to disclose how the hideous crime was committed the screenplay shows the investigation of mark and the last days of martha in parallel but there is a lack of the emotion in the dramatization my vote is sevenbr br title brazil not available'"
      ]
     },
     "execution_count": 169,
     "metadata": {},
     "output_type": "execute_result"
    }
   ],
   "source": [
    "df['clean_text'][0]"
   ]
  },
  {
   "cell_type": "code",
   "execution_count": 170,
   "id": "strategic-cable",
   "metadata": {
    "execution": {
     "iopub.execute_input": "2021-05-11T11:07:08.623982Z",
     "iopub.status.busy": "2021-05-11T11:07:08.613735Z",
     "iopub.status.idle": "2021-05-11T11:07:08.652700Z",
     "shell.execute_reply": "2021-05-11T11:07:08.652284Z"
    },
    "papermill": {
     "duration": 0.076263,
     "end_time": "2021-05-11T11:07:08.652819",
     "exception": false,
     "start_time": "2021-05-11T11:07:08.576556",
     "status": "completed"
    },
    "tags": []
   },
   "outputs": [],
   "source": [
    "df['len_review'] = df['clean_text'].apply(lambda x:len(x))"
   ]
  },
  {
   "cell_type": "code",
   "execution_count": 171,
   "id": "documented-longer",
   "metadata": {
    "execution": {
     "iopub.execute_input": "2021-05-11T11:07:08.727805Z",
     "iopub.status.busy": "2021-05-11T11:07:08.727048Z",
     "iopub.status.idle": "2021-05-11T11:07:08.730458Z",
     "shell.execute_reply": "2021-05-11T11:07:08.730842Z"
    },
    "papermill": {
     "duration": 0.045916,
     "end_time": "2021-05-11T11:07:08.730973",
     "exception": false,
     "start_time": "2021-05-11T11:07:08.685057",
     "status": "completed"
    },
    "tags": []
   },
   "outputs": [
    {
     "data": {
      "text/html": [
       "<div>\n",
       "<style scoped>\n",
       "    .dataframe tbody tr th:only-of-type {\n",
       "        vertical-align: middle;\n",
       "    }\n",
       "\n",
       "    .dataframe tbody tr th {\n",
       "        vertical-align: top;\n",
       "    }\n",
       "\n",
       "    .dataframe thead th {\n",
       "        text-align: right;\n",
       "    }\n",
       "</style>\n",
       "<table border=\"1\" class=\"dataframe\">\n",
       "  <thead>\n",
       "    <tr style=\"text-align: right;\">\n",
       "      <th></th>\n",
       "      <th>review</th>\n",
       "      <th>sentiment</th>\n",
       "      <th>clean_text</th>\n",
       "      <th>len_review</th>\n",
       "    </tr>\n",
       "  </thead>\n",
       "  <tbody>\n",
       "    <tr>\n",
       "      <th>0</th>\n",
       "      <td>in 1974, the teenager martha moxley (maggie gr...</td>\n",
       "      <td>positive</td>\n",
       "      <td>in 1974 the teenager martha moxley maggie grac...</td>\n",
       "      <td>1341</td>\n",
       "    </tr>\n",
       "    <tr>\n",
       "      <th>1</th>\n",
       "      <td>ok... so... i really like kris kristofferson a...</td>\n",
       "      <td>negative</td>\n",
       "      <td>ok so i really like kris kristofferson and his...</td>\n",
       "      <td>1195</td>\n",
       "    </tr>\n",
       "    <tr>\n",
       "      <th>2</th>\n",
       "      <td>***spoiler*** do not read this, if you think a...</td>\n",
       "      <td>negative</td>\n",
       "      <td>spoiler do not read this if you think about wa...</td>\n",
       "      <td>1574</td>\n",
       "    </tr>\n",
       "    <tr>\n",
       "      <th>3</th>\n",
       "      <td>hi for all the people who have seen this wonde...</td>\n",
       "      <td>positive</td>\n",
       "      <td>hi for all the people who have seen this wonde...</td>\n",
       "      <td>378</td>\n",
       "    </tr>\n",
       "    <tr>\n",
       "      <th>4</th>\n",
       "      <td>i recently bought the dvd, forgetting just how...</td>\n",
       "      <td>negative</td>\n",
       "      <td>i recently bought the dvd forgetting just how ...</td>\n",
       "      <td>656</td>\n",
       "    </tr>\n",
       "  </tbody>\n",
       "</table>\n",
       "</div>"
      ],
      "text/plain": [
       "                                              review sentiment  \\\n",
       "0  in 1974, the teenager martha moxley (maggie gr...  positive   \n",
       "1  ok... so... i really like kris kristofferson a...  negative   \n",
       "2  ***spoiler*** do not read this, if you think a...  negative   \n",
       "3  hi for all the people who have seen this wonde...  positive   \n",
       "4  i recently bought the dvd, forgetting just how...  negative   \n",
       "\n",
       "                                          clean_text  len_review  \n",
       "0  in 1974 the teenager martha moxley maggie grac...        1341  \n",
       "1  ok so i really like kris kristofferson and his...        1195  \n",
       "2  spoiler do not read this if you think about wa...        1574  \n",
       "3  hi for all the people who have seen this wonde...         378  \n",
       "4  i recently bought the dvd forgetting just how ...         656  "
      ]
     },
     "execution_count": 171,
     "metadata": {},
     "output_type": "execute_result"
    }
   ],
   "source": [
    "df.head()"
   ]
  },
  {
   "cell_type": "markdown",
   "id": "rational-raising",
   "metadata": {
    "papermill": {
     "duration": 0.032433,
     "end_time": "2021-05-11T11:07:08.795998",
     "exception": false,
     "start_time": "2021-05-11T11:07:08.763565",
     "status": "completed"
    },
    "tags": []
   },
   "source": [
    "#  Data Processing — create list of reviews"
   ]
  },
  {
   "cell_type": "code",
   "execution_count": 172,
   "id": "buried-customs",
   "metadata": {
    "execution": {
     "iopub.execute_input": "2021-05-11T11:07:08.868162Z",
     "iopub.status.busy": "2021-05-11T11:07:08.866737Z",
     "iopub.status.idle": "2021-05-11T11:07:08.869217Z",
     "shell.execute_reply": "2021-05-11T11:07:08.869624Z"
    },
    "papermill": {
     "duration": 0.040968,
     "end_time": "2021-05-11T11:07:08.869754",
     "exception": false,
     "start_time": "2021-05-11T11:07:08.828786",
     "status": "completed"
    },
    "tags": []
   },
   "outputs": [],
   "source": [
    "all_text2 = df['clean_text'].tolist()"
   ]
  },
  {
   "cell_type": "markdown",
   "id": "minute-comedy",
   "metadata": {
    "papermill": {
     "duration": 0.032748,
     "end_time": "2021-05-11T11:07:08.935035",
     "exception": false,
     "start_time": "2021-05-11T11:07:08.902287",
     "status": "completed"
    },
    "tags": []
   },
   "source": [
    "### Tokenize — Create Vocab to Int mapping dictionary"
   ]
  },
  {
   "cell_type": "code",
   "execution_count": 173,
   "id": "lyric-continuity",
   "metadata": {
    "execution": {
     "iopub.execute_input": "2021-05-11T11:07:09.991686Z",
     "iopub.status.busy": "2021-05-11T11:07:09.990318Z",
     "iopub.status.idle": "2021-05-11T11:07:09.992738Z",
     "shell.execute_reply": "2021-05-11T11:07:09.993159Z"
    },
    "papermill": {
     "duration": 1.025541,
     "end_time": "2021-05-11T11:07:09.993308",
     "exception": false,
     "start_time": "2021-05-11T11:07:08.967767",
     "status": "completed"
    },
    "tags": []
   },
   "outputs": [],
   "source": [
    "from collections import Counter\n",
    "all_text2 = ' '.join(all_text2)\n",
    "# create a list of words\n",
    "words = all_text2.split()"
   ]
  },
  {
   "cell_type": "code",
   "execution_count": 174,
   "id": "small-joshua",
   "metadata": {
    "execution": {
     "iopub.execute_input": "2021-05-11T11:07:12.160358Z",
     "iopub.status.busy": "2021-05-11T11:07:12.159764Z",
     "iopub.status.idle": "2021-05-11T11:07:12.164176Z",
     "shell.execute_reply": "2021-05-11T11:07:12.163745Z"
    },
    "papermill": {
     "duration": 2.137441,
     "end_time": "2021-05-11T11:07:12.164302",
     "exception": false,
     "start_time": "2021-05-11T11:07:10.026861",
     "status": "completed"
    },
    "tags": []
   },
   "outputs": [],
   "source": [
    "# Count all the words using Counter Method\n",
    "count_words = Counter(words)\n",
    "\n",
    "total_words = len(words)\n",
    "sorted_words = count_words.most_common(total_words)"
   ]
  },
  {
   "cell_type": "code",
   "execution_count": 175,
   "id": "maritime-commodity",
   "metadata": {
    "execution": {
     "iopub.execute_input": "2021-05-11T11:07:12.282246Z",
     "iopub.status.busy": "2021-05-11T11:07:12.272110Z",
     "iopub.status.idle": "2021-05-11T11:07:12.319038Z",
     "shell.execute_reply": "2021-05-11T11:07:12.318592Z"
    },
    "papermill": {
     "duration": 0.121729,
     "end_time": "2021-05-11T11:07:12.319179",
     "exception": false,
     "start_time": "2021-05-11T11:07:12.197450",
     "status": "completed"
    },
    "tags": []
   },
   "outputs": [],
   "source": [
    "vocab_to_int = {w:i for i, (w,c) in enumerate(sorted_words)}"
   ]
  },
  {
   "cell_type": "code",
   "execution_count": 176,
   "id": "graphic-botswana",
   "metadata": {
    "execution": {
     "iopub.execute_input": "2021-05-11T11:07:12.428811Z",
     "iopub.status.busy": "2021-05-11T11:07:12.423717Z",
     "iopub.status.idle": "2021-05-11T11:07:12.492254Z",
     "shell.execute_reply": "2021-05-11T11:07:12.491787Z"
    },
    "papermill": {
     "duration": 0.1402,
     "end_time": "2021-05-11T11:07:12.492387",
     "exception": false,
     "start_time": "2021-05-11T11:07:12.352187",
     "status": "completed"
    },
    "tags": []
   },
   "outputs": [],
   "source": [
    "vocab_to_int = {w:i+1 for i, (w,c) in enumerate(sorted_words)}"
   ]
  },
  {
   "cell_type": "code",
   "execution_count": 177,
   "id": "fuzzy-albuquerque",
   "metadata": {
    "execution": {
     "iopub.execute_input": "2021-05-11T11:07:12.565460Z",
     "iopub.status.busy": "2021-05-11T11:07:12.564726Z",
     "iopub.status.idle": "2021-05-11T11:07:12.567643Z",
     "shell.execute_reply": "2021-05-11T11:07:12.567047Z"
    },
    "papermill": {
     "duration": 0.041571,
     "end_time": "2021-05-11T11:07:12.567763",
     "exception": false,
     "start_time": "2021-05-11T11:07:12.526192",
     "status": "completed"
    },
    "tags": []
   },
   "outputs": [],
   "source": [
    "reviews_split = df['clean_text'].tolist()"
   ]
  },
  {
   "cell_type": "markdown",
   "id": "prerequisite-champagne",
   "metadata": {
    "papermill": {
     "duration": 0.033488,
     "end_time": "2021-05-11T11:07:12.634567",
     "exception": false,
     "start_time": "2021-05-11T11:07:12.601079",
     "status": "completed"
    },
    "tags": []
   },
   "source": [
    "##  Tokenize — Encode the words"
   ]
  },
  {
   "cell_type": "code",
   "execution_count": 178,
   "id": "ordered-trainer",
   "metadata": {
    "execution": {
     "iopub.execute_input": "2021-05-11T11:07:12.750636Z",
     "iopub.status.busy": "2021-05-11T11:07:12.745693Z",
     "iopub.status.idle": "2021-05-11T11:07:15.841943Z",
     "shell.execute_reply": "2021-05-11T11:07:15.842444Z"
    },
    "papermill": {
     "duration": 3.17467,
     "end_time": "2021-05-11T11:07:15.842606",
     "exception": false,
     "start_time": "2021-05-11T11:07:12.667936",
     "status": "completed"
    },
    "tags": []
   },
   "outputs": [
    {
     "name": "stdout",
     "output_type": "stream",
     "text": [
      "[[7, 5997, 1, 2145, 4053, 30768, 4907, 1564, 1089, 5, 1, 21911, 1557, 4, 7210, 17133, 15073, 8805, 20, 1, 16023, 314, 3605, 4, 2154, 58, 13, 1862, 7, 1, 9156, 4, 41, 324, 2, 41, 594, 4558, 16371, 34936, 151, 302, 1, 776, 961, 34937, 1414, 21230, 36, 6, 3, 1085, 988, 1363, 11, 44, 2964, 7, 6087, 16, 51851, 7, 13906, 5884, 3134, 2, 1588, 5, 25365, 1057, 5, 3856, 1, 415, 15, 24, 1965, 1732, 2221, 3748, 3482, 15, 1, 1249, 4, 489, 3, 277, 1, 5409, 11683, 2, 78, 21, 2557, 93, 18, 15, 1, 1402, 4, 1, 5007, 1363, 1310, 10045, 592, 15378, 11, 13, 7, 2774, 4, 1, 3504, 7, 1, 994, 34, 1766, 1, 1748, 2, 3, 5533, 4, 663, 2, 291, 5, 1000, 1, 13234, 12, 594, 7, 15073, 6, 3, 49, 238, 17, 15, 1, 286, 66, 4, 3, 594, 4, 3, 3422, 151, 168, 250, 11, 13, 2301, 32, 3, 2955, 2145, 616, 430, 13, 3, 3228, 1, 959, 2, 972, 235, 322, 63, 2344, 5, 1000, 1, 594, 16, 51, 70, 1981, 151, 186, 3, 45598, 1363, 2, 6158, 81744, 7, 6087, 13, 473, 5, 26431, 85, 1, 4424, 847, 13, 2301, 1, 920, 257, 1, 3504, 4, 961, 2, 1, 233, 481, 4, 4053, 7, 4165, 18, 47, 6, 3, 549, 4, 1, 1403, 7, 1, 13235, 53, 1996, 6, 15074, 12, 414, 3471, 21, 1263], [576, 37, 9, 62, 38, 7650, 8256, 2, 24, 652, 760, 161, 2810, 4, 404, 7, 24, 91, 639, 44, 1581, 88, 15, 24, 2254, 3123, 474, 1671, 429, 2, 27, 76, 1997, 3, 130, 8183, 18, 8548, 6, 24, 19962, 3919, 61649, 10, 13, 3, 82, 17, 12, 12, 9, 209, 192, 3407, 5, 1, 617, 2, 2, 1, 150, 573, 7650, 16, 256, 63, 45599, 5, 94, 280, 35, 10, 2749, 1415, 66, 612, 4, 8, 92, 280, 2, 7650, 234, 149, 373, 8, 351, 2, 27, 13, 40, 161, 140, 1, 7472, 1355, 285, 57, 210, 56, 5, 88, 2, 366, 88, 48, 8, 13, 31, 42, 12, 12, 9, 89, 456, 11, 299, 20, 10, 17, 13, 393, 45, 4, 110, 16, 1, 1137, 39, 46, 136, 1947, 195, 105, 474, 395, 91, 11, 67, 3, 114, 16, 3904, 2146, 10, 67, 612, 61650, 14469, 34938, 1937, 4, 281, 3, 575, 437, 4, 49, 634, 1300, 2, 3720, 12, 12, 9, 1501, 10, 407, 4, 1202, 16, 3, 3423, 2, 9, 175, 53, 291, 143, 9, 175, 53, 283, 620, 143, 9, 7707, 20, 10, 1460, 2409, 437, 4, 53, 59, 89, 103, 10, 17, 39, 437, 479, 884, 4, 122, 4607, 59, 133, 2716, 140, 3, 690, 112, 29, 385, 39, 54, 877, 56, 1, 415, 11, 6, 2345, 1, 271, 252, 69, 461, 1320, 69, 16, 1, 1914], [1448, 78, 21, 326, 10, 43, 22, 102, 42, 145, 11, 17, 253, 8, 57, 26, 3, 437, 4, 59, 32, 1, 98, 1, 114, 6, 37, 714, 11, 8, 121, 21, 94, 97, 1470, 43, 22, 326, 10, 39, 21, 5300, 12, 43, 22, 23, 1490, 704, 5, 64, 9265, 1528, 39, 21, 89, 29, 21, 266, 351, 1, 291, 16, 1, 3925, 39, 1, 1769, 271, 3, 764, 81745, 28, 96, 128, 1, 114, 389, 6, 14, 2049, 14, 8, 68, 26, 3, 647, 2, 24378, 312, 4, 1, 301, 1024, 1, 182, 6646, 250, 35, 3, 396, 513, 1523, 3, 191, 1009, 7, 165, 852, 1, 167, 1760, 984, 4, 715, 1, 17, 97, 1147, 1881, 136, 14, 1, 1578, 1647, 4, 1, 363, 1, 5534, 4, 41120, 624, 15, 41, 1388, 2, 37, 20, 15075, 172, 491, 5, 18404, 1, 1096, 2285, 2, 3905, 264, 121, 21, 25, 97, 569, 5, 3124, 7, 10, 574, 668, 5, 1, 82, 229, 2, 1, 2049, 111, 258, 5962, 22647, 321, 989, 7, 1083, 28, 4, 41121, 1114, 4, 1156, 7, 965, 4, 33, 307, 1, 60, 49, 2, 176, 155, 146, 42, 9265, 1528, 6, 308, 7473, 36, 3680, 1, 396, 1376, 4, 419, 4, 10, 689, 12, 9, 13, 52, 10277, 11, 1677, 13445, 1071, 10, 17, 87, 774, 7, 4146, 1601, 2, 147, 10, 48, 590, 5, 79, 91, 38, 1, 799, 2, 4184, 946, 11, 13, 286, 13445, 7758, 12, 43, 22, 23, 268, 16, 3, 4119, 17, 15, 49, 268, 370, 40, 5, 25, 3, 7759, 2274, 22, 139, 123, 138, 2, 64, 7153, 2983, 29, 72, 51, 155, 431, 2, 61651, 300, 4, 10, 7597, 12, 107, 3653, 184, 433, 45, 4, 298]]\n"
     ]
    }
   ],
   "source": [
    "reviews_int = []\n",
    "for review in reviews_split:\n",
    "    r = [vocab_to_int[w] for w in review.split()]\n",
    "    reviews_int.append(r)\n",
    "print (reviews_int[0:3])"
   ]
  },
  {
   "cell_type": "code",
   "execution_count": 179,
   "id": "religious-layer",
   "metadata": {
    "execution": {
     "iopub.execute_input": "2021-05-11T11:07:15.923718Z",
     "iopub.status.busy": "2021-05-11T11:07:15.922923Z",
     "iopub.status.idle": "2021-05-11T11:07:15.926099Z",
     "shell.execute_reply": "2021-05-11T11:07:15.926554Z"
    },
    "papermill": {
     "duration": 0.048532,
     "end_time": "2021-05-11T11:07:15.926701",
     "exception": false,
     "start_time": "2021-05-11T11:07:15.878169",
     "status": "completed"
    },
    "tags": []
   },
   "outputs": [
    {
     "data": {
      "text/html": [
       "<div>\n",
       "<style scoped>\n",
       "    .dataframe tbody tr th:only-of-type {\n",
       "        vertical-align: middle;\n",
       "    }\n",
       "\n",
       "    .dataframe tbody tr th {\n",
       "        vertical-align: top;\n",
       "    }\n",
       "\n",
       "    .dataframe thead th {\n",
       "        text-align: right;\n",
       "    }\n",
       "</style>\n",
       "<table border=\"1\" class=\"dataframe\">\n",
       "  <thead>\n",
       "    <tr style=\"text-align: right;\">\n",
       "      <th></th>\n",
       "      <th>review</th>\n",
       "      <th>sentiment</th>\n",
       "      <th>clean_text</th>\n",
       "      <th>len_review</th>\n",
       "    </tr>\n",
       "  </thead>\n",
       "  <tbody>\n",
       "    <tr>\n",
       "      <th>0</th>\n",
       "      <td>in 1974, the teenager martha moxley (maggie gr...</td>\n",
       "      <td>positive</td>\n",
       "      <td>in 1974 the teenager martha moxley maggie grac...</td>\n",
       "      <td>1341</td>\n",
       "    </tr>\n",
       "    <tr>\n",
       "      <th>1</th>\n",
       "      <td>ok... so... i really like kris kristofferson a...</td>\n",
       "      <td>negative</td>\n",
       "      <td>ok so i really like kris kristofferson and his...</td>\n",
       "      <td>1195</td>\n",
       "    </tr>\n",
       "    <tr>\n",
       "      <th>2</th>\n",
       "      <td>***spoiler*** do not read this, if you think a...</td>\n",
       "      <td>negative</td>\n",
       "      <td>spoiler do not read this if you think about wa...</td>\n",
       "      <td>1574</td>\n",
       "    </tr>\n",
       "    <tr>\n",
       "      <th>3</th>\n",
       "      <td>hi for all the people who have seen this wonde...</td>\n",
       "      <td>positive</td>\n",
       "      <td>hi for all the people who have seen this wonde...</td>\n",
       "      <td>378</td>\n",
       "    </tr>\n",
       "    <tr>\n",
       "      <th>4</th>\n",
       "      <td>i recently bought the dvd, forgetting just how...</td>\n",
       "      <td>negative</td>\n",
       "      <td>i recently bought the dvd forgetting just how ...</td>\n",
       "      <td>656</td>\n",
       "    </tr>\n",
       "  </tbody>\n",
       "</table>\n",
       "</div>"
      ],
      "text/plain": [
       "                                              review sentiment  \\\n",
       "0  in 1974, the teenager martha moxley (maggie gr...  positive   \n",
       "1  ok... so... i really like kris kristofferson a...  negative   \n",
       "2  ***spoiler*** do not read this, if you think a...  negative   \n",
       "3  hi for all the people who have seen this wonde...  positive   \n",
       "4  i recently bought the dvd, forgetting just how...  negative   \n",
       "\n",
       "                                          clean_text  len_review  \n",
       "0  in 1974 the teenager martha moxley maggie grac...        1341  \n",
       "1  ok so i really like kris kristofferson and his...        1195  \n",
       "2  spoiler do not read this if you think about wa...        1574  \n",
       "3  hi for all the people who have seen this wonde...         378  \n",
       "4  i recently bought the dvd forgetting just how ...         656  "
      ]
     },
     "execution_count": 179,
     "metadata": {},
     "output_type": "execute_result"
    }
   ],
   "source": [
    "df.head()"
   ]
  },
  {
   "cell_type": "markdown",
   "id": "cultural-convergence",
   "metadata": {
    "papermill": {
     "duration": 0.035371,
     "end_time": "2021-05-11T11:07:15.998213",
     "exception": false,
     "start_time": "2021-05-11T11:07:15.962842",
     "status": "completed"
    },
    "tags": []
   },
   "source": [
    "### Tokenize — Encode the labels"
   ]
  },
  {
   "cell_type": "code",
   "execution_count": 180,
   "id": "blond-cincinnati",
   "metadata": {
    "execution": {
     "iopub.execute_input": "2021-05-11T11:07:16.071101Z",
     "iopub.status.busy": "2021-05-11T11:07:16.070337Z",
     "iopub.status.idle": "2021-05-11T11:07:16.075229Z",
     "shell.execute_reply": "2021-05-11T11:07:16.075683Z"
    },
    "papermill": {
     "duration": 0.042843,
     "end_time": "2021-05-11T11:07:16.075816",
     "exception": false,
     "start_time": "2021-05-11T11:07:16.032973",
     "status": "completed"
    },
    "tags": []
   },
   "outputs": [],
   "source": [
    "labels_split = df['sentiment'].tolist()"
   ]
  },
  {
   "cell_type": "code",
   "execution_count": 181,
   "id": "normal-design",
   "metadata": {
    "execution": {
     "iopub.execute_input": "2021-05-11T11:07:16.165511Z",
     "iopub.status.busy": "2021-05-11T11:07:16.164624Z",
     "iopub.status.idle": "2021-05-11T11:07:16.167161Z",
     "shell.execute_reply": "2021-05-11T11:07:16.166729Z"
    },
    "papermill": {
     "duration": 0.055251,
     "end_time": "2021-05-11T11:07:16.167285",
     "exception": false,
     "start_time": "2021-05-11T11:07:16.112034",
     "status": "completed"
    },
    "tags": []
   },
   "outputs": [],
   "source": [
    "encoded_labels = [1 if label =='positive' else 0 for label in labels_split]\n",
    "encoded_labels = np.array(encoded_labels)"
   ]
  },
  {
   "cell_type": "markdown",
   "id": "incorrect-premiere",
   "metadata": {
    "papermill": {
     "duration": 0.037277,
     "end_time": "2021-05-11T11:07:16.239980",
     "exception": false,
     "start_time": "2021-05-11T11:07:16.202703",
     "status": "completed"
    },
    "tags": []
   },
   "source": [
    "## Analyze Reviews Length"
   ]
  },
  {
   "cell_type": "code",
   "execution_count": 182,
   "id": "wooden-toyota",
   "metadata": {
    "execution": {
     "iopub.execute_input": "2021-05-11T11:07:16.328526Z",
     "iopub.status.busy": "2021-05-11T11:07:16.327655Z",
     "iopub.status.idle": "2021-05-11T11:07:16.917324Z",
     "shell.execute_reply": "2021-05-11T11:07:16.916729Z"
    },
    "papermill": {
     "duration": 0.642462,
     "end_time": "2021-05-11T11:07:16.917455",
     "exception": false,
     "start_time": "2021-05-11T11:07:16.274993",
     "status": "completed"
    },
    "tags": []
   },
   "outputs": [
    {
     "data": {
      "image/png": "[encoded data removed]",
      "text/plain": [
       "<Figure size 640x480 with 1 Axes>"
      ]
     },
     "metadata": {},
     "output_type": "display_data"
    },
    {
     "data": {
      "text/plain": [
       "count    50000.000000\n",
       "mean       230.258240\n",
       "std        170.663887\n",
       "min          4.000000\n",
       "25%        126.000000\n",
       "50%        172.000000\n",
       "75%        280.000000\n",
       "max       2469.000000\n",
       "dtype: float64"
      ]
     },
     "execution_count": 182,
     "metadata": {},
     "output_type": "execute_result"
    }
   ],
   "source": [
    "import pandas as pd\n",
    "import matplotlib.pyplot as plt\n",
    "%matplotlib inline\n",
    "reviews_len = [len(x) for x in reviews_int]\n",
    "pd.Series(reviews_len).hist()\n",
    "plt.show()\n",
    "pd.Series(reviews_len).describe()"
   ]
  },
  {
   "cell_type": "markdown",
   "id": "southeast-engine",
   "metadata": {
    "papermill": {
     "duration": 0.035633,
     "end_time": "2021-05-11T11:07:16.991680",
     "exception": false,
     "start_time": "2021-05-11T11:07:16.956047",
     "status": "completed"
    },
    "tags": []
   },
   "source": [
    "###  Removing Outliers — Getting rid of extremely long or short reviews"
   ]
  },
  {
   "cell_type": "code",
   "execution_count": 183,
   "id": "accepted-saver",
   "metadata": {
    "execution": {
     "iopub.execute_input": "2021-05-11T11:07:17.085589Z",
     "iopub.status.busy": "2021-05-11T11:07:17.084753Z",
     "iopub.status.idle": "2021-05-11T11:07:17.086883Z",
     "shell.execute_reply": "2021-05-11T11:07:17.087402Z"
    },
    "papermill": {
     "duration": 0.060033,
     "end_time": "2021-05-11T11:07:17.087567",
     "exception": false,
     "start_time": "2021-05-11T11:07:17.027534",
     "status": "completed"
    },
    "tags": []
   },
   "outputs": [],
   "source": [
    "reviews_int = [ reviews_int[i] for i, l in enumerate(reviews_len) if l>0 ]\n",
    "encoded_labels = [ encoded_labels[i] for i, l in enumerate(reviews_len) if l> 0 ]"
   ]
  },
  {
   "cell_type": "markdown",
   "id": "polyphonic-plane",
   "metadata": {
    "papermill": {
     "duration": 0.036383,
     "end_time": "2021-05-11T11:07:17.160699",
     "exception": false,
     "start_time": "2021-05-11T11:07:17.124316",
     "status": "completed"
    },
    "tags": []
   },
   "source": [
    "### Padding / Truncating the remaining data"
   ]
  },
  {
   "cell_type": "code",
   "execution_count": 184,
   "id": "listed-despite",
   "metadata": {
    "execution": {
     "iopub.execute_input": "2021-05-11T11:07:17.240476Z",
     "iopub.status.busy": "2021-05-11T11:07:17.239610Z",
     "iopub.status.idle": "2021-05-11T11:07:17.241728Z",
     "shell.execute_reply": "2021-05-11T11:07:17.242154Z"
    },
    "papermill": {
     "duration": 0.044993,
     "end_time": "2021-05-11T11:07:17.242289",
     "exception": false,
     "start_time": "2021-05-11T11:07:17.197296",
     "status": "completed"
    },
    "tags": []
   },
   "outputs": [],
   "source": [
    "def pad_features(reviews_int, seq_length):\n",
    "    ''' Return features of review_ints, where each review is padded with 0's or truncated to the input seq_length.\n",
    "    '''\n",
    "    features = np.zeros((len(reviews_int), seq_length), dtype = int)\n",
    "    \n",
    "    for i, review in enumerate(reviews_int):\n",
    "        review_len = len(review)\n",
    "        \n",
    "        if review_len <= seq_length:\n",
    "            zeroes = list(np.zeros(seq_length-review_len))\n",
    "            new = zeroes+review\n",
    "        elif review_len > seq_length:\n",
    "            new = review[0:seq_length]\n",
    "        \n",
    "        features[i,:] = np.array(new)\n",
    "    \n",
    "    return features"
   ]
  },
  {
   "cell_type": "code",
   "execution_count": 185,
   "id": "owned-pointer",
   "metadata": {
    "execution": {
     "iopub.execute_input": "2021-05-11T11:07:17.325577Z",
     "iopub.status.busy": "2021-05-11T11:07:17.324803Z",
     "iopub.status.idle": "2021-05-11T11:07:19.826849Z",
     "shell.execute_reply": "2021-05-11T11:07:19.826387Z"
    },
    "papermill": {
     "duration": 2.548509,
     "end_time": "2021-05-11T11:07:19.826977",
     "exception": false,
     "start_time": "2021-05-11T11:07:17.278468",
     "status": "completed"
    },
    "tags": []
   },
   "outputs": [],
   "source": [
    "features = pad_features(reviews_int,200)"
   ]
  },
  {
   "cell_type": "code",
   "execution_count": 186,
   "id": "abandoned-munich",
   "metadata": {
    "execution": {
     "iopub.execute_input": "2021-05-11T11:07:19.905323Z",
     "iopub.status.busy": "2021-05-11T11:07:19.904723Z",
     "iopub.status.idle": "2021-05-11T11:07:19.907773Z",
     "shell.execute_reply": "2021-05-11T11:07:19.908465Z"
    },
    "papermill": {
     "duration": 0.045039,
     "end_time": "2021-05-11T11:07:19.908678",
     "exception": false,
     "start_time": "2021-05-11T11:07:19.863639",
     "status": "completed"
    },
    "tags": []
   },
   "outputs": [
    {
     "name": "stdout",
     "output_type": "stream",
     "text": [
      "[[    7  5997     1 ...    85     1  4424]\n",
      " [  576    37     9 ...    10    17    39]\n",
      " [ 1448    78    21 ...   308  7473    36]\n",
      " ...\n",
      " [    0     0     0 ... 26432  1755 14178]\n",
      " [    0     0     0 ...     1  3844  7760]\n",
      " [    0     0     0 ...   796     5   386]]\n"
     ]
    }
   ],
   "source": [
    "print (features[:10,:])"
   ]
  },
  {
   "cell_type": "code",
   "execution_count": 187,
   "id": "meaningful-substance",
   "metadata": {
    "execution": {
     "iopub.execute_input": "2021-05-11T11:07:19.987695Z",
     "iopub.status.busy": "2021-05-11T11:07:19.986928Z",
     "iopub.status.idle": "2021-05-11T11:07:19.989422Z",
     "shell.execute_reply": "2021-05-11T11:07:19.989811Z"
    },
    "papermill": {
     "duration": 0.043404,
     "end_time": "2021-05-11T11:07:19.989940",
     "exception": false,
     "start_time": "2021-05-11T11:07:19.946536",
     "status": "completed"
    },
    "tags": []
   },
   "outputs": [],
   "source": [
    "len_feat = len(features)\n",
    "split_frac = 0.8"
   ]
  },
  {
   "cell_type": "markdown",
   "id": "social-beatles",
   "metadata": {
    "papermill": {
     "duration": 0.037473,
     "end_time": "2021-05-11T11:07:20.063993",
     "exception": false,
     "start_time": "2021-05-11T11:07:20.026520",
     "status": "completed"
    },
    "tags": []
   },
   "source": [
    "### Training, Validation, Test Dataset Split"
   ]
  },
  {
   "cell_type": "code",
   "execution_count": null,
   "id": "a432423c",
   "metadata": {},
   "outputs": [],
   "source": [
    " "
   ]
  },
  {
   "cell_type": "code",
   "execution_count": 188,
   "id": "heated-career",
   "metadata": {
    "execution": {
     "iopub.execute_input": "2021-05-11T11:07:20.145843Z",
     "iopub.status.busy": "2021-05-11T11:07:20.144940Z",
     "iopub.status.idle": "2021-05-11T11:07:20.147894Z",
     "shell.execute_reply": "2021-05-11T11:07:20.147420Z"
    },
    "papermill": {
     "duration": 0.04703,
     "end_time": "2021-05-11T11:07:20.148011",
     "exception": false,
     "start_time": "2021-05-11T11:07:20.100981",
     "status": "completed"
    },
    "tags": []
   },
   "outputs": [],
   "source": [
    "# 45000, 4000, 1000\n",
    "split_frac = 0.9\n",
    "train_x = features[0:int(split_frac*len_feat)]\n",
    "train_y = encoded_labels[0:int(split_frac*len_feat)]\n",
    "remaining_x = features[int(split_frac*len_feat):]\n",
    "remaining_y = encoded_labels[int(split_frac*len_feat):]\n",
    "valid_x = remaining_x[0:int(len(remaining_x)*0.8)]\n",
    "valid_y = remaining_y[0:int(len(remaining_y)*0.8)]\n",
    "test_x = remaining_x[int(len(remaining_x)*0.8):]\n",
    "test_y = remaining_y[int(len(remaining_y)*0.8):]"
   ]
  },
  {
   "cell_type": "code",
   "execution_count": 189,
   "id": "prime-enforcement",
   "metadata": {
    "execution": {
     "iopub.execute_input": "2021-05-11T11:07:20.233267Z",
     "iopub.status.busy": "2021-05-11T11:07:20.232414Z",
     "iopub.status.idle": "2021-05-11T11:07:20.238451Z",
     "shell.execute_reply": "2021-05-11T11:07:20.238927Z"
    },
    "papermill": {
     "duration": 0.054626,
     "end_time": "2021-05-11T11:07:20.239085",
     "exception": false,
     "start_time": "2021-05-11T11:07:20.184459",
     "status": "completed"
    },
    "tags": []
   },
   "outputs": [
    {
     "data": {
      "text/plain": [
       "list"
      ]
     },
     "execution_count": 189,
     "metadata": {},
     "output_type": "execute_result"
    }
   ],
   "source": [
    "type(test_y)"
   ]
  },
  {
   "cell_type": "code",
   "execution_count": 190,
   "id": "smoking-conflict",
   "metadata": {
    "execution": {
     "iopub.execute_input": "2021-05-11T11:07:20.325533Z",
     "iopub.status.busy": "2021-05-11T11:07:20.324804Z",
     "iopub.status.idle": "2021-05-11T11:07:20.327125Z",
     "shell.execute_reply": "2021-05-11T11:07:20.327516Z"
    },
    "papermill": {
     "duration": 0.051267,
     "end_time": "2021-05-11T11:07:20.327656",
     "exception": false,
     "start_time": "2021-05-11T11:07:20.276389",
     "status": "completed"
    },
    "tags": []
   },
   "outputs": [],
   "source": [
    "train_y = np.array(train_y)\n",
    "test_y = np.array(test_y)\n",
    "valid_y = np.array(valid_y)"
   ]
  },
  {
   "cell_type": "markdown",
   "id": "discrete-bronze",
   "metadata": {
    "papermill": {
     "duration": 0.037118,
     "end_time": "2021-05-11T11:07:20.402040",
     "exception": false,
     "start_time": "2021-05-11T11:07:20.364922",
     "status": "completed"
    },
    "tags": []
   },
   "source": [
    "## Dataloaders and Batching"
   ]
  },
  {
   "cell_type": "code",
   "execution_count": 191,
   "id": "north-planning",
   "metadata": {
    "execution": {
     "iopub.execute_input": "2021-05-11T11:07:20.482547Z",
     "iopub.status.busy": "2021-05-11T11:07:20.481877Z",
     "iopub.status.idle": "2021-05-11T11:07:21.670480Z",
     "shell.execute_reply": "2021-05-11T11:07:21.669992Z"
    },
    "papermill": {
     "duration": 1.23133,
     "end_time": "2021-05-11T11:07:21.670609",
     "exception": false,
     "start_time": "2021-05-11T11:07:20.439279",
     "status": "completed"
    },
    "tags": []
   },
   "outputs": [],
   "source": [
    "import torch\n",
    "from torch.utils.data import DataLoader, TensorDataset\n",
    "# create Tensor datasets\n",
    "train_data = TensorDataset(torch.from_numpy(train_x), torch.from_numpy(train_y))\n",
    "valid_data = TensorDataset(torch.from_numpy(valid_x), torch.from_numpy(valid_y))\n",
    "test_data = TensorDataset(torch.from_numpy(test_x), torch.from_numpy(test_y))\n",
    "# dataloaders\n",
    "batch_size = 50\n",
    "# make sure to SHUFFLE your data\n",
    "train_loader = DataLoader(train_data, shuffle=True, batch_size=batch_size)\n",
    "valid_loader = DataLoader(valid_data, shuffle=True, batch_size=batch_size)\n",
    "test_loader = DataLoader(test_data, shuffle=True, batch_size=batch_size)"
   ]
  },
  {
   "cell_type": "code",
   "execution_count": 192,
   "id": "dominant-meditation",
   "metadata": {
    "execution": {
     "iopub.execute_input": "2021-05-11T11:07:21.754771Z",
     "iopub.status.busy": "2021-05-11T11:07:21.754217Z",
     "iopub.status.idle": "2021-05-11T11:07:21.790912Z",
     "shell.execute_reply": "2021-05-11T11:07:21.791375Z"
    },
    "papermill": {
     "duration": 0.08097,
     "end_time": "2021-05-11T11:07:21.791516",
     "exception": false,
     "start_time": "2021-05-11T11:07:21.710546",
     "status": "completed"
    },
    "tags": []
   },
   "outputs": [
    {
     "name": "stdout",
     "output_type": "stream",
     "text": [
      "Sample input size:  torch.Size([50, 200])\n",
      "Sample input: \n",
      " tensor([[    0,     0,     0,  ...,    93,  1522, 14401],\n",
      "        [   10,     6,    28,  ...,  7412,   283,     1],\n",
      "        [    1,   728,   448,  ...,    28,  1895,  2593],\n",
      "        ...,\n",
      "        [    9,   201,    10,  ...,    29,    98,     2],\n",
      "        [    0,     0,     0,  ...,    45,     4,   298],\n",
      "        [    0,     0,     0,  ...,    13,    40,  1154]])\n",
      "\n",
      "Sample label size:  torch.Size([50])\n",
      "Sample label: \n",
      " tensor([0, 1, 0, 1, 0, 0, 1, 1, 0, 0, 0, 1, 1, 1, 0, 0, 0, 0, 0, 0, 0, 0, 0, 0,\n",
      "        1, 0, 1, 0, 1, 1, 1, 1, 0, 0, 0, 0, 1, 0, 0, 1, 1, 1, 0, 0, 1, 1, 1, 1,\n",
      "        1, 0])\n"
     ]
    }
   ],
   "source": [
    "# obtain one batch of training data\n",
    "dataiter = iter(train_loader)\n",
    "sample_x, sample_y = dataiter.next()\n",
    "print('Sample input size: ', sample_x.size()) # batch_size, seq_length\n",
    "print('Sample input: \\n', sample_x)\n",
    "print()\n",
    "print('Sample label size: ', sample_y.size()) # batch_size\n",
    "print('Sample label: \\n', sample_y)"
   ]
  },
  {
   "cell_type": "markdown",
   "id": "empty-detective",
   "metadata": {
    "papermill": {
     "duration": 0.03763,
     "end_time": "2021-05-11T11:07:21.866713",
     "exception": false,
     "start_time": "2021-05-11T11:07:21.829083",
     "status": "completed"
    },
    "tags": []
   },
   "source": [
    "## Define the LSTM Network Architecture\n"
   ]
  },
  {
   "cell_type": "code",
   "execution_count": 193,
   "id": "nominated-corruption",
   "metadata": {
    "execution": {
     "iopub.execute_input": "2021-05-11T11:07:21.955378Z",
     "iopub.status.busy": "2021-05-11T11:07:21.954608Z",
     "iopub.status.idle": "2021-05-11T11:07:21.957346Z",
     "shell.execute_reply": "2021-05-11T11:07:21.956897Z"
    },
    "papermill": {
     "duration": 0.052943,
     "end_time": "2021-05-11T11:07:21.957457",
     "exception": false,
     "start_time": "2021-05-11T11:07:21.904514",
     "status": "completed"
    },
    "tags": []
   },
   "outputs": [],
   "source": [
    "import torch.nn as nn\n",
    "\n",
    "class SentimentLSTM(nn.Module):\n",
    "    \"\"\"\n",
    "    The RNN model that will be used to perform Sentiment analysis.\n",
    "    \"\"\"\n",
    "\n",
    "    def __init__(self, vocab_size, output_size, embedding_dim, hidden_dim, n_layers, drop_prob=0.5):\n",
    "        \"\"\"\n",
    "        Initialize the model by setting up the layers.\n",
    "        \"\"\"\n",
    "        super().__init__()\n",
    "\n",
    "        self.output_size = output_size\n",
    "        self.n_layers = n_layers\n",
    "        self.hidden_dim = hidden_dim\n",
    "        \n",
    "        # embedding and LSTM layers\n",
    "        self.embedding = nn.Embedding(vocab_size, embedding_dim)\n",
    "        self.lstm = nn.LSTM(embedding_dim, hidden_dim, n_layers, \n",
    "                            dropout=drop_prob, batch_first=True)\n",
    "        \n",
    "        # dropout layer\n",
    "        self.dropout = nn.Dropout(0.3)\n",
    "        \n",
    "        # linear and sigmoid layers\n",
    "        self.fc = nn.Linear(hidden_dim, output_size)\n",
    "        self.sig = nn.Sigmoid()\n",
    "        \n",
    "\n",
    "    def forward(self, x, hidden):\n",
    "        \"\"\"\n",
    "        Perform a forward pass of our model on some input and hidden state.\n",
    "        \"\"\"\n",
    "        batch_size = x.size(0)\n",
    "\n",
    "        # embeddings and lstm_out\n",
    "        embeds = self.embedding(x)\n",
    "        lstm_out, hidden = self.lstm(embeds, hidden)\n",
    "    \n",
    "        # stack up lstm outputs\n",
    "        lstm_out = lstm_out.contiguous().view(-1, self.hidden_dim)\n",
    "        \n",
    "        # dropout and fully-connected layer\n",
    "        out = self.dropout(lstm_out)\n",
    "        out = self.fc(out)\n",
    "        # sigmoid function\n",
    "        sig_out = self.sig(out)\n",
    "        \n",
    "        # reshape to be batch_size first\n",
    "        sig_out = sig_out.view(batch_size, -1)\n",
    "        sig_out = sig_out[:, -1] # get last batch of labels\n",
    "        \n",
    "        # return last sigmoid output and hidden state\n",
    "        return sig_out, hidden\n",
    "    \n",
    "    \n",
    "    def init_hidden(self, batch_size):\n",
    "        ''' Initializes hidden state '''\n",
    "        # Create two new tensors with sizes n_layers x batch_size x hidden_dim,\n",
    "        # initialized to zero, for hidden state and cell state of LSTM\n",
    "        weight = next(self.parameters()).data\n",
    "        \n",
    "        if (train_on_gpu):\n",
    "            hidden = (weight.new(self.n_layers, batch_size, self.hidden_dim).zero_().cuda(),\n",
    "                  weight.new(self.n_layers, batch_size, self.hidden_dim).zero_().cuda())\n",
    "        else:\n",
    "            hidden = (weight.new(self.n_layers, batch_size, self.hidden_dim).zero_(),\n",
    "                      weight.new(self.n_layers, batch_size, self.hidden_dim).zero_())\n",
    "        \n",
    "        return hidden\n",
    "        "
   ]
  },
  {
   "cell_type": "markdown",
   "id": "finite-interim",
   "metadata": {
    "papermill": {
     "duration": 0.038079,
     "end_time": "2021-05-11T11:07:22.033620",
     "exception": false,
     "start_time": "2021-05-11T11:07:21.995541",
     "status": "completed"
    },
    "tags": []
   },
   "source": [
    "## Training the Network"
   ]
  },
  {
   "cell_type": "markdown",
   "id": "verbal-oklahoma",
   "metadata": {
    "papermill": {
     "duration": 0.03766,
     "end_time": "2021-05-11T11:07:22.108988",
     "exception": false,
     "start_time": "2021-05-11T11:07:22.071328",
     "status": "completed"
    },
    "tags": []
   },
   "source": [
    "## Instantiate the network"
   ]
  },
  {
   "cell_type": "code",
   "execution_count": 194,
   "id": "engaging-approval",
   "metadata": {
    "execution": {
     "iopub.execute_input": "2021-05-11T11:07:22.190384Z",
     "iopub.status.busy": "2021-05-11T11:07:22.189836Z",
     "iopub.status.idle": "2021-05-11T11:07:23.457621Z",
     "shell.execute_reply": "2021-05-11T11:07:23.458284Z"
    },
    "papermill": {
     "duration": 1.310603,
     "end_time": "2021-05-11T11:07:23.458497",
     "exception": false,
     "start_time": "2021-05-11T11:07:22.147894",
     "status": "completed"
    },
    "tags": []
   },
   "outputs": [
    {
     "name": "stdout",
     "output_type": "stream",
     "text": [
      "SentimentLSTM(\n",
      "  (embedding): Embedding(181686, 400)\n",
      "  (lstm): LSTM(400, 256, num_layers=2, batch_first=True, dropout=0.5)\n",
      "  (dropout): Dropout(p=0.3, inplace=False)\n",
      "  (fc): Linear(in_features=256, out_features=1, bias=True)\n",
      "  (sig): Sigmoid()\n",
      ")\n"
     ]
    }
   ],
   "source": [
    "# Instantiate the model w/ hyperparams\n",
    "vocab_size = len(vocab_to_int)+1 # +1 for the 0 padding\n",
    "output_size = 1\n",
    "embedding_dim = 400\n",
    "hidden_dim = 256\n",
    "n_layers = 2\n",
    "net = SentimentLSTM(vocab_size, output_size, embedding_dim, hidden_dim, n_layers)\n",
    "\n",
    "print(net)"
   ]
  },
  {
   "cell_type": "code",
   "execution_count": 195,
   "id": "loved-assignment",
   "metadata": {
    "execution": {
     "iopub.execute_input": "2021-05-11T11:07:24.019143Z",
     "iopub.status.busy": "2021-05-11T11:07:24.018481Z",
     "iopub.status.idle": "2021-05-11T11:07:24.022662Z",
     "shell.execute_reply": "2021-05-11T11:07:24.022239Z"
    },
    "papermill": {
     "duration": 0.525349,
     "end_time": "2021-05-11T11:07:24.022783",
     "exception": false,
     "start_time": "2021-05-11T11:07:23.497434",
     "status": "completed"
    },
    "tags": []
   },
   "outputs": [
    {
     "name": "stdout",
     "output_type": "stream",
     "text": [
      "Training on GPU.\n"
     ]
    }
   ],
   "source": [
    "# First checking if GPU is available\n",
    "train_on_gpu=torch.cuda.is_available()\n",
    "\n",
    "if(train_on_gpu):\n",
    "    print('Training on GPU.')\n",
    "else:\n",
    "    print('No GPU available, training on CPU.')"
   ]
  },
  {
   "cell_type": "markdown",
   "id": "neutral-street",
   "metadata": {
    "papermill": {
     "duration": 0.038801,
     "end_time": "2021-05-11T11:07:24.100460",
     "exception": false,
     "start_time": "2021-05-11T11:07:24.061659",
     "status": "completed"
    },
    "tags": []
   },
   "source": [
    "## Training Loop\n",
    "Most of the code in training loop is pretty standard Deep Learning training code that you might see often in all the implementations that’s using PyTorch framework."
   ]
  },
  {
   "cell_type": "code",
   "execution_count": 196,
   "id": "radio-party",
   "metadata": {
    "execution": {
     "iopub.execute_input": "2021-05-11T11:07:24.183035Z",
     "iopub.status.busy": "2021-05-11T11:07:24.182529Z",
     "iopub.status.idle": "2021-05-11T11:07:24.185780Z",
     "shell.execute_reply": "2021-05-11T11:07:24.186690Z"
    },
    "papermill": {
     "duration": 0.046974,
     "end_time": "2021-05-11T11:07:24.186847",
     "exception": false,
     "start_time": "2021-05-11T11:07:24.139873",
     "status": "completed"
    },
    "tags": []
   },
   "outputs": [],
   "source": [
    "# loss and optimization functions\n",
    "lr=0.001\n",
    "\n",
    "criterion = nn.BCELoss()\n",
    "optimizer = torch.optim.Adam(net.parameters(), lr=lr)"
   ]
  },
  {
   "cell_type": "code",
   "execution_count": 197,
   "id": "medieval-tampa",
   "metadata": {
    "execution": {
     "iopub.execute_input": "2021-05-11T11:07:24.324876Z",
     "iopub.status.busy": "2021-05-11T11:07:24.323272Z",
     "iopub.status.idle": "2021-05-11T11:11:02.165714Z",
     "shell.execute_reply": "2021-05-11T11:11:02.166336Z"
    },
    "papermill": {
     "duration": 217.934012,
     "end_time": "2021-05-11T11:11:02.166541",
     "exception": false,
     "start_time": "2021-05-11T11:07:24.232529",
     "status": "completed"
    },
    "tags": []
   },
   "outputs": [
    {
     "name": "stdout",
     "output_type": "stream",
     "text": [
      "Epoch: 1/4... Step: 100... Loss: 0.538158... Val Loss: 0.644520\n",
      "Epoch: 1/4... Step: 200... Loss: 0.604442... Val Loss: 0.745335\n",
      "Epoch: 1/4... Step: 300... Loss: 0.666734... Val Loss: 0.661724\n",
      "Epoch: 1/4... Step: 400... Loss: 0.593951... Val Loss: 0.586811\n",
      "Epoch: 1/4... Step: 500... Loss: 0.703097... Val Loss: 0.588787\n",
      "Epoch: 1/4... Step: 600... Loss: 0.435450... Val Loss: 0.517556\n",
      "Epoch: 1/4... Step: 700... Loss: 0.426830... Val Loss: 0.510345\n",
      "Epoch: 1/4... Step: 800... Loss: 0.388835... Val Loss: 0.453349\n",
      "Epoch: 1/4... Step: 900... Loss: 0.606141... Val Loss: 0.427082\n",
      "Epoch: 2/4... Step: 1000... Loss: 0.370926... Val Loss: 0.491522\n",
      "Epoch: 2/4... Step: 1100... Loss: 0.302783... Val Loss: 0.419146\n",
      "Epoch: 2/4... Step: 1200... Loss: 0.457868... Val Loss: 0.383495\n",
      "Epoch: 2/4... Step: 1300... Loss: 0.291203... Val Loss: 0.406486\n",
      "Epoch: 2/4... Step: 1400... Loss: 0.351812... Val Loss: 0.389575\n",
      "Epoch: 2/4... Step: 1500... Loss: 0.398371... Val Loss: 0.353847\n",
      "Epoch: 2/4... Step: 1600... Loss: 0.445780... Val Loss: 0.362714\n",
      "Epoch: 2/4... Step: 1700... Loss: 0.320759... Val Loss: 0.344963\n",
      "Epoch: 2/4... Step: 1800... Loss: 0.323443... Val Loss: 0.344905\n",
      "Epoch: 3/4... Step: 1900... Loss: 0.218106... Val Loss: 0.420578\n",
      "Epoch: 3/4... Step: 2000... Loss: 0.179796... Val Loss: 0.375505\n",
      "Epoch: 3/4... Step: 2100... Loss: 0.282025... Val Loss: 0.366042\n",
      "Epoch: 3/4... Step: 2200... Loss: 0.093844... Val Loss: 0.342440\n",
      "Epoch: 3/4... Step: 2300... Loss: 0.149315... Val Loss: 0.352438\n",
      "Epoch: 3/4... Step: 2400... Loss: 0.183414... Val Loss: 0.365507\n",
      "Epoch: 3/4... Step: 2500... Loss: 0.183893... Val Loss: 0.341541\n",
      "Epoch: 3/4... Step: 2600... Loss: 0.212724... Val Loss: 0.344656\n",
      "Epoch: 3/4... Step: 2700... Loss: 0.136591... Val Loss: 0.339551\n",
      "Epoch: 4/4... Step: 2800... Loss: 0.095054... Val Loss: 0.394678\n",
      "Epoch: 4/4... Step: 2900... Loss: 0.139416... Val Loss: 0.389760\n",
      "Epoch: 4/4... Step: 3000... Loss: 0.235292... Val Loss: 0.417827\n",
      "Epoch: 4/4... Step: 3100... Loss: 0.076720... Val Loss: 0.394848\n",
      "Epoch: 4/4... Step: 3200... Loss: 0.186769... Val Loss: 0.456097\n",
      "Epoch: 4/4... Step: 3300... Loss: 0.063297... Val Loss: 0.429254\n",
      "Epoch: 4/4... Step: 3400... Loss: 0.100914... Val Loss: 0.376911\n",
      "Epoch: 4/4... Step: 3500... Loss: 0.132759... Val Loss: 0.372495\n",
      "Epoch: 4/4... Step: 3600... Loss: 0.145859... Val Loss: 0.391556\n"
     ]
    }
   ],
   "source": [
    "# training params\n",
    "\n",
    "epochs = 4 # 3-4 is approx where I noticed the validation loss stop decreasing\n",
    "\n",
    "counter = 0\n",
    "print_every = 100\n",
    "clip=5 # gradient clipping\n",
    "\n",
    "# move model to GPU, if available\n",
    "if(train_on_gpu):\n",
    "    net.cuda()\n",
    "\n",
    "net.train()\n",
    "# train for some number of epochs\n",
    "for e in range(epochs):\n",
    "    # initialize hidden state\n",
    "    h = net.init_hidden(batch_size)\n",
    "\n",
    "    # batch loop\n",
    "    for inputs, labels in train_loader:\n",
    "        counter += 1\n",
    "        #print(counter)\n",
    "\n",
    "        if(train_on_gpu):\n",
    "            inputs, labels = inputs.cuda(), labels.cuda()\n",
    "\n",
    "        # Creating new variables for the hidden state, otherwise\n",
    "        # we'd backprop through the entire training history\n",
    "        h = tuple([each.data for each in h])\n",
    "\n",
    "        # zero accumulated gradients\n",
    "        net.zero_grad()\n",
    "\n",
    "        # get the output from the model\n",
    "        output, h = net(inputs, h)\n",
    "\n",
    "        # calculate the loss and perform backprop\n",
    "        loss = criterion(output.squeeze(), labels.float())\n",
    "        loss.backward()\n",
    "        # `clip_grad_norm` helps prevent the exploding gradient problem in RNNs / LSTMs.\n",
    "        nn.utils.clip_grad_norm_(net.parameters(), clip)\n",
    "        optimizer.step()\n",
    "\n",
    "        # loss stats\n",
    "        if counter % print_every == 0:\n",
    "            # Get validation loss\n",
    "            val_h = net.init_hidden(batch_size)\n",
    "            val_losses = []\n",
    "            net.eval()\n",
    "            for inputs, labels in valid_loader:\n",
    "\n",
    "                # Creating new variables for the hidden state, otherwise\n",
    "                # we'd backprop through the entire training history\n",
    "                val_h = tuple([each.data for each in val_h])\n",
    "\n",
    "                if(train_on_gpu):\n",
    "                    inputs, labels = inputs.cuda(), labels.cuda()\n",
    "\n",
    "                output, val_h = net(inputs, val_h)\n",
    "                val_loss = criterion(output.squeeze(), labels.float())\n",
    "\n",
    "                val_losses.append(val_loss.item())\n",
    "\n",
    "            net.train()\n",
    "            print(\"Epoch: {}/{}...\".format(e+1, epochs),\n",
    "                  \"Step: {}...\".format(counter),\n",
    "                  \"Loss: {:.6f}...\".format(loss.item()),\n",
    "                  \"Val Loss: {:.6f}\".format(np.mean(val_losses)))"
   ]
  },
  {
   "cell_type": "markdown",
   "id": "elegant-concord",
   "metadata": {
    "papermill": {
     "duration": 0.046758,
     "end_time": "2021-05-11T11:11:02.262502",
     "exception": false,
     "start_time": "2021-05-11T11:11:02.215744",
     "status": "completed"
    },
    "tags": []
   },
   "source": [
    "### Testing\n",
    "- On Test Data"
   ]
  },
  {
   "cell_type": "code",
   "execution_count": 216,
   "id": "modern-crack",
   "metadata": {
    "execution": {
     "iopub.execute_input": "2021-05-11T11:11:02.364729Z",
     "iopub.status.busy": "2021-05-11T11:11:02.363961Z",
     "iopub.status.idle": "2021-05-11T11:11:03.592287Z",
     "shell.execute_reply": "2021-05-11T11:11:03.592972Z"
    },
    "papermill": {
     "duration": 1.283659,
     "end_time": "2021-05-11T11:11:03.593198",
     "exception": false,
     "start_time": "2021-05-11T11:11:02.309539",
     "status": "completed"
    },
    "tags": []
   },
   "outputs": [
    {
     "name": "stdout",
     "output_type": "stream",
     "text": [
      "Test loss: 0.374\n",
      "Test accuracy: 0.854\n"
     ]
    }
   ],
   "source": [
    "# Get test data loss and accuracy\n",
    "\n",
    "test_losses = [] # track loss\n",
    "num_correct = 0\n",
    "\n",
    "\n",
    "true_list = []\n",
    "pred_list = []\n",
    "prob_list = []\n",
    "\n",
    "# init hidden state\n",
    "h = net.init_hidden(batch_size)\n",
    "\n",
    "net.eval()\n",
    "# iterate over test data\n",
    "for inputs, labels in test_loader:\n",
    "\n",
    "    # Creating new variables for the hidden state, otherwise\n",
    "    # we'd backprop through the entire training history\n",
    "    h = tuple([each.data for each in h])\n",
    "\n",
    "    if(train_on_gpu):\n",
    "        inputs, labels = inputs.cuda(), labels.cuda()\n",
    "    \n",
    "    \n",
    "    # get predicted outputs\n",
    "    output, h = net(inputs, h)\n",
    "    \n",
    "    # calculate loss\n",
    "    test_loss = criterion(output.squeeze(), labels.float())\n",
    "    test_losses.append(test_loss.item())\n",
    "    \n",
    "    # convert output probabilities to predicted class (0 or 1)\n",
    "    pred = torch.round(output.squeeze())  # rounds to the nearest integer\n",
    "    \n",
    "    true_list.extend(list(labels.cpu().numpy()))\n",
    "    pred_list.extend(list(pred.cpu().detach().numpy().astype(int)))\n",
    "    prob_list.extend(list(output.cpu().detach().numpy()))\n",
    "    \n",
    "    # compare predictions to true label\n",
    "    correct_tensor = pred.eq(labels.float().view_as(pred))\n",
    "    correct = np.squeeze(correct_tensor.numpy()) if not train_on_gpu else np.squeeze(correct_tensor.cpu().numpy())\n",
    "    num_correct += np.sum(correct)\n",
    "\n",
    "\n",
    "# -- stats! -- ##\n",
    "# avg test loss\n",
    "print(\"Test loss: {:.3f}\".format(np.mean(test_losses)))\n",
    "\n",
    "# accuracy over all test data\n",
    "test_acc = num_correct/len(test_loader.dataset)\n",
    "print(\"Test accuracy: {:.3f}\".format(test_acc))"
   ]
  },
  {
   "cell_type": "markdown",
   "id": "787c2315",
   "metadata": {},
   "source": [
    "### Classification report"
   ]
  },
  {
   "cell_type": "code",
   "execution_count": 226,
   "id": "a73991a7",
   "metadata": {},
   "outputs": [
    {
     "name": "stdout",
     "output_type": "stream",
     "text": [
      "              precision    recall  f1-score   support\n",
      "\n",
      "           0      0.826     0.890     0.857       492\n",
      "           1      0.885     0.819     0.851       508\n",
      "\n",
      "    accuracy                          0.854      1000\n",
      "   macro avg      0.856     0.855     0.854      1000\n",
      "weighted avg      0.856     0.854     0.854      1000\n",
      "\n"
     ]
    }
   ],
   "source": [
    "from sklearn.metrics import classification_report\n",
    "\n",
    "print(classification_report(true_list, pred_list, digits=3))"
   ]
  },
  {
   "cell_type": "code",
   "execution_count": 225,
   "id": "58c7ded5",
   "metadata": {},
   "outputs": [
    {
     "name": "stdout",
     "output_type": "stream",
     "text": [
      "Area under ROC curve: 0.9386282888419437\n",
      "Area under PR curve: 0.9429526116580114\n"
     ]
    }
   ],
   "source": [
    "from sklearn import metrics\n",
    "fpr, tpr, thresholds = metrics.roc_curve(true_list, prob_list, pos_label=1)\n",
    "auroc = metrics.auc(fpr, tpr)\n",
    "print(\"Area under ROC curve:\", auroc)\n",
    "\n",
    "pr, re, thresholds = metrics.precision_recall_curve(true_list, prob_list, pos_label=1)\n",
    "auprc = metrics.auc(re, pr)\n",
    "print(\"Area under PR curve:\", auprc)"
   ]
  },
  {
   "cell_type": "markdown",
   "id": "heavy-presentation",
   "metadata": {
    "papermill": {
     "duration": 0.049479,
     "end_time": "2021-05-11T11:11:03.693643",
     "exception": false,
     "start_time": "2021-05-11T11:11:03.644164",
     "status": "completed"
    },
    "tags": []
   },
   "source": [
    "### On User-generated Data\n",
    "First, we will define a tokenize function that will take care of pre-processing steps and then we will create a predict function that will give us the final output after parsing the user provided review.\n"
   ]
  },
  {
   "cell_type": "code",
   "execution_count": 199,
   "id": "contemporary-fifth",
   "metadata": {
    "execution": {
     "iopub.execute_input": "2021-05-11T11:11:03.794132Z",
     "iopub.status.busy": "2021-05-11T11:11:03.793282Z",
     "iopub.status.idle": "2021-05-11T11:11:03.796089Z",
     "shell.execute_reply": "2021-05-11T11:11:03.795688Z"
    },
    "papermill": {
     "duration": 0.054349,
     "end_time": "2021-05-11T11:11:03.796218",
     "exception": false,
     "start_time": "2021-05-11T11:11:03.741869",
     "status": "completed"
    },
    "tags": []
   },
   "outputs": [],
   "source": [
    "# negative test review\n",
    "test_review_neg = 'The worst movie I have seen; acting was terrible and I want my money back. This movie had bad acting and the dialogue was slow.'"
   ]
  },
  {
   "cell_type": "code",
   "execution_count": 200,
   "id": "offensive-humanitarian",
   "metadata": {
    "execution": {
     "iopub.execute_input": "2021-05-11T11:11:03.898434Z",
     "iopub.status.busy": "2021-05-11T11:11:03.897559Z",
     "iopub.status.idle": "2021-05-11T11:11:03.900248Z",
     "shell.execute_reply": "2021-05-11T11:11:03.899681Z"
    },
    "papermill": {
     "duration": 0.056187,
     "end_time": "2021-05-11T11:11:03.900364",
     "exception": false,
     "start_time": "2021-05-11T11:11:03.844177",
     "status": "completed"
    },
    "tags": []
   },
   "outputs": [],
   "source": [
    "def preprocess(review, vocab_to_int):\n",
    "    review = review.lower()\n",
    "    word_list = review.split()\n",
    "    num_list = []\n",
    "    #list of reviews\n",
    "    #though it contains only one review as of now\n",
    "    reviews_int = []\n",
    "    for word in word_list:\n",
    "        if word in vocab_to_int.keys():\n",
    "            num_list.append(vocab_to_int[word])\n",
    "    reviews_int.append(num_list)\n",
    "    return reviews_int"
   ]
  },
  {
   "cell_type": "code",
   "execution_count": 201,
   "id": "abandoned-maryland",
   "metadata": {
    "execution": {
     "iopub.execute_input": "2021-05-11T11:11:04.003841Z",
     "iopub.status.busy": "2021-05-11T11:11:04.002843Z",
     "iopub.status.idle": "2021-05-11T11:11:04.005566Z",
     "shell.execute_reply": "2021-05-11T11:11:04.005163Z"
    },
    "papermill": {
     "duration": 0.057158,
     "end_time": "2021-05-11T11:11:04.005678",
     "exception": false,
     "start_time": "2021-05-11T11:11:03.948520",
     "status": "completed"
    },
    "tags": []
   },
   "outputs": [],
   "source": [
    "def predict(net, test_review, sequence_length=200):\n",
    "    ''' Prints out whether a give review is predicted to be \n",
    "        positive or negative in sentiment, using a trained model.\n",
    "        \n",
    "        params:\n",
    "        net - A trained net \n",
    "        test_review - a review made of normal text and punctuation\n",
    "        sequence_length - the padded length of a review\n",
    "        '''\n",
    "    #change the reviews to sequence of integers\n",
    "    int_rev = preprocess(test_review, vocab_to_int)\n",
    "    #pad the reviews as per the sequence length of the feature\n",
    "    features = pad_features(int_rev, seq_length=seq_length)\n",
    "    \n",
    "    #changing the features to PyTorch tensor\n",
    "    features = torch.from_numpy(features)\n",
    "    \n",
    "    #pass the features to the model to get prediction\n",
    "    net.eval()\n",
    "    val_h = net.init_hidden(1)\n",
    "    val_h = tuple([each.data for each in val_h])\n",
    "\n",
    "    if(train_on_gpu):\n",
    "        features = features.cuda()\n",
    "\n",
    "    output, val_h = net(features, val_h)\n",
    "    \n",
    "    #rounding the output to nearest 0 or 1\n",
    "    pred = torch.round(output)\n",
    "    \n",
    "    #mapping the numeric values to postive or negative\n",
    "    output = [\"Positive\" if pred.item() == 1 else \"Negative\"]\n",
    "    \n",
    "    # print custom response based on whether test_review is pos/neg\n",
    "    print(output)"
   ]
  },
  {
   "cell_type": "code",
   "execution_count": 202,
   "id": "coated-postcard",
   "metadata": {
    "execution": {
     "iopub.execute_input": "2021-05-11T11:11:04.105721Z",
     "iopub.status.busy": "2021-05-11T11:11:04.104716Z",
     "iopub.status.idle": "2021-05-11T11:11:04.107534Z",
     "shell.execute_reply": "2021-05-11T11:11:04.107000Z"
    },
    "papermill": {
     "duration": 0.054021,
     "end_time": "2021-05-11T11:11:04.107640",
     "exception": false,
     "start_time": "2021-05-11T11:11:04.053619",
     "status": "completed"
    },
    "tags": []
   },
   "outputs": [],
   "source": [
    "# positive test review\n",
    "test_review_pos = 'This movie had the best acting and the dialogue was so good. I loved it.'"
   ]
  },
  {
   "cell_type": "code",
   "execution_count": 203,
   "id": "dimensional-horizon",
   "metadata": {
    "execution": {
     "iopub.execute_input": "2021-05-11T11:11:04.208725Z",
     "iopub.status.busy": "2021-05-11T11:11:04.207934Z",
     "iopub.status.idle": "2021-05-11T11:11:04.228275Z",
     "shell.execute_reply": "2021-05-11T11:11:04.227508Z"
    },
    "papermill": {
     "duration": 0.072272,
     "end_time": "2021-05-11T11:11:04.228444",
     "exception": false,
     "start_time": "2021-05-11T11:11:04.156172",
     "status": "completed"
    },
    "tags": []
   },
   "outputs": [
    {
     "name": "stdout",
     "output_type": "stream",
     "text": [
      "['Positive']\n"
     ]
    }
   ],
   "source": [
    "# call function\n",
    "# try negative and positive reviews!\n",
    "seq_length=200\n",
    "predict(net, test_review_pos, seq_length)"
   ]
  }
 ],
 "metadata": {
  "kernelspec": {
   "display_name": "Python 3",
   "language": "python",
   "name": "python3"
  },
  "language_info": {
   "codemirror_mode": {
    "name": "ipython",
    "version": 3
   },
   "file_extension": ".py",
   "mimetype": "text/x-python",
   "name": "python",
   "nbconvert_exporter": "python",
   "pygments_lexer": "ipython3",
   "version": "3.9.18"
  },
  "papermill": {
   "default_parameters": {},
   "duration": 253.966236,
   "end_time": "2021-05-11T11:11:07.205562",
   "environment_variables": {},
   "exception": null,
   "input_path": "__notebook__.ipynb",
   "output_path": "__notebook__.ipynb",
   "parameters": {},
   "start_time": "2021-05-11T11:06:53.239326",
   "version": "2.3.3"
  }
 },
 "nbformat": 4,
 "nbformat_minor": 5
}
